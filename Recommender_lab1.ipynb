{
  "cells": [
    {
      "cell_type": "markdown",
      "metadata": {
        "id": "wbC7lslbIYLi"
      },
      "source": [
        "- This workshop should be done groups of 2 as much as possible\n",
        "- The report should be a pdf export of this notebook (no `.pynb` or `.html`)"
      ],
      "id": "wbC7lslbIYLi"
    },
    {
      "cell_type": "markdown",
      "source": [
        "**Arthors: Chenxi Deng**"
      ],
      "metadata": {
        "id": "-nImhE5HJx8r"
      },
      "id": "-nImhE5HJx8r"
    },
    {
      "cell_type": "markdown",
      "metadata": {
        "id": "d_qJ2jq4IYLk"
      },
      "source": [
        "# Content Based Recommendantion"
      ],
      "id": "d_qJ2jq4IYLk"
    },
    {
      "cell_type": "code",
      "execution_count": null,
      "metadata": {
        "id": "xSpzMbGmIYLk"
      },
      "outputs": [],
      "source": [
        "from IPython.core.display import HTML\n",
        "import matplotlib.pyplot as plt\n",
        "HTML(\"\"\" \n",
        "<style>\n",
        ".output_png {\n",
        "    display: table-cell;\n",
        "    text-align: center;\n",
        "    vertical-align: middle;\n",
        "}\n",
        "</style>\n",
        "\"\"\")\n",
        "\n",
        "plt.rcParams[\"figure.figsize\"] = (20, 10)"
      ],
      "id": "xSpzMbGmIYLk"
    },
    {
      "cell_type": "code",
      "source": [
        "import warnings\n",
        "warnings.filterwarnings(\"ignore\")"
      ],
      "metadata": {
        "id": "a-wIKVMH63l5"
      },
      "id": "a-wIKVMH63l5",
      "execution_count": null,
      "outputs": []
    },
    {
      "cell_type": "markdown",
      "metadata": {
        "id": "Rj_IuAMVIYLl"
      },
      "source": [
        "<div>\n",
        "<img src=\"https://miro.medium.com/max/2400/1*BME1JjIlBEAI9BV5pOO5Mg.png\" width=\"300\"/>\n",
        "</div>"
      ],
      "id": "Rj_IuAMVIYLl"
    },
    {
      "cell_type": "markdown",
      "metadata": {
        "id": "ZJtwY-okIYLl"
      },
      "source": [
        "## The data"
      ],
      "id": "ZJtwY-okIYLl"
    },
    {
      "cell_type": "markdown",
      "metadata": {
        "id": "J75NGpXGIYLl"
      },
      "source": [
        "The data comes from imdb. It contains movie titles `title`, associated with their description, cast and director's name, all in a single column called `combined`."
      ],
      "id": "J75NGpXGIYLl"
    },
    {
      "cell_type": "code",
      "source": [
        "from google.colab import drive\n",
        "drive.mount('/content/drive')\n",
        "\n",
        "filepath =\"/content/drive/MyDrive/IP_Paris_Class_P2/High_dimension/Recommender\""
      ],
      "metadata": {
        "id": "RcRxWZMJIn5l",
        "colab": {
          "base_uri": "https://localhost:8080/"
        },
        "outputId": "23aabb3b-4fdb-469b-8cbe-b08581fd9f35"
      },
      "id": "RcRxWZMJIn5l",
      "execution_count": null,
      "outputs": [
        {
          "output_type": "stream",
          "name": "stdout",
          "text": [
            "Drive already mounted at /content/drive; to attempt to forcibly remount, call drive.mount(\"/content/drive\", force_remount=True).\n"
          ]
        }
      ]
    },
    {
      "cell_type": "code",
      "source": [
        "import os\n",
        "os.chdir(filepath)"
      ],
      "metadata": {
        "id": "g796m0wnI_hy"
      },
      "id": "g796m0wnI_hy",
      "execution_count": null,
      "outputs": []
    },
    {
      "cell_type": "code",
      "execution_count": null,
      "metadata": {
        "id": "QtXntTNAIYLm"
      },
      "outputs": [],
      "source": [
        "import pickle\n",
        "import pandas as pd\n",
        "with open('data/movies_db.pkl','rb') as f:\n",
        "    movie_database = pd.DataFrame(pickle.load(f))[['title', 'combined']]"
      ],
      "id": "QtXntTNAIYLm"
    },
    {
      "cell_type": "code",
      "execution_count": null,
      "metadata": {
        "colab": {
          "base_uri": "https://localhost:8080/",
          "height": 424
        },
        "id": "IPhCIvKaIYLm",
        "outputId": "1d1efc1b-3a45-48df-b46e-26428f113e48"
      },
      "outputs": [
        {
          "output_type": "execute_result",
          "data": {
            "text/html": [
              "\n",
              "  <div id=\"df-1e628e29-6791-4efb-b0d4-44a0b456b79b\">\n",
              "    <div class=\"colab-df-container\">\n",
              "      <div>\n",
              "<style scoped>\n",
              "    .dataframe tbody tr th:only-of-type {\n",
              "        vertical-align: middle;\n",
              "    }\n",
              "\n",
              "    .dataframe tbody tr th {\n",
              "        vertical-align: top;\n",
              "    }\n",
              "\n",
              "    .dataframe thead th {\n",
              "        text-align: right;\n",
              "    }\n",
              "</style>\n",
              "<table border=\"1\" class=\"dataframe\">\n",
              "  <thead>\n",
              "    <tr style=\"text-align: right;\">\n",
              "      <th></th>\n",
              "      <th>title</th>\n",
              "      <th>combined</th>\n",
              "    </tr>\n",
              "  </thead>\n",
              "  <tbody>\n",
              "    <tr>\n",
              "      <th>0</th>\n",
              "      <td>Avatar</td>\n",
              "      <td>in the 22nd century, a paraplegic marine is di...</td>\n",
              "    </tr>\n",
              "    <tr>\n",
              "      <th>1</th>\n",
              "      <td>Pirates of the Caribbean: At World's End</td>\n",
              "      <td>captain barbossa, long believed to be dead, ha...</td>\n",
              "    </tr>\n",
              "    <tr>\n",
              "      <th>2</th>\n",
              "      <td>Spectre</td>\n",
              "      <td>a cryptic message from bond’s past sends him o...</td>\n",
              "    </tr>\n",
              "    <tr>\n",
              "      <th>3</th>\n",
              "      <td>The Dark Knight Rises</td>\n",
              "      <td>following the death of district attorney harve...</td>\n",
              "    </tr>\n",
              "    <tr>\n",
              "      <th>4</th>\n",
              "      <td>John Carter</td>\n",
              "      <td>john carter is a war-weary, former military ca...</td>\n",
              "    </tr>\n",
              "    <tr>\n",
              "      <th>...</th>\n",
              "      <td>...</td>\n",
              "      <td>...</td>\n",
              "    </tr>\n",
              "    <tr>\n",
              "      <th>5994</th>\n",
              "      <td>Freaks Out</td>\n",
              "      <td>matilde, cencio, fulvio and mario are family w...</td>\n",
              "    </tr>\n",
              "    <tr>\n",
              "      <th>5995</th>\n",
              "      <td>The Obscure Life of the Grand Duke of Corsica</td>\n",
              "      <td>in 1221 a young man is set on his path to beco...</td>\n",
              "    </tr>\n",
              "    <tr>\n",
              "      <th>5996</th>\n",
              "      <td>Son</td>\n",
              "      <td>when a young boy contracts a mysterious illnes...</td>\n",
              "    </tr>\n",
              "    <tr>\n",
              "      <th>5997</th>\n",
              "      <td>Moxie</td>\n",
              "      <td>inspired by her mom's rebellious past and a co...</td>\n",
              "    </tr>\n",
              "    <tr>\n",
              "      <th>5998</th>\n",
              "      <td>Deadly Cuts</td>\n",
              "      <td>a black comedy set in a working-class dublin h...</td>\n",
              "    </tr>\n",
              "  </tbody>\n",
              "</table>\n",
              "<p>5999 rows × 2 columns</p>\n",
              "</div>\n",
              "      <button class=\"colab-df-convert\" onclick=\"convertToInteractive('df-1e628e29-6791-4efb-b0d4-44a0b456b79b')\"\n",
              "              title=\"Convert this dataframe to an interactive table.\"\n",
              "              style=\"display:none;\">\n",
              "        \n",
              "  <svg xmlns=\"http://www.w3.org/2000/svg\" height=\"24px\"viewBox=\"0 0 24 24\"\n",
              "       width=\"24px\">\n",
              "    <path d=\"M0 0h24v24H0V0z\" fill=\"none\"/>\n",
              "    <path d=\"M18.56 5.44l.94 2.06.94-2.06 2.06-.94-2.06-.94-.94-2.06-.94 2.06-2.06.94zm-11 1L8.5 8.5l.94-2.06 2.06-.94-2.06-.94L8.5 2.5l-.94 2.06-2.06.94zm10 10l.94 2.06.94-2.06 2.06-.94-2.06-.94-.94-2.06-.94 2.06-2.06.94z\"/><path d=\"M17.41 7.96l-1.37-1.37c-.4-.4-.92-.59-1.43-.59-.52 0-1.04.2-1.43.59L10.3 9.45l-7.72 7.72c-.78.78-.78 2.05 0 2.83L4 21.41c.39.39.9.59 1.41.59.51 0 1.02-.2 1.41-.59l7.78-7.78 2.81-2.81c.8-.78.8-2.07 0-2.86zM5.41 20L4 18.59l7.72-7.72 1.47 1.35L5.41 20z\"/>\n",
              "  </svg>\n",
              "      </button>\n",
              "      \n",
              "  <style>\n",
              "    .colab-df-container {\n",
              "      display:flex;\n",
              "      flex-wrap:wrap;\n",
              "      gap: 12px;\n",
              "    }\n",
              "\n",
              "    .colab-df-convert {\n",
              "      background-color: #E8F0FE;\n",
              "      border: none;\n",
              "      border-radius: 50%;\n",
              "      cursor: pointer;\n",
              "      display: none;\n",
              "      fill: #1967D2;\n",
              "      height: 32px;\n",
              "      padding: 0 0 0 0;\n",
              "      width: 32px;\n",
              "    }\n",
              "\n",
              "    .colab-df-convert:hover {\n",
              "      background-color: #E2EBFA;\n",
              "      box-shadow: 0px 1px 2px rgba(60, 64, 67, 0.3), 0px 1px 3px 1px rgba(60, 64, 67, 0.15);\n",
              "      fill: #174EA6;\n",
              "    }\n",
              "\n",
              "    [theme=dark] .colab-df-convert {\n",
              "      background-color: #3B4455;\n",
              "      fill: #D2E3FC;\n",
              "    }\n",
              "\n",
              "    [theme=dark] .colab-df-convert:hover {\n",
              "      background-color: #434B5C;\n",
              "      box-shadow: 0px 1px 3px 1px rgba(0, 0, 0, 0.15);\n",
              "      filter: drop-shadow(0px 1px 2px rgba(0, 0, 0, 0.3));\n",
              "      fill: #FFFFFF;\n",
              "    }\n",
              "  </style>\n",
              "\n",
              "      <script>\n",
              "        const buttonEl =\n",
              "          document.querySelector('#df-1e628e29-6791-4efb-b0d4-44a0b456b79b button.colab-df-convert');\n",
              "        buttonEl.style.display =\n",
              "          google.colab.kernel.accessAllowed ? 'block' : 'none';\n",
              "\n",
              "        async function convertToInteractive(key) {\n",
              "          const element = document.querySelector('#df-1e628e29-6791-4efb-b0d4-44a0b456b79b');\n",
              "          const dataTable =\n",
              "            await google.colab.kernel.invokeFunction('convertToInteractive',\n",
              "                                                     [key], {});\n",
              "          if (!dataTable) return;\n",
              "\n",
              "          const docLinkHtml = 'Like what you see? Visit the ' +\n",
              "            '<a target=\"_blank\" href=https://colab.research.google.com/notebooks/data_table.ipynb>data table notebook</a>'\n",
              "            + ' to learn more about interactive tables.';\n",
              "          element.innerHTML = '';\n",
              "          dataTable['output_type'] = 'display_data';\n",
              "          await google.colab.output.renderOutput(dataTable, element);\n",
              "          const docLink = document.createElement('div');\n",
              "          docLink.innerHTML = docLinkHtml;\n",
              "          element.appendChild(docLink);\n",
              "        }\n",
              "      </script>\n",
              "    </div>\n",
              "  </div>\n",
              "  "
            ],
            "text/plain": [
              "                                              title                                           combined\n",
              "0                                            Avatar  in the 22nd century, a paraplegic marine is di...\n",
              "1          Pirates of the Caribbean: At World's End  captain barbossa, long believed to be dead, ha...\n",
              "2                                           Spectre  a cryptic message from bond’s past sends him o...\n",
              "3                             The Dark Knight Rises  following the death of district attorney harve...\n",
              "4                                       John Carter  john carter is a war-weary, former military ca...\n",
              "...                                             ...                                                ...\n",
              "5994                                     Freaks Out  matilde, cencio, fulvio and mario are family w...\n",
              "5995  The Obscure Life of the Grand Duke of Corsica  in 1221 a young man is set on his path to beco...\n",
              "5996                                            Son  when a young boy contracts a mysterious illnes...\n",
              "5997                                          Moxie  inspired by her mom's rebellious past and a co...\n",
              "5998                                    Deadly Cuts  a black comedy set in a working-class dublin h...\n",
              "\n",
              "[5999 rows x 2 columns]"
            ]
          },
          "metadata": {},
          "execution_count": 7
        }
      ],
      "source": [
        "movie_database"
      ],
      "id": "IPhCIvKaIYLm"
    },
    {
      "cell_type": "code",
      "execution_count": null,
      "metadata": {
        "colab": {
          "base_uri": "https://localhost:8080/"
        },
        "id": "cxLP89SVIYLn",
        "outputId": "4c4ebd73-92ec-4423-d0ff-9f5569f7346d"
      },
      "outputs": [
        {
          "output_type": "stream",
          "name": "stdout",
          "text": [
            "Title\n",
            "\tAvatar\n",
            "Description\n",
            "\tin the 22nd century, a paraplegic marine is dispatched to the moon pandora on a unique mission, but becomes torn between following orders and protecting an alien civilization. samworthington zoesaldana sigourneyweaver jamescameron action adventure fantasy sciencefiction\n"
          ]
        }
      ],
      "source": [
        "print(\"Title\\n\\t{}\".format(movie_database.iloc[0]['title']))\n",
        "print(\"Description\\n\\t{}\".format(movie_database.iloc[0]['combined']))"
      ],
      "id": "cxLP89SVIYLn"
    },
    {
      "cell_type": "markdown",
      "metadata": {
        "id": "oBwYL8MrIYLn"
      },
      "source": [
        "## Data preparation"
      ],
      "id": "oBwYL8MrIYLn"
    },
    {
      "cell_type": "markdown",
      "metadata": {
        "id": "n8KAwbYiIYLo"
      },
      "source": [
        "##### Question 1\n",
        "Use the `TfidfVectorizer` ([documentation](https://scikit-learn.org/stable/modules/generated/sklearn.feature_extraction.text.TfidfVectorizer.html)) class to create a matrix `matrix` (vector of vectors) where each vector is the bag of word representation of the movie's description with the TfIdf weights. "
      ],
      "id": "n8KAwbYiIYLo"
    },
    {
      "cell_type": "markdown",
      "metadata": {
        "id": "ON6Mn2tPIYLo"
      },
      "source": [
        "##### Solution"
      ],
      "id": "ON6Mn2tPIYLo"
    },
    {
      "cell_type": "code",
      "execution_count": null,
      "metadata": {
        "id": "t0uh11XdIYLo"
      },
      "outputs": [],
      "source": [
        "from sklearn.feature_extraction.text import TfidfVectorizer"
      ],
      "id": "t0uh11XdIYLo"
    },
    {
      "cell_type": "code",
      "execution_count": null,
      "metadata": {
        "id": "VM_OOSJyIYLo"
      },
      "outputs": [],
      "source": [
        "vectorizer = TfidfVectorizer(stop_words='english')\n",
        "X = vectorizer.fit_transform(movie_database['combined'])"
      ],
      "id": "VM_OOSJyIYLo"
    },
    {
      "cell_type": "code",
      "execution_count": null,
      "metadata": {
        "colab": {
          "base_uri": "https://localhost:8080/"
        },
        "id": "WHh5E07ZIYLo",
        "outputId": "947c9031-796c-49a3-e8ca-f7b4e36f5ed4"
      },
      "outputs": [
        {
          "output_type": "stream",
          "name": "stdout",
          "text": [
            "(5999, 32396)\n"
          ]
        }
      ],
      "source": [
        "print(X.shape)"
      ],
      "id": "WHh5E07ZIYLo"
    },
    {
      "cell_type": "markdown",
      "metadata": {
        "id": "Vq2EbnSYIYLo"
      },
      "source": [
        "## Recommendation"
      ],
      "id": "Vq2EbnSYIYLo"
    },
    {
      "cell_type": "markdown",
      "metadata": {
        "id": "MpGw2jkTIYLp"
      },
      "source": [
        "##### Question 2\n",
        "Create a function `content_based_recommender` which takes a movie title and returns the five closest movies using the distance between the previously computed vectors."
      ],
      "id": "MpGw2jkTIYLp"
    },
    {
      "cell_type": "markdown",
      "metadata": {
        "id": "Z1Ihwvi6IYLp"
      },
      "source": [
        "##### Solution"
      ],
      "id": "Z1Ihwvi6IYLp"
    },
    {
      "cell_type": "code",
      "execution_count": null,
      "metadata": {
        "id": "Dd8KORVyIYLp"
      },
      "outputs": [],
      "source": [
        "from sklearn.metrics.pairwise import cosine_similarity\n",
        "Tfid_similarity_matrix = cosine_similarity(X)"
      ],
      "id": "Dd8KORVyIYLp"
    },
    {
      "cell_type": "code",
      "execution_count": null,
      "metadata": {
        "colab": {
          "base_uri": "https://localhost:8080/"
        },
        "id": "iIJHP9jtIYLp",
        "outputId": "820390bf-18c1-4bca-8aea-5181de202544"
      },
      "outputs": [
        {
          "output_type": "stream",
          "name": "stdout",
          "text": [
            "[1.         0.0293372  0.01226677 ... 0.         0.         0.        ]\n"
          ]
        }
      ],
      "source": [
        "print(Tfid_similarity_matrix[0])"
      ],
      "id": "iIJHP9jtIYLp"
    },
    {
      "cell_type": "code",
      "execution_count": null,
      "metadata": {
        "id": "cKg3oWGnIYLp"
      },
      "outputs": [],
      "source": [
        "def content_based_recommender(movie):\n",
        "    index = movie_database[movie_database['title'] == movie].index[0]\n",
        "    distance = sorted(list(enumerate(Tfid_similarity_matrix[index])),reverse=True,key = lambda x: x[1])\n",
        "    for i in distance[1:7]:\n",
        "        print(movie_database.iloc[i[0]].title)"
      ],
      "id": "cKg3oWGnIYLp"
    },
    {
      "cell_type": "code",
      "execution_count": null,
      "metadata": {
        "colab": {
          "base_uri": "https://localhost:8080/"
        },
        "id": "VDKTMPiaIYLp",
        "outputId": "8da43391-9541-4a0a-9a4f-118fc25e6df0"
      },
      "outputs": [
        {
          "output_type": "stream",
          "name": "stdout",
          "text": [
            "Batman v Superman: Dawn of Justice\n",
            "Midnight Special\n",
            "The Chronicles of Riddick\n",
            "Sunshine\n",
            "The Cold Light of Day\n",
            "Zack Snyder's Justice League\n"
          ]
        }
      ],
      "source": [
        "# Testing the recommender engine\n",
        "# Depending on your distance metric you can have different results\n",
        "content_based_recommender('Man of Steel')"
      ],
      "id": "VDKTMPiaIYLp"
    },
    {
      "cell_type": "markdown",
      "metadata": {
        "id": "onZ9MRnHIYLq"
      },
      "source": [
        "##### Question 3\n",
        "In a production setting (real time answers, lots of users etc.):\n",
        "- What are the advantages/drawbacks of this approach ?\n",
        "- Which solution can we use to reduce these drawbacks ?"
      ],
      "id": "onZ9MRnHIYLq"
    },
    {
      "cell_type": "markdown",
      "metadata": {
        "id": "3YGTs85SIYLq"
      },
      "source": [
        "##### Answer"
      ],
      "id": "3YGTs85SIYLq"
    },
    {
      "cell_type": "markdown",
      "source": [
        "**Advantages**:\n",
        "1. In practice, scaling the recommender system to accommondate a large number of users might be computationaly challenging. Content-based recommender doesn't require data about other users. It is therefore much easy to scale. \n",
        "\n",
        "2. The model makes recommendation that uses information provided by a particular user. It is therefore highly personalised. This is also more transparent, as it recommends solely based on features of that particular user. \n",
        "\n",
        "**Disadvantages**:\n",
        "1. This system is largely dependent on user input. If a user doesn't frequently visit the site or someone who has never visited the site, the amount of data we have would be extremely limited. This can therefore impact on the accuracy of our prediction.\n",
        "\n",
        "\n",
        "2. This model makes recommendation based on existing information we have about the user, which makes it hard to expand on the interest/predict trend. \n",
        "\n",
        "3. This model cannot work with unstructured data. \n",
        "\n",
        "**Solution**:\n",
        "\n",
        "One solution to these problems could be to incorporate linked data cloud into the information filtering using a semantic space vector model. We can use information from linked data cloud as source for engineering user profiles as well as enriching the description of unstructured items. \n",
        "*Reference: Zitouni H, Meshoul S & Taouche K (2017) Improving content based recommender systems using linked data cloud and FOAF vocabulary. In Proceedings of the International Conference on Web Intelligence pp 988–992. New York, NY, USA: Association for Computing Machinery\n",
        "\n"
      ],
      "metadata": {
        "id": "m-R5nIcWbtJb"
      },
      "id": "m-R5nIcWbtJb"
    },
    {
      "cell_type": "markdown",
      "metadata": {
        "id": "nUdxujysIYLq"
      },
      "source": [
        "# Collaborative Filtering"
      ],
      "id": "nUdxujysIYLq"
    },
    {
      "cell_type": "markdown",
      "metadata": {
        "id": "Dsjog8h1IYLq"
      },
      "source": [
        "<div>\n",
        "<img src=\"https://miro.medium.com/max/2400/1*x8gTiprhLs7zflmEn1UjAQ.png\" width=\"400\"/>\n",
        "</div>\n"
      ],
      "id": "Dsjog8h1IYLq"
    },
    {
      "cell_type": "markdown",
      "metadata": {
        "id": "mF4zQWpnIYLq"
      },
      "source": [
        "## The data"
      ],
      "id": "mF4zQWpnIYLq"
    },
    {
      "cell_type": "markdown",
      "metadata": {
        "id": "0Mcuf2SAIYLq"
      },
      "source": [
        "The data comes from the [Book Recommendation Dataset](https://www.kaggle.com/arashnic/book-recommendation-dataset?select=Ratings.csv)."
      ],
      "id": "0Mcuf2SAIYLq"
    },
    {
      "cell_type": "code",
      "source": [
        "#pip uninstall pandas"
      ],
      "metadata": {
        "id": "4tKLLcdQU5oc",
        "colab": {
          "base_uri": "https://localhost:8080/"
        },
        "outputId": "578bc2bd-8914-4edb-938d-6e29ce33ce31"
      },
      "id": "4tKLLcdQU5oc",
      "execution_count": null,
      "outputs": [
        {
          "output_type": "stream",
          "name": "stdout",
          "text": [
            "Found existing installation: pandas 1.1.5\n",
            "Uninstalling pandas-1.1.5:\n",
            "  Would remove:\n",
            "    /usr/local/lib/python3.7/dist-packages/pandas-1.1.5.dist-info/*\n",
            "    /usr/local/lib/python3.7/dist-packages/pandas/*\n",
            "Proceed (y/n)? y\n",
            "  Successfully uninstalled pandas-1.1.5\n"
          ]
        }
      ]
    },
    {
      "cell_type": "code",
      "execution_count": null,
      "metadata": {
        "id": "BIxBznSCIYLq"
      },
      "outputs": [],
      "source": [
        "import pandas as pd\n",
        "\n",
        "read_params = {\"sep\":';', \"on_bad_lines\":'skip', \"encoding\":\"latin-1\", \"compression\": \"gzip\", \"low_memory\":False}\n",
        "rating = pd.read_csv('data/BX-Book-Ratings.csv.gz', **read_params)\n",
        "user = pd.read_csv('data/BX-Users.csv.gz', **read_params)\n",
        "book = pd.read_csv('data/BX-Books.csv.gz', **read_params)\n",
        "\n",
        "book['Book-ID'] = book.index\n",
        "\n",
        "cols = ['Year-Of-Publication', 'Publisher', 'Book-Author', 'Image-URL-S', 'Image-URL-M', 'Image-URL-L']\n",
        "book_rating = pd.merge(rating, book, on='ISBN').drop(cols, axis=1)"
      ],
      "id": "BIxBznSCIYLq"
    },
    {
      "cell_type": "code",
      "execution_count": null,
      "metadata": {
        "colab": {
          "base_uri": "https://localhost:8080/",
          "height": 206
        },
        "id": "O5bKKrQiIYLq",
        "outputId": "d6da71bc-9f62-468b-fc61-0c54f38b369b"
      },
      "outputs": [
        {
          "output_type": "execute_result",
          "data": {
            "text/html": [
              "\n",
              "  <div id=\"df-3ac2d8bd-a592-49e2-aa41-37dd20ce6146\">\n",
              "    <div class=\"colab-df-container\">\n",
              "      <div>\n",
              "<style scoped>\n",
              "    .dataframe tbody tr th:only-of-type {\n",
              "        vertical-align: middle;\n",
              "    }\n",
              "\n",
              "    .dataframe tbody tr th {\n",
              "        vertical-align: top;\n",
              "    }\n",
              "\n",
              "    .dataframe thead th {\n",
              "        text-align: right;\n",
              "    }\n",
              "</style>\n",
              "<table border=\"1\" class=\"dataframe\">\n",
              "  <thead>\n",
              "    <tr style=\"text-align: right;\">\n",
              "      <th></th>\n",
              "      <th>User-ID</th>\n",
              "      <th>ISBN</th>\n",
              "      <th>Book-Rating</th>\n",
              "    </tr>\n",
              "  </thead>\n",
              "  <tbody>\n",
              "    <tr>\n",
              "      <th>0</th>\n",
              "      <td>276725</td>\n",
              "      <td>034545104X</td>\n",
              "      <td>0</td>\n",
              "    </tr>\n",
              "    <tr>\n",
              "      <th>1</th>\n",
              "      <td>276726</td>\n",
              "      <td>0155061224</td>\n",
              "      <td>5</td>\n",
              "    </tr>\n",
              "    <tr>\n",
              "      <th>2</th>\n",
              "      <td>276727</td>\n",
              "      <td>0446520802</td>\n",
              "      <td>0</td>\n",
              "    </tr>\n",
              "    <tr>\n",
              "      <th>3</th>\n",
              "      <td>276729</td>\n",
              "      <td>052165615X</td>\n",
              "      <td>3</td>\n",
              "    </tr>\n",
              "    <tr>\n",
              "      <th>4</th>\n",
              "      <td>276729</td>\n",
              "      <td>0521795028</td>\n",
              "      <td>6</td>\n",
              "    </tr>\n",
              "  </tbody>\n",
              "</table>\n",
              "</div>\n",
              "      <button class=\"colab-df-convert\" onclick=\"convertToInteractive('df-3ac2d8bd-a592-49e2-aa41-37dd20ce6146')\"\n",
              "              title=\"Convert this dataframe to an interactive table.\"\n",
              "              style=\"display:none;\">\n",
              "        \n",
              "  <svg xmlns=\"http://www.w3.org/2000/svg\" height=\"24px\"viewBox=\"0 0 24 24\"\n",
              "       width=\"24px\">\n",
              "    <path d=\"M0 0h24v24H0V0z\" fill=\"none\"/>\n",
              "    <path d=\"M18.56 5.44l.94 2.06.94-2.06 2.06-.94-2.06-.94-.94-2.06-.94 2.06-2.06.94zm-11 1L8.5 8.5l.94-2.06 2.06-.94-2.06-.94L8.5 2.5l-.94 2.06-2.06.94zm10 10l.94 2.06.94-2.06 2.06-.94-2.06-.94-.94-2.06-.94 2.06-2.06.94z\"/><path d=\"M17.41 7.96l-1.37-1.37c-.4-.4-.92-.59-1.43-.59-.52 0-1.04.2-1.43.59L10.3 9.45l-7.72 7.72c-.78.78-.78 2.05 0 2.83L4 21.41c.39.39.9.59 1.41.59.51 0 1.02-.2 1.41-.59l7.78-7.78 2.81-2.81c.8-.78.8-2.07 0-2.86zM5.41 20L4 18.59l7.72-7.72 1.47 1.35L5.41 20z\"/>\n",
              "  </svg>\n",
              "      </button>\n",
              "      \n",
              "  <style>\n",
              "    .colab-df-container {\n",
              "      display:flex;\n",
              "      flex-wrap:wrap;\n",
              "      gap: 12px;\n",
              "    }\n",
              "\n",
              "    .colab-df-convert {\n",
              "      background-color: #E8F0FE;\n",
              "      border: none;\n",
              "      border-radius: 50%;\n",
              "      cursor: pointer;\n",
              "      display: none;\n",
              "      fill: #1967D2;\n",
              "      height: 32px;\n",
              "      padding: 0 0 0 0;\n",
              "      width: 32px;\n",
              "    }\n",
              "\n",
              "    .colab-df-convert:hover {\n",
              "      background-color: #E2EBFA;\n",
              "      box-shadow: 0px 1px 2px rgba(60, 64, 67, 0.3), 0px 1px 3px 1px rgba(60, 64, 67, 0.15);\n",
              "      fill: #174EA6;\n",
              "    }\n",
              "\n",
              "    [theme=dark] .colab-df-convert {\n",
              "      background-color: #3B4455;\n",
              "      fill: #D2E3FC;\n",
              "    }\n",
              "\n",
              "    [theme=dark] .colab-df-convert:hover {\n",
              "      background-color: #434B5C;\n",
              "      box-shadow: 0px 1px 3px 1px rgba(0, 0, 0, 0.15);\n",
              "      filter: drop-shadow(0px 1px 2px rgba(0, 0, 0, 0.3));\n",
              "      fill: #FFFFFF;\n",
              "    }\n",
              "  </style>\n",
              "\n",
              "      <script>\n",
              "        const buttonEl =\n",
              "          document.querySelector('#df-3ac2d8bd-a592-49e2-aa41-37dd20ce6146 button.colab-df-convert');\n",
              "        buttonEl.style.display =\n",
              "          google.colab.kernel.accessAllowed ? 'block' : 'none';\n",
              "\n",
              "        async function convertToInteractive(key) {\n",
              "          const element = document.querySelector('#df-3ac2d8bd-a592-49e2-aa41-37dd20ce6146');\n",
              "          const dataTable =\n",
              "            await google.colab.kernel.invokeFunction('convertToInteractive',\n",
              "                                                     [key], {});\n",
              "          if (!dataTable) return;\n",
              "\n",
              "          const docLinkHtml = 'Like what you see? Visit the ' +\n",
              "            '<a target=\"_blank\" href=https://colab.research.google.com/notebooks/data_table.ipynb>data table notebook</a>'\n",
              "            + ' to learn more about interactive tables.';\n",
              "          element.innerHTML = '';\n",
              "          dataTable['output_type'] = 'display_data';\n",
              "          await google.colab.output.renderOutput(dataTable, element);\n",
              "          const docLink = document.createElement('div');\n",
              "          docLink.innerHTML = docLinkHtml;\n",
              "          element.appendChild(docLink);\n",
              "        }\n",
              "      </script>\n",
              "    </div>\n",
              "  </div>\n",
              "  "
            ],
            "text/plain": [
              "   User-ID        ISBN  Book-Rating\n",
              "0   276725  034545104X            0\n",
              "1   276726  0155061224            5\n",
              "2   276727  0446520802            0\n",
              "3   276729  052165615X            3\n",
              "4   276729  0521795028            6"
            ]
          },
          "metadata": {},
          "execution_count": 14
        }
      ],
      "source": [
        "rating.head()"
      ],
      "id": "O5bKKrQiIYLq"
    },
    {
      "cell_type": "code",
      "execution_count": null,
      "metadata": {
        "colab": {
          "base_uri": "https://localhost:8080/",
          "height": 206
        },
        "id": "m2WqRdUKIYLq",
        "outputId": "3508b124-dfaa-43e8-889e-348e2c8bb466"
      },
      "outputs": [
        {
          "output_type": "execute_result",
          "data": {
            "text/html": [
              "\n",
              "  <div id=\"df-00179e1e-b464-40c1-85f5-01fec67cd54f\">\n",
              "    <div class=\"colab-df-container\">\n",
              "      <div>\n",
              "<style scoped>\n",
              "    .dataframe tbody tr th:only-of-type {\n",
              "        vertical-align: middle;\n",
              "    }\n",
              "\n",
              "    .dataframe tbody tr th {\n",
              "        vertical-align: top;\n",
              "    }\n",
              "\n",
              "    .dataframe thead th {\n",
              "        text-align: right;\n",
              "    }\n",
              "</style>\n",
              "<table border=\"1\" class=\"dataframe\">\n",
              "  <thead>\n",
              "    <tr style=\"text-align: right;\">\n",
              "      <th></th>\n",
              "      <th>User-ID</th>\n",
              "      <th>Location</th>\n",
              "      <th>Age</th>\n",
              "    </tr>\n",
              "  </thead>\n",
              "  <tbody>\n",
              "    <tr>\n",
              "      <th>0</th>\n",
              "      <td>1</td>\n",
              "      <td>nyc, new york, usa</td>\n",
              "      <td>NaN</td>\n",
              "    </tr>\n",
              "    <tr>\n",
              "      <th>1</th>\n",
              "      <td>2</td>\n",
              "      <td>stockton, california, usa</td>\n",
              "      <td>18.0</td>\n",
              "    </tr>\n",
              "    <tr>\n",
              "      <th>2</th>\n",
              "      <td>3</td>\n",
              "      <td>moscow, yukon territory, russia</td>\n",
              "      <td>NaN</td>\n",
              "    </tr>\n",
              "    <tr>\n",
              "      <th>3</th>\n",
              "      <td>4</td>\n",
              "      <td>porto, v.n.gaia, portugal</td>\n",
              "      <td>17.0</td>\n",
              "    </tr>\n",
              "    <tr>\n",
              "      <th>4</th>\n",
              "      <td>5</td>\n",
              "      <td>farnborough, hants, united kingdom</td>\n",
              "      <td>NaN</td>\n",
              "    </tr>\n",
              "  </tbody>\n",
              "</table>\n",
              "</div>\n",
              "      <button class=\"colab-df-convert\" onclick=\"convertToInteractive('df-00179e1e-b464-40c1-85f5-01fec67cd54f')\"\n",
              "              title=\"Convert this dataframe to an interactive table.\"\n",
              "              style=\"display:none;\">\n",
              "        \n",
              "  <svg xmlns=\"http://www.w3.org/2000/svg\" height=\"24px\"viewBox=\"0 0 24 24\"\n",
              "       width=\"24px\">\n",
              "    <path d=\"M0 0h24v24H0V0z\" fill=\"none\"/>\n",
              "    <path d=\"M18.56 5.44l.94 2.06.94-2.06 2.06-.94-2.06-.94-.94-2.06-.94 2.06-2.06.94zm-11 1L8.5 8.5l.94-2.06 2.06-.94-2.06-.94L8.5 2.5l-.94 2.06-2.06.94zm10 10l.94 2.06.94-2.06 2.06-.94-2.06-.94-.94-2.06-.94 2.06-2.06.94z\"/><path d=\"M17.41 7.96l-1.37-1.37c-.4-.4-.92-.59-1.43-.59-.52 0-1.04.2-1.43.59L10.3 9.45l-7.72 7.72c-.78.78-.78 2.05 0 2.83L4 21.41c.39.39.9.59 1.41.59.51 0 1.02-.2 1.41-.59l7.78-7.78 2.81-2.81c.8-.78.8-2.07 0-2.86zM5.41 20L4 18.59l7.72-7.72 1.47 1.35L5.41 20z\"/>\n",
              "  </svg>\n",
              "      </button>\n",
              "      \n",
              "  <style>\n",
              "    .colab-df-container {\n",
              "      display:flex;\n",
              "      flex-wrap:wrap;\n",
              "      gap: 12px;\n",
              "    }\n",
              "\n",
              "    .colab-df-convert {\n",
              "      background-color: #E8F0FE;\n",
              "      border: none;\n",
              "      border-radius: 50%;\n",
              "      cursor: pointer;\n",
              "      display: none;\n",
              "      fill: #1967D2;\n",
              "      height: 32px;\n",
              "      padding: 0 0 0 0;\n",
              "      width: 32px;\n",
              "    }\n",
              "\n",
              "    .colab-df-convert:hover {\n",
              "      background-color: #E2EBFA;\n",
              "      box-shadow: 0px 1px 2px rgba(60, 64, 67, 0.3), 0px 1px 3px 1px rgba(60, 64, 67, 0.15);\n",
              "      fill: #174EA6;\n",
              "    }\n",
              "\n",
              "    [theme=dark] .colab-df-convert {\n",
              "      background-color: #3B4455;\n",
              "      fill: #D2E3FC;\n",
              "    }\n",
              "\n",
              "    [theme=dark] .colab-df-convert:hover {\n",
              "      background-color: #434B5C;\n",
              "      box-shadow: 0px 1px 3px 1px rgba(0, 0, 0, 0.15);\n",
              "      filter: drop-shadow(0px 1px 2px rgba(0, 0, 0, 0.3));\n",
              "      fill: #FFFFFF;\n",
              "    }\n",
              "  </style>\n",
              "\n",
              "      <script>\n",
              "        const buttonEl =\n",
              "          document.querySelector('#df-00179e1e-b464-40c1-85f5-01fec67cd54f button.colab-df-convert');\n",
              "        buttonEl.style.display =\n",
              "          google.colab.kernel.accessAllowed ? 'block' : 'none';\n",
              "\n",
              "        async function convertToInteractive(key) {\n",
              "          const element = document.querySelector('#df-00179e1e-b464-40c1-85f5-01fec67cd54f');\n",
              "          const dataTable =\n",
              "            await google.colab.kernel.invokeFunction('convertToInteractive',\n",
              "                                                     [key], {});\n",
              "          if (!dataTable) return;\n",
              "\n",
              "          const docLinkHtml = 'Like what you see? Visit the ' +\n",
              "            '<a target=\"_blank\" href=https://colab.research.google.com/notebooks/data_table.ipynb>data table notebook</a>'\n",
              "            + ' to learn more about interactive tables.';\n",
              "          element.innerHTML = '';\n",
              "          dataTable['output_type'] = 'display_data';\n",
              "          await google.colab.output.renderOutput(dataTable, element);\n",
              "          const docLink = document.createElement('div');\n",
              "          docLink.innerHTML = docLinkHtml;\n",
              "          element.appendChild(docLink);\n",
              "        }\n",
              "      </script>\n",
              "    </div>\n",
              "  </div>\n",
              "  "
            ],
            "text/plain": [
              "   User-ID                            Location   Age\n",
              "0        1                  nyc, new york, usa   NaN\n",
              "1        2           stockton, california, usa  18.0\n",
              "2        3     moscow, yukon territory, russia   NaN\n",
              "3        4           porto, v.n.gaia, portugal  17.0\n",
              "4        5  farnborough, hants, united kingdom   NaN"
            ]
          },
          "metadata": {},
          "execution_count": 15
        }
      ],
      "source": [
        "user.head()"
      ],
      "id": "m2WqRdUKIYLq"
    },
    {
      "cell_type": "code",
      "execution_count": null,
      "metadata": {
        "colab": {
          "base_uri": "https://localhost:8080/",
          "height": 478
        },
        "id": "IyO8Ful1IYLr",
        "outputId": "d29a3c08-bc36-4881-8483-7ba7d6fa729b"
      },
      "outputs": [
        {
          "output_type": "execute_result",
          "data": {
            "text/html": [
              "\n",
              "  <div id=\"df-98ee16a1-69f1-41bf-bac4-1e4d1941da0c\">\n",
              "    <div class=\"colab-df-container\">\n",
              "      <div>\n",
              "<style scoped>\n",
              "    .dataframe tbody tr th:only-of-type {\n",
              "        vertical-align: middle;\n",
              "    }\n",
              "\n",
              "    .dataframe tbody tr th {\n",
              "        vertical-align: top;\n",
              "    }\n",
              "\n",
              "    .dataframe thead th {\n",
              "        text-align: right;\n",
              "    }\n",
              "</style>\n",
              "<table border=\"1\" class=\"dataframe\">\n",
              "  <thead>\n",
              "    <tr style=\"text-align: right;\">\n",
              "      <th></th>\n",
              "      <th>ISBN</th>\n",
              "      <th>Book-Title</th>\n",
              "      <th>Book-Author</th>\n",
              "      <th>Year-Of-Publication</th>\n",
              "      <th>Publisher</th>\n",
              "      <th>Image-URL-S</th>\n",
              "      <th>Image-URL-M</th>\n",
              "      <th>Image-URL-L</th>\n",
              "      <th>Book-ID</th>\n",
              "    </tr>\n",
              "  </thead>\n",
              "  <tbody>\n",
              "    <tr>\n",
              "      <th>0</th>\n",
              "      <td>0195153448</td>\n",
              "      <td>Classical Mythology</td>\n",
              "      <td>Mark P. O. Morford</td>\n",
              "      <td>2002</td>\n",
              "      <td>Oxford University Press</td>\n",
              "      <td>http://images.amazon.com/images/P/0195153448.0...</td>\n",
              "      <td>http://images.amazon.com/images/P/0195153448.0...</td>\n",
              "      <td>http://images.amazon.com/images/P/0195153448.0...</td>\n",
              "      <td>0</td>\n",
              "    </tr>\n",
              "    <tr>\n",
              "      <th>1</th>\n",
              "      <td>0002005018</td>\n",
              "      <td>Clara Callan</td>\n",
              "      <td>Richard Bruce Wright</td>\n",
              "      <td>2001</td>\n",
              "      <td>HarperFlamingo Canada</td>\n",
              "      <td>http://images.amazon.com/images/P/0002005018.0...</td>\n",
              "      <td>http://images.amazon.com/images/P/0002005018.0...</td>\n",
              "      <td>http://images.amazon.com/images/P/0002005018.0...</td>\n",
              "      <td>1</td>\n",
              "    </tr>\n",
              "    <tr>\n",
              "      <th>2</th>\n",
              "      <td>0060973129</td>\n",
              "      <td>Decision in Normandy</td>\n",
              "      <td>Carlo D'Este</td>\n",
              "      <td>1991</td>\n",
              "      <td>HarperPerennial</td>\n",
              "      <td>http://images.amazon.com/images/P/0060973129.0...</td>\n",
              "      <td>http://images.amazon.com/images/P/0060973129.0...</td>\n",
              "      <td>http://images.amazon.com/images/P/0060973129.0...</td>\n",
              "      <td>2</td>\n",
              "    </tr>\n",
              "    <tr>\n",
              "      <th>3</th>\n",
              "      <td>0374157065</td>\n",
              "      <td>Flu: The Story of the Great Influenza Pandemic...</td>\n",
              "      <td>Gina Bari Kolata</td>\n",
              "      <td>1999</td>\n",
              "      <td>Farrar Straus Giroux</td>\n",
              "      <td>http://images.amazon.com/images/P/0374157065.0...</td>\n",
              "      <td>http://images.amazon.com/images/P/0374157065.0...</td>\n",
              "      <td>http://images.amazon.com/images/P/0374157065.0...</td>\n",
              "      <td>3</td>\n",
              "    </tr>\n",
              "    <tr>\n",
              "      <th>4</th>\n",
              "      <td>0393045218</td>\n",
              "      <td>The Mummies of Urumchi</td>\n",
              "      <td>E. J. W. Barber</td>\n",
              "      <td>1999</td>\n",
              "      <td>W. W. Norton &amp;amp; Company</td>\n",
              "      <td>http://images.amazon.com/images/P/0393045218.0...</td>\n",
              "      <td>http://images.amazon.com/images/P/0393045218.0...</td>\n",
              "      <td>http://images.amazon.com/images/P/0393045218.0...</td>\n",
              "      <td>4</td>\n",
              "    </tr>\n",
              "  </tbody>\n",
              "</table>\n",
              "</div>\n",
              "      <button class=\"colab-df-convert\" onclick=\"convertToInteractive('df-98ee16a1-69f1-41bf-bac4-1e4d1941da0c')\"\n",
              "              title=\"Convert this dataframe to an interactive table.\"\n",
              "              style=\"display:none;\">\n",
              "        \n",
              "  <svg xmlns=\"http://www.w3.org/2000/svg\" height=\"24px\"viewBox=\"0 0 24 24\"\n",
              "       width=\"24px\">\n",
              "    <path d=\"M0 0h24v24H0V0z\" fill=\"none\"/>\n",
              "    <path d=\"M18.56 5.44l.94 2.06.94-2.06 2.06-.94-2.06-.94-.94-2.06-.94 2.06-2.06.94zm-11 1L8.5 8.5l.94-2.06 2.06-.94-2.06-.94L8.5 2.5l-.94 2.06-2.06.94zm10 10l.94 2.06.94-2.06 2.06-.94-2.06-.94-.94-2.06-.94 2.06-2.06.94z\"/><path d=\"M17.41 7.96l-1.37-1.37c-.4-.4-.92-.59-1.43-.59-.52 0-1.04.2-1.43.59L10.3 9.45l-7.72 7.72c-.78.78-.78 2.05 0 2.83L4 21.41c.39.39.9.59 1.41.59.51 0 1.02-.2 1.41-.59l7.78-7.78 2.81-2.81c.8-.78.8-2.07 0-2.86zM5.41 20L4 18.59l7.72-7.72 1.47 1.35L5.41 20z\"/>\n",
              "  </svg>\n",
              "      </button>\n",
              "      \n",
              "  <style>\n",
              "    .colab-df-container {\n",
              "      display:flex;\n",
              "      flex-wrap:wrap;\n",
              "      gap: 12px;\n",
              "    }\n",
              "\n",
              "    .colab-df-convert {\n",
              "      background-color: #E8F0FE;\n",
              "      border: none;\n",
              "      border-radius: 50%;\n",
              "      cursor: pointer;\n",
              "      display: none;\n",
              "      fill: #1967D2;\n",
              "      height: 32px;\n",
              "      padding: 0 0 0 0;\n",
              "      width: 32px;\n",
              "    }\n",
              "\n",
              "    .colab-df-convert:hover {\n",
              "      background-color: #E2EBFA;\n",
              "      box-shadow: 0px 1px 2px rgba(60, 64, 67, 0.3), 0px 1px 3px 1px rgba(60, 64, 67, 0.15);\n",
              "      fill: #174EA6;\n",
              "    }\n",
              "\n",
              "    [theme=dark] .colab-df-convert {\n",
              "      background-color: #3B4455;\n",
              "      fill: #D2E3FC;\n",
              "    }\n",
              "\n",
              "    [theme=dark] .colab-df-convert:hover {\n",
              "      background-color: #434B5C;\n",
              "      box-shadow: 0px 1px 3px 1px rgba(0, 0, 0, 0.15);\n",
              "      filter: drop-shadow(0px 1px 2px rgba(0, 0, 0, 0.3));\n",
              "      fill: #FFFFFF;\n",
              "    }\n",
              "  </style>\n",
              "\n",
              "      <script>\n",
              "        const buttonEl =\n",
              "          document.querySelector('#df-98ee16a1-69f1-41bf-bac4-1e4d1941da0c button.colab-df-convert');\n",
              "        buttonEl.style.display =\n",
              "          google.colab.kernel.accessAllowed ? 'block' : 'none';\n",
              "\n",
              "        async function convertToInteractive(key) {\n",
              "          const element = document.querySelector('#df-98ee16a1-69f1-41bf-bac4-1e4d1941da0c');\n",
              "          const dataTable =\n",
              "            await google.colab.kernel.invokeFunction('convertToInteractive',\n",
              "                                                     [key], {});\n",
              "          if (!dataTable) return;\n",
              "\n",
              "          const docLinkHtml = 'Like what you see? Visit the ' +\n",
              "            '<a target=\"_blank\" href=https://colab.research.google.com/notebooks/data_table.ipynb>data table notebook</a>'\n",
              "            + ' to learn more about interactive tables.';\n",
              "          element.innerHTML = '';\n",
              "          dataTable['output_type'] = 'display_data';\n",
              "          await google.colab.output.renderOutput(dataTable, element);\n",
              "          const docLink = document.createElement('div');\n",
              "          docLink.innerHTML = docLinkHtml;\n",
              "          element.appendChild(docLink);\n",
              "        }\n",
              "      </script>\n",
              "    </div>\n",
              "  </div>\n",
              "  "
            ],
            "text/plain": [
              "         ISBN  ... Book-ID\n",
              "0  0195153448  ...       0\n",
              "1  0002005018  ...       1\n",
              "2  0060973129  ...       2\n",
              "3  0374157065  ...       3\n",
              "4  0393045218  ...       4\n",
              "\n",
              "[5 rows x 9 columns]"
            ]
          },
          "metadata": {},
          "execution_count": 21
        }
      ],
      "source": [
        "book.head()"
      ],
      "id": "IyO8Ful1IYLr"
    },
    {
      "cell_type": "markdown",
      "metadata": {
        "id": "1UXd9Ct5IYLr"
      },
      "source": [
        "---"
      ],
      "id": "1UXd9Ct5IYLr"
    },
    {
      "cell_type": "markdown",
      "metadata": {
        "id": "ajRVzSP4IYLr"
      },
      "source": [
        "##### Be careful, some books are published by multiple publisher. Let's say these are different books."
      ],
      "id": "ajRVzSP4IYLr"
    },
    {
      "cell_type": "code",
      "execution_count": null,
      "metadata": {
        "colab": {
          "base_uri": "https://localhost:8080/",
          "height": 475
        },
        "id": "pYVCmP3CIYLr",
        "outputId": "8590fd4c-b0e4-4b55-bdc2-7af1533a2757"
      },
      "outputs": [
        {
          "output_type": "execute_result",
          "data": {
            "text/html": [
              "\n",
              "  <div id=\"df-4e89840e-7d94-4fdb-9148-21a1d674a050\">\n",
              "    <div class=\"colab-df-container\">\n",
              "      <div>\n",
              "<style scoped>\n",
              "    .dataframe tbody tr th:only-of-type {\n",
              "        vertical-align: middle;\n",
              "    }\n",
              "\n",
              "    .dataframe tbody tr th {\n",
              "        vertical-align: top;\n",
              "    }\n",
              "\n",
              "    .dataframe thead th {\n",
              "        text-align: right;\n",
              "    }\n",
              "</style>\n",
              "<table border=\"1\" class=\"dataframe\">\n",
              "  <thead>\n",
              "    <tr style=\"text-align: right;\">\n",
              "      <th></th>\n",
              "      <th>ISBN</th>\n",
              "      <th>Book-Title</th>\n",
              "      <th>Book-Author</th>\n",
              "      <th>Year-Of-Publication</th>\n",
              "      <th>Publisher</th>\n",
              "      <th>Image-URL-S</th>\n",
              "      <th>Image-URL-M</th>\n",
              "      <th>Image-URL-L</th>\n",
              "      <th>Book-ID</th>\n",
              "    </tr>\n",
              "  </thead>\n",
              "  <tbody>\n",
              "    <tr>\n",
              "      <th>758</th>\n",
              "      <td>0385505833</td>\n",
              "      <td>Skipping Christmas</td>\n",
              "      <td>JOHN GRISHAM</td>\n",
              "      <td>2001</td>\n",
              "      <td>Doubleday</td>\n",
              "      <td>http://images.amazon.com/images/P/0385505833.0...</td>\n",
              "      <td>http://images.amazon.com/images/P/0385505833.0...</td>\n",
              "      <td>http://images.amazon.com/images/P/0385505833.0...</td>\n",
              "      <td>758</td>\n",
              "    </tr>\n",
              "    <tr>\n",
              "      <th>1451</th>\n",
              "      <td>0385508417</td>\n",
              "      <td>Skipping Christmas</td>\n",
              "      <td>JOHN GRISHAM</td>\n",
              "      <td>2002</td>\n",
              "      <td>Doubleday</td>\n",
              "      <td>http://images.amazon.com/images/P/0385508417.0...</td>\n",
              "      <td>http://images.amazon.com/images/P/0385508417.0...</td>\n",
              "      <td>http://images.amazon.com/images/P/0385508417.0...</td>\n",
              "      <td>1451</td>\n",
              "    </tr>\n",
              "    <tr>\n",
              "      <th>46560</th>\n",
              "      <td>0553712837</td>\n",
              "      <td>Skipping Christmas</td>\n",
              "      <td>John Grisham</td>\n",
              "      <td>2001</td>\n",
              "      <td>Bantam Books-Audio</td>\n",
              "      <td>http://images.amazon.com/images/P/0553712837.0...</td>\n",
              "      <td>http://images.amazon.com/images/P/0553712837.0...</td>\n",
              "      <td>http://images.amazon.com/images/P/0553712837.0...</td>\n",
              "      <td>46560</td>\n",
              "    </tr>\n",
              "    <tr>\n",
              "      <th>51157</th>\n",
              "      <td>0375431624</td>\n",
              "      <td>Skipping Christmas</td>\n",
              "      <td>JOHN GRISHAM</td>\n",
              "      <td>2001</td>\n",
              "      <td>Random House Large Print</td>\n",
              "      <td>http://images.amazon.com/images/P/0375431624.0...</td>\n",
              "      <td>http://images.amazon.com/images/P/0375431624.0...</td>\n",
              "      <td>http://images.amazon.com/images/P/0375431624.0...</td>\n",
              "      <td>51157</td>\n",
              "    </tr>\n",
              "    <tr>\n",
              "      <th>79978</th>\n",
              "      <td>0739301985</td>\n",
              "      <td>Skipping Christmas</td>\n",
              "      <td>JOHN GRISHAM</td>\n",
              "      <td>2002</td>\n",
              "      <td>Random House Audio</td>\n",
              "      <td>http://images.amazon.com/images/P/0739301985.0...</td>\n",
              "      <td>http://images.amazon.com/images/P/0739301985.0...</td>\n",
              "      <td>http://images.amazon.com/images/P/0739301985.0...</td>\n",
              "      <td>79978</td>\n",
              "    </tr>\n",
              "    <tr>\n",
              "      <th>266661</th>\n",
              "      <td>0739420712</td>\n",
              "      <td>Skipping Christmas</td>\n",
              "      <td>John Grisham</td>\n",
              "      <td>2001</td>\n",
              "      <td>Doubleday</td>\n",
              "      <td>http://images.amazon.com/images/P/0739420712.0...</td>\n",
              "      <td>http://images.amazon.com/images/P/0739420712.0...</td>\n",
              "      <td>http://images.amazon.com/images/P/0739420712.0...</td>\n",
              "      <td>266661</td>\n",
              "    </tr>\n",
              "  </tbody>\n",
              "</table>\n",
              "</div>\n",
              "      <button class=\"colab-df-convert\" onclick=\"convertToInteractive('df-4e89840e-7d94-4fdb-9148-21a1d674a050')\"\n",
              "              title=\"Convert this dataframe to an interactive table.\"\n",
              "              style=\"display:none;\">\n",
              "        \n",
              "  <svg xmlns=\"http://www.w3.org/2000/svg\" height=\"24px\"viewBox=\"0 0 24 24\"\n",
              "       width=\"24px\">\n",
              "    <path d=\"M0 0h24v24H0V0z\" fill=\"none\"/>\n",
              "    <path d=\"M18.56 5.44l.94 2.06.94-2.06 2.06-.94-2.06-.94-.94-2.06-.94 2.06-2.06.94zm-11 1L8.5 8.5l.94-2.06 2.06-.94-2.06-.94L8.5 2.5l-.94 2.06-2.06.94zm10 10l.94 2.06.94-2.06 2.06-.94-2.06-.94-.94-2.06-.94 2.06-2.06.94z\"/><path d=\"M17.41 7.96l-1.37-1.37c-.4-.4-.92-.59-1.43-.59-.52 0-1.04.2-1.43.59L10.3 9.45l-7.72 7.72c-.78.78-.78 2.05 0 2.83L4 21.41c.39.39.9.59 1.41.59.51 0 1.02-.2 1.41-.59l7.78-7.78 2.81-2.81c.8-.78.8-2.07 0-2.86zM5.41 20L4 18.59l7.72-7.72 1.47 1.35L5.41 20z\"/>\n",
              "  </svg>\n",
              "      </button>\n",
              "      \n",
              "  <style>\n",
              "    .colab-df-container {\n",
              "      display:flex;\n",
              "      flex-wrap:wrap;\n",
              "      gap: 12px;\n",
              "    }\n",
              "\n",
              "    .colab-df-convert {\n",
              "      background-color: #E8F0FE;\n",
              "      border: none;\n",
              "      border-radius: 50%;\n",
              "      cursor: pointer;\n",
              "      display: none;\n",
              "      fill: #1967D2;\n",
              "      height: 32px;\n",
              "      padding: 0 0 0 0;\n",
              "      width: 32px;\n",
              "    }\n",
              "\n",
              "    .colab-df-convert:hover {\n",
              "      background-color: #E2EBFA;\n",
              "      box-shadow: 0px 1px 2px rgba(60, 64, 67, 0.3), 0px 1px 3px 1px rgba(60, 64, 67, 0.15);\n",
              "      fill: #174EA6;\n",
              "    }\n",
              "\n",
              "    [theme=dark] .colab-df-convert {\n",
              "      background-color: #3B4455;\n",
              "      fill: #D2E3FC;\n",
              "    }\n",
              "\n",
              "    [theme=dark] .colab-df-convert:hover {\n",
              "      background-color: #434B5C;\n",
              "      box-shadow: 0px 1px 3px 1px rgba(0, 0, 0, 0.15);\n",
              "      filter: drop-shadow(0px 1px 2px rgba(0, 0, 0, 0.3));\n",
              "      fill: #FFFFFF;\n",
              "    }\n",
              "  </style>\n",
              "\n",
              "      <script>\n",
              "        const buttonEl =\n",
              "          document.querySelector('#df-4e89840e-7d94-4fdb-9148-21a1d674a050 button.colab-df-convert');\n",
              "        buttonEl.style.display =\n",
              "          google.colab.kernel.accessAllowed ? 'block' : 'none';\n",
              "\n",
              "        async function convertToInteractive(key) {\n",
              "          const element = document.querySelector('#df-4e89840e-7d94-4fdb-9148-21a1d674a050');\n",
              "          const dataTable =\n",
              "            await google.colab.kernel.invokeFunction('convertToInteractive',\n",
              "                                                     [key], {});\n",
              "          if (!dataTable) return;\n",
              "\n",
              "          const docLinkHtml = 'Like what you see? Visit the ' +\n",
              "            '<a target=\"_blank\" href=https://colab.research.google.com/notebooks/data_table.ipynb>data table notebook</a>'\n",
              "            + ' to learn more about interactive tables.';\n",
              "          element.innerHTML = '';\n",
              "          dataTable['output_type'] = 'display_data';\n",
              "          await google.colab.output.renderOutput(dataTable, element);\n",
              "          const docLink = document.createElement('div');\n",
              "          docLink.innerHTML = docLinkHtml;\n",
              "          element.appendChild(docLink);\n",
              "        }\n",
              "      </script>\n",
              "    </div>\n",
              "  </div>\n",
              "  "
            ],
            "text/plain": [
              "              ISBN  ... Book-ID\n",
              "758     0385505833  ...     758\n",
              "1451    0385508417  ...    1451\n",
              "46560   0553712837  ...   46560\n",
              "51157   0375431624  ...   51157\n",
              "79978   0739301985  ...   79978\n",
              "266661  0739420712  ...  266661\n",
              "\n",
              "[6 rows x 9 columns]"
            ]
          },
          "metadata": {},
          "execution_count": 22
        }
      ],
      "source": [
        "book[book['Book-Title'] == \"Skipping Christmas\"]"
      ],
      "id": "pYVCmP3CIYLr"
    },
    {
      "cell_type": "code",
      "execution_count": null,
      "metadata": {
        "colab": {
          "base_uri": "https://localhost:8080/",
          "height": 206
        },
        "id": "7g8uG6BvIYLr",
        "outputId": "620ed390-c580-4f1c-ef9a-e684f4f3e789"
      },
      "outputs": [
        {
          "output_type": "execute_result",
          "data": {
            "text/html": [
              "\n",
              "  <div id=\"df-9929c0df-fb5e-45ea-b688-058b4ad4d5d5\">\n",
              "    <div class=\"colab-df-container\">\n",
              "      <div>\n",
              "<style scoped>\n",
              "    .dataframe tbody tr th:only-of-type {\n",
              "        vertical-align: middle;\n",
              "    }\n",
              "\n",
              "    .dataframe tbody tr th {\n",
              "        vertical-align: top;\n",
              "    }\n",
              "\n",
              "    .dataframe thead th {\n",
              "        text-align: right;\n",
              "    }\n",
              "</style>\n",
              "<table border=\"1\" class=\"dataframe\">\n",
              "  <thead>\n",
              "    <tr style=\"text-align: right;\">\n",
              "      <th></th>\n",
              "      <th>User-ID</th>\n",
              "      <th>ISBN</th>\n",
              "      <th>Book-Rating</th>\n",
              "      <th>Book-Title</th>\n",
              "      <th>Book-ID</th>\n",
              "    </tr>\n",
              "  </thead>\n",
              "  <tbody>\n",
              "    <tr>\n",
              "      <th>0</th>\n",
              "      <td>276725</td>\n",
              "      <td>034545104X</td>\n",
              "      <td>0</td>\n",
              "      <td>Flesh Tones: A Novel</td>\n",
              "      <td>2966</td>\n",
              "    </tr>\n",
              "    <tr>\n",
              "      <th>1</th>\n",
              "      <td>2313</td>\n",
              "      <td>034545104X</td>\n",
              "      <td>5</td>\n",
              "      <td>Flesh Tones: A Novel</td>\n",
              "      <td>2966</td>\n",
              "    </tr>\n",
              "    <tr>\n",
              "      <th>2</th>\n",
              "      <td>6543</td>\n",
              "      <td>034545104X</td>\n",
              "      <td>0</td>\n",
              "      <td>Flesh Tones: A Novel</td>\n",
              "      <td>2966</td>\n",
              "    </tr>\n",
              "    <tr>\n",
              "      <th>3</th>\n",
              "      <td>8680</td>\n",
              "      <td>034545104X</td>\n",
              "      <td>5</td>\n",
              "      <td>Flesh Tones: A Novel</td>\n",
              "      <td>2966</td>\n",
              "    </tr>\n",
              "    <tr>\n",
              "      <th>4</th>\n",
              "      <td>10314</td>\n",
              "      <td>034545104X</td>\n",
              "      <td>9</td>\n",
              "      <td>Flesh Tones: A Novel</td>\n",
              "      <td>2966</td>\n",
              "    </tr>\n",
              "  </tbody>\n",
              "</table>\n",
              "</div>\n",
              "      <button class=\"colab-df-convert\" onclick=\"convertToInteractive('df-9929c0df-fb5e-45ea-b688-058b4ad4d5d5')\"\n",
              "              title=\"Convert this dataframe to an interactive table.\"\n",
              "              style=\"display:none;\">\n",
              "        \n",
              "  <svg xmlns=\"http://www.w3.org/2000/svg\" height=\"24px\"viewBox=\"0 0 24 24\"\n",
              "       width=\"24px\">\n",
              "    <path d=\"M0 0h24v24H0V0z\" fill=\"none\"/>\n",
              "    <path d=\"M18.56 5.44l.94 2.06.94-2.06 2.06-.94-2.06-.94-.94-2.06-.94 2.06-2.06.94zm-11 1L8.5 8.5l.94-2.06 2.06-.94-2.06-.94L8.5 2.5l-.94 2.06-2.06.94zm10 10l.94 2.06.94-2.06 2.06-.94-2.06-.94-.94-2.06-.94 2.06-2.06.94z\"/><path d=\"M17.41 7.96l-1.37-1.37c-.4-.4-.92-.59-1.43-.59-.52 0-1.04.2-1.43.59L10.3 9.45l-7.72 7.72c-.78.78-.78 2.05 0 2.83L4 21.41c.39.39.9.59 1.41.59.51 0 1.02-.2 1.41-.59l7.78-7.78 2.81-2.81c.8-.78.8-2.07 0-2.86zM5.41 20L4 18.59l7.72-7.72 1.47 1.35L5.41 20z\"/>\n",
              "  </svg>\n",
              "      </button>\n",
              "      \n",
              "  <style>\n",
              "    .colab-df-container {\n",
              "      display:flex;\n",
              "      flex-wrap:wrap;\n",
              "      gap: 12px;\n",
              "    }\n",
              "\n",
              "    .colab-df-convert {\n",
              "      background-color: #E8F0FE;\n",
              "      border: none;\n",
              "      border-radius: 50%;\n",
              "      cursor: pointer;\n",
              "      display: none;\n",
              "      fill: #1967D2;\n",
              "      height: 32px;\n",
              "      padding: 0 0 0 0;\n",
              "      width: 32px;\n",
              "    }\n",
              "\n",
              "    .colab-df-convert:hover {\n",
              "      background-color: #E2EBFA;\n",
              "      box-shadow: 0px 1px 2px rgba(60, 64, 67, 0.3), 0px 1px 3px 1px rgba(60, 64, 67, 0.15);\n",
              "      fill: #174EA6;\n",
              "    }\n",
              "\n",
              "    [theme=dark] .colab-df-convert {\n",
              "      background-color: #3B4455;\n",
              "      fill: #D2E3FC;\n",
              "    }\n",
              "\n",
              "    [theme=dark] .colab-df-convert:hover {\n",
              "      background-color: #434B5C;\n",
              "      box-shadow: 0px 1px 3px 1px rgba(0, 0, 0, 0.15);\n",
              "      filter: drop-shadow(0px 1px 2px rgba(0, 0, 0, 0.3));\n",
              "      fill: #FFFFFF;\n",
              "    }\n",
              "  </style>\n",
              "\n",
              "      <script>\n",
              "        const buttonEl =\n",
              "          document.querySelector('#df-9929c0df-fb5e-45ea-b688-058b4ad4d5d5 button.colab-df-convert');\n",
              "        buttonEl.style.display =\n",
              "          google.colab.kernel.accessAllowed ? 'block' : 'none';\n",
              "\n",
              "        async function convertToInteractive(key) {\n",
              "          const element = document.querySelector('#df-9929c0df-fb5e-45ea-b688-058b4ad4d5d5');\n",
              "          const dataTable =\n",
              "            await google.colab.kernel.invokeFunction('convertToInteractive',\n",
              "                                                     [key], {});\n",
              "          if (!dataTable) return;\n",
              "\n",
              "          const docLinkHtml = 'Like what you see? Visit the ' +\n",
              "            '<a target=\"_blank\" href=https://colab.research.google.com/notebooks/data_table.ipynb>data table notebook</a>'\n",
              "            + ' to learn more about interactive tables.';\n",
              "          element.innerHTML = '';\n",
              "          dataTable['output_type'] = 'display_data';\n",
              "          await google.colab.output.renderOutput(dataTable, element);\n",
              "          const docLink = document.createElement('div');\n",
              "          docLink.innerHTML = docLinkHtml;\n",
              "          element.appendChild(docLink);\n",
              "        }\n",
              "      </script>\n",
              "    </div>\n",
              "  </div>\n",
              "  "
            ],
            "text/plain": [
              "   User-ID        ISBN  Book-Rating            Book-Title  Book-ID\n",
              "0   276725  034545104X            0  Flesh Tones: A Novel     2966\n",
              "1     2313  034545104X            5  Flesh Tones: A Novel     2966\n",
              "2     6543  034545104X            0  Flesh Tones: A Novel     2966\n",
              "3     8680  034545104X            5  Flesh Tones: A Novel     2966\n",
              "4    10314  034545104X            9  Flesh Tones: A Novel     2966"
            ]
          },
          "metadata": {},
          "execution_count": 23
        }
      ],
      "source": [
        "book_rating.head()"
      ],
      "id": "7g8uG6BvIYLr"
    },
    {
      "cell_type": "markdown",
      "metadata": {
        "id": "SyyxvJ7tIYLr"
      },
      "source": [
        "## Data Preparation"
      ],
      "id": "SyyxvJ7tIYLr"
    },
    {
      "cell_type": "markdown",
      "metadata": {
        "id": "nmAj-etvIYLr"
      },
      "source": [
        "##### Question 1\n",
        " - Add a column `RatingCount_book` to `book_rating` containing the count of ratings of the corresponding book. The new dataframe will be called `user_rating`\n",
        " - Filter out books where the number of rating is below `30`\n",
        " \n",
        "|    |   Book-ID |   RatingCount_book |   User-ID |       ISBN |   Book-Rating | Book-Title             |\n",
        "|---:|----------:|-------------------:|----------:|-----------:|--------------:|:-----------------------|\n",
        "|  0 |         5 |                 33 |         8 | 0399135782 |             0 | The Kitchen God's Wife |\n",
        "|  1 |         5 |                 33 |     11676 | 0399135782 |             9 | The Kitchen God's Wife |\n",
        "|  2 |         5 |                 33 |     29526 | 0399135782 |             9 | The Kitchen God's Wife |\n",
        "|  3 |         5 |                 33 |     36836 | 0399135782 |             0 | The Kitchen God's Wife |\n",
        "|  4 |         5 |                 33 |     46398 | 0399135782 |             9 | The Kitchen God's Wife |\n"
      ],
      "id": "nmAj-etvIYLr"
    },
    {
      "cell_type": "markdown",
      "metadata": {
        "id": "N1L-MTaRIYLr"
      },
      "source": [
        "###### Solution"
      ],
      "id": "N1L-MTaRIYLr"
    },
    {
      "cell_type": "code",
      "execution_count": null,
      "metadata": {
        "id": "YxON4-JCIYLr"
      },
      "outputs": [],
      "source": [
        "#book_rating[\"RatingCount_book\"] = book_rating.groupby('ISBN')['ISBN'].transform('count')\n",
        "book_rating.loc[:,\"RatingCount_book\"] = book_rating.groupby('ISBN')['ISBN'].transform('count')"
      ],
      "id": "YxON4-JCIYLr"
    },
    {
      "cell_type": "code",
      "execution_count": null,
      "metadata": {
        "id": "WNIfdRikIYLr"
      },
      "outputs": [],
      "source": [
        "user_rating = book_rating[(book_rating['RatingCount_book']>=30)]"
      ],
      "id": "WNIfdRikIYLr"
    },
    {
      "cell_type": "code",
      "execution_count": null,
      "metadata": {
        "colab": {
          "base_uri": "https://localhost:8080/",
          "height": 206
        },
        "id": "dUU2fgPgIYLr",
        "outputId": "2a895159-bfc7-4a42-8028-6bd7e1ee63fd"
      },
      "outputs": [
        {
          "output_type": "execute_result",
          "data": {
            "text/html": [
              "\n",
              "  <div id=\"df-f7f6e3a1-8761-41fe-adb2-95340f917a5c\">\n",
              "    <div class=\"colab-df-container\">\n",
              "      <div>\n",
              "<style scoped>\n",
              "    .dataframe tbody tr th:only-of-type {\n",
              "        vertical-align: middle;\n",
              "    }\n",
              "\n",
              "    .dataframe tbody tr th {\n",
              "        vertical-align: top;\n",
              "    }\n",
              "\n",
              "    .dataframe thead th {\n",
              "        text-align: right;\n",
              "    }\n",
              "</style>\n",
              "<table border=\"1\" class=\"dataframe\">\n",
              "  <thead>\n",
              "    <tr style=\"text-align: right;\">\n",
              "      <th></th>\n",
              "      <th>User-ID</th>\n",
              "      <th>ISBN</th>\n",
              "      <th>Book-Rating</th>\n",
              "      <th>Book-Title</th>\n",
              "      <th>Book-ID</th>\n",
              "      <th>RatingCount_book</th>\n",
              "    </tr>\n",
              "  </thead>\n",
              "  <tbody>\n",
              "    <tr>\n",
              "      <th>330464</th>\n",
              "      <td>48975</td>\n",
              "      <td>0449214176</td>\n",
              "      <td>0</td>\n",
              "      <td>Bluebeard's Egg and Other Stories</td>\n",
              "      <td>6421</td>\n",
              "      <td>30</td>\n",
              "    </tr>\n",
              "    <tr>\n",
              "      <th>330463</th>\n",
              "      <td>38887</td>\n",
              "      <td>0449214176</td>\n",
              "      <td>7</td>\n",
              "      <td>Bluebeard's Egg and Other Stories</td>\n",
              "      <td>6421</td>\n",
              "      <td>30</td>\n",
              "    </tr>\n",
              "    <tr>\n",
              "      <th>330462</th>\n",
              "      <td>35050</td>\n",
              "      <td>0449214176</td>\n",
              "      <td>0</td>\n",
              "      <td>Bluebeard's Egg and Other Stories</td>\n",
              "      <td>6421</td>\n",
              "      <td>30</td>\n",
              "    </tr>\n",
              "    <tr>\n",
              "      <th>330461</th>\n",
              "      <td>33958</td>\n",
              "      <td>0449214176</td>\n",
              "      <td>0</td>\n",
              "      <td>Bluebeard's Egg and Other Stories</td>\n",
              "      <td>6421</td>\n",
              "      <td>30</td>\n",
              "    </tr>\n",
              "    <tr>\n",
              "      <th>23675</th>\n",
              "      <td>72287</td>\n",
              "      <td>0399148450</td>\n",
              "      <td>0</td>\n",
              "      <td>Widow's Walk (Spenser Mysteries (Hardcover))</td>\n",
              "      <td>7740</td>\n",
              "      <td>30</td>\n",
              "    </tr>\n",
              "  </tbody>\n",
              "</table>\n",
              "</div>\n",
              "      <button class=\"colab-df-convert\" onclick=\"convertToInteractive('df-f7f6e3a1-8761-41fe-adb2-95340f917a5c')\"\n",
              "              title=\"Convert this dataframe to an interactive table.\"\n",
              "              style=\"display:none;\">\n",
              "        \n",
              "  <svg xmlns=\"http://www.w3.org/2000/svg\" height=\"24px\"viewBox=\"0 0 24 24\"\n",
              "       width=\"24px\">\n",
              "    <path d=\"M0 0h24v24H0V0z\" fill=\"none\"/>\n",
              "    <path d=\"M18.56 5.44l.94 2.06.94-2.06 2.06-.94-2.06-.94-.94-2.06-.94 2.06-2.06.94zm-11 1L8.5 8.5l.94-2.06 2.06-.94-2.06-.94L8.5 2.5l-.94 2.06-2.06.94zm10 10l.94 2.06.94-2.06 2.06-.94-2.06-.94-.94-2.06-.94 2.06-2.06.94z\"/><path d=\"M17.41 7.96l-1.37-1.37c-.4-.4-.92-.59-1.43-.59-.52 0-1.04.2-1.43.59L10.3 9.45l-7.72 7.72c-.78.78-.78 2.05 0 2.83L4 21.41c.39.39.9.59 1.41.59.51 0 1.02-.2 1.41-.59l7.78-7.78 2.81-2.81c.8-.78.8-2.07 0-2.86zM5.41 20L4 18.59l7.72-7.72 1.47 1.35L5.41 20z\"/>\n",
              "  </svg>\n",
              "      </button>\n",
              "      \n",
              "  <style>\n",
              "    .colab-df-container {\n",
              "      display:flex;\n",
              "      flex-wrap:wrap;\n",
              "      gap: 12px;\n",
              "    }\n",
              "\n",
              "    .colab-df-convert {\n",
              "      background-color: #E8F0FE;\n",
              "      border: none;\n",
              "      border-radius: 50%;\n",
              "      cursor: pointer;\n",
              "      display: none;\n",
              "      fill: #1967D2;\n",
              "      height: 32px;\n",
              "      padding: 0 0 0 0;\n",
              "      width: 32px;\n",
              "    }\n",
              "\n",
              "    .colab-df-convert:hover {\n",
              "      background-color: #E2EBFA;\n",
              "      box-shadow: 0px 1px 2px rgba(60, 64, 67, 0.3), 0px 1px 3px 1px rgba(60, 64, 67, 0.15);\n",
              "      fill: #174EA6;\n",
              "    }\n",
              "\n",
              "    [theme=dark] .colab-df-convert {\n",
              "      background-color: #3B4455;\n",
              "      fill: #D2E3FC;\n",
              "    }\n",
              "\n",
              "    [theme=dark] .colab-df-convert:hover {\n",
              "      background-color: #434B5C;\n",
              "      box-shadow: 0px 1px 3px 1px rgba(0, 0, 0, 0.15);\n",
              "      filter: drop-shadow(0px 1px 2px rgba(0, 0, 0, 0.3));\n",
              "      fill: #FFFFFF;\n",
              "    }\n",
              "  </style>\n",
              "\n",
              "      <script>\n",
              "        const buttonEl =\n",
              "          document.querySelector('#df-f7f6e3a1-8761-41fe-adb2-95340f917a5c button.colab-df-convert');\n",
              "        buttonEl.style.display =\n",
              "          google.colab.kernel.accessAllowed ? 'block' : 'none';\n",
              "\n",
              "        async function convertToInteractive(key) {\n",
              "          const element = document.querySelector('#df-f7f6e3a1-8761-41fe-adb2-95340f917a5c');\n",
              "          const dataTable =\n",
              "            await google.colab.kernel.invokeFunction('convertToInteractive',\n",
              "                                                     [key], {});\n",
              "          if (!dataTable) return;\n",
              "\n",
              "          const docLinkHtml = 'Like what you see? Visit the ' +\n",
              "            '<a target=\"_blank\" href=https://colab.research.google.com/notebooks/data_table.ipynb>data table notebook</a>'\n",
              "            + ' to learn more about interactive tables.';\n",
              "          element.innerHTML = '';\n",
              "          dataTable['output_type'] = 'display_data';\n",
              "          await google.colab.output.renderOutput(dataTable, element);\n",
              "          const docLink = document.createElement('div');\n",
              "          docLink.innerHTML = docLinkHtml;\n",
              "          element.appendChild(docLink);\n",
              "        }\n",
              "      </script>\n",
              "    </div>\n",
              "  </div>\n",
              "  "
            ],
            "text/plain": [
              "        User-ID        ISBN  ...  Book-ID RatingCount_book\n",
              "330464    48975  0449214176  ...     6421               30\n",
              "330463    38887  0449214176  ...     6421               30\n",
              "330462    35050  0449214176  ...     6421               30\n",
              "330461    33958  0449214176  ...     6421               30\n",
              "23675     72287  0399148450  ...     7740               30\n",
              "\n",
              "[5 rows x 6 columns]"
            ]
          },
          "metadata": {},
          "execution_count": 18
        }
      ],
      "source": [
        "user_rating.sort_values(by=['RatingCount_book'],ascending=False).tail()"
      ],
      "id": "dUU2fgPgIYLr"
    },
    {
      "cell_type": "code",
      "execution_count": null,
      "metadata": {
        "colab": {
          "base_uri": "https://localhost:8080/"
        },
        "id": "lxB7afHsIYLr",
        "outputId": "9210e38a-6c1f-4a17-e0a2-ad5cfebb3c27"
      },
      "outputs": [
        {
          "output_type": "execute_result",
          "data": {
            "text/plain": [
              "(315065, 6)"
            ]
          },
          "metadata": {},
          "execution_count": 19
        }
      ],
      "source": [
        "user_rating.shape"
      ],
      "id": "lxB7afHsIYLr"
    },
    {
      "cell_type": "markdown",
      "metadata": {
        "id": "TUyGSlBZIYLr"
      },
      "source": [
        "##### Question 2\n",
        " - Add a column `RatingCount_user` to `user_rating` containing the count of ratings made by the user. The new dataframe will be called `final_df`\n",
        " - Filter out users where the number of rating is below `20`\n",
        "\n",
        " \n",
        "|    |   Book-ID |   RatingCount_book |   User-ID |       ISBN |   Book-Rating | Book-Title                                                    |   RatingCount_user |\n",
        "|---:|----------:|-------------------:|----------:|-----------:|--------------:|:--------------------------------------------------------------|-------------------:|\n",
        "|  0 |         5 |                 33 |     11676 | 0399135782 |             9 | The Kitchen God's Wife                                        |               2495 |\n",
        "|  1 |        18 |                422 |     11676 | 0440234743 |             9 | The Testament                                                 |               2495 |\n",
        "|  2 |        19 |                180 |     11676 | 0452264464 |             8 | Beloved (Plume Contemporary Fiction)                          |               2495 |\n",
        "|  3 |        21 |                 37 |     11676 | 1841721522 |            10 | New Vegetarian: Bold and Beautiful Recipes for Every Occasion |               2495 |\n",
        "|  4 |        26 |               2502 |     11676 | 0971880107 |             6 | Wild Animus                                                   |               2495 |"
      ],
      "id": "TUyGSlBZIYLr"
    },
    {
      "cell_type": "markdown",
      "metadata": {
        "id": "5XqMnGANIYLs"
      },
      "source": [
        "##### Solution"
      ],
      "id": "5XqMnGANIYLs"
    },
    {
      "cell_type": "code",
      "execution_count": null,
      "metadata": {
        "colab": {
          "base_uri": "https://localhost:8080/"
        },
        "id": "YTtao1s-IYLs",
        "outputId": "5174b1b4-d32d-4a6d-cfc2-5ad09a6d24e2"
      },
      "outputs": [
        {
          "output_type": "stream",
          "name": "stderr",
          "text": [
            "/usr/local/lib/python3.7/dist-packages/pandas/core/indexing.py:1667: SettingWithCopyWarning: \n",
            "A value is trying to be set on a copy of a slice from a DataFrame.\n",
            "Try using .loc[row_indexer,col_indexer] = value instead\n",
            "\n",
            "See the caveats in the documentation: https://pandas.pydata.org/pandas-docs/stable/user_guide/indexing.html#returning-a-view-versus-a-copy\n",
            "  self.obj[key] = value\n"
          ]
        }
      ],
      "source": [
        "user_rating.loc[:, 'RatingCount_user'] = user_rating.groupby('User-ID')['Book-Rating'].transform('count')"
      ],
      "id": "YTtao1s-IYLs"
    },
    {
      "cell_type": "code",
      "execution_count": null,
      "metadata": {
        "id": "uI7rSNbbIYLs"
      },
      "outputs": [],
      "source": [
        "final_df = user_rating[(user_rating['RatingCount_user']>=20)]"
      ],
      "id": "uI7rSNbbIYLs"
    },
    {
      "cell_type": "code",
      "execution_count": null,
      "metadata": {
        "colab": {
          "base_uri": "https://localhost:8080/",
          "height": 206
        },
        "id": "PcP_78JjIYLs",
        "outputId": "0028d0b3-9463-441f-9649-99504328527b"
      },
      "outputs": [
        {
          "output_type": "execute_result",
          "data": {
            "text/html": [
              "\n",
              "  <div id=\"df-a405c916-3e0c-4930-92d9-785fe5036b52\">\n",
              "    <div class=\"colab-df-container\">\n",
              "      <div>\n",
              "<style scoped>\n",
              "    .dataframe tbody tr th:only-of-type {\n",
              "        vertical-align: middle;\n",
              "    }\n",
              "\n",
              "    .dataframe tbody tr th {\n",
              "        vertical-align: top;\n",
              "    }\n",
              "\n",
              "    .dataframe thead th {\n",
              "        text-align: right;\n",
              "    }\n",
              "</style>\n",
              "<table border=\"1\" class=\"dataframe\">\n",
              "  <thead>\n",
              "    <tr style=\"text-align: right;\">\n",
              "      <th></th>\n",
              "      <th>User-ID</th>\n",
              "      <th>ISBN</th>\n",
              "      <th>Book-Rating</th>\n",
              "      <th>Book-Title</th>\n",
              "      <th>Book-ID</th>\n",
              "      <th>RatingCount_book</th>\n",
              "      <th>RatingCount_user</th>\n",
              "    </tr>\n",
              "  </thead>\n",
              "  <tbody>\n",
              "    <tr>\n",
              "      <th>514881</th>\n",
              "      <td>189666</td>\n",
              "      <td>1401088945</td>\n",
              "      <td>0</td>\n",
              "      <td>Ground Zero and Beyond</td>\n",
              "      <td>24956</td>\n",
              "      <td>68</td>\n",
              "      <td>20</td>\n",
              "    </tr>\n",
              "    <tr>\n",
              "      <th>317323</th>\n",
              "      <td>144194</td>\n",
              "      <td>0440972329</td>\n",
              "      <td>0</td>\n",
              "      <td>A Ring of Endless Light (Austin Family)</td>\n",
              "      <td>5553</td>\n",
              "      <td>33</td>\n",
              "      <td>20</td>\n",
              "    </tr>\n",
              "    <tr>\n",
              "      <th>514887</th>\n",
              "      <td>211961</td>\n",
              "      <td>1401088945</td>\n",
              "      <td>0</td>\n",
              "      <td>Ground Zero and Beyond</td>\n",
              "      <td>24956</td>\n",
              "      <td>68</td>\n",
              "      <td>20</td>\n",
              "    </tr>\n",
              "    <tr>\n",
              "      <th>150133</th>\n",
              "      <td>198930</td>\n",
              "      <td>0441005764</td>\n",
              "      <td>8</td>\n",
              "      <td>Mossflower (Redwall, Book 2)</td>\n",
              "      <td>3242</td>\n",
              "      <td>46</td>\n",
              "      <td>20</td>\n",
              "    </tr>\n",
              "    <tr>\n",
              "      <th>271140</th>\n",
              "      <td>98930</td>\n",
              "      <td>0060921145</td>\n",
              "      <td>0</td>\n",
              "      <td>Animal Dreams</td>\n",
              "      <td>6628</td>\n",
              "      <td>166</td>\n",
              "      <td>20</td>\n",
              "    </tr>\n",
              "  </tbody>\n",
              "</table>\n",
              "</div>\n",
              "      <button class=\"colab-df-convert\" onclick=\"convertToInteractive('df-a405c916-3e0c-4930-92d9-785fe5036b52')\"\n",
              "              title=\"Convert this dataframe to an interactive table.\"\n",
              "              style=\"display:none;\">\n",
              "        \n",
              "  <svg xmlns=\"http://www.w3.org/2000/svg\" height=\"24px\"viewBox=\"0 0 24 24\"\n",
              "       width=\"24px\">\n",
              "    <path d=\"M0 0h24v24H0V0z\" fill=\"none\"/>\n",
              "    <path d=\"M18.56 5.44l.94 2.06.94-2.06 2.06-.94-2.06-.94-.94-2.06-.94 2.06-2.06.94zm-11 1L8.5 8.5l.94-2.06 2.06-.94-2.06-.94L8.5 2.5l-.94 2.06-2.06.94zm10 10l.94 2.06.94-2.06 2.06-.94-2.06-.94-.94-2.06-.94 2.06-2.06.94z\"/><path d=\"M17.41 7.96l-1.37-1.37c-.4-.4-.92-.59-1.43-.59-.52 0-1.04.2-1.43.59L10.3 9.45l-7.72 7.72c-.78.78-.78 2.05 0 2.83L4 21.41c.39.39.9.59 1.41.59.51 0 1.02-.2 1.41-.59l7.78-7.78 2.81-2.81c.8-.78.8-2.07 0-2.86zM5.41 20L4 18.59l7.72-7.72 1.47 1.35L5.41 20z\"/>\n",
              "  </svg>\n",
              "      </button>\n",
              "      \n",
              "  <style>\n",
              "    .colab-df-container {\n",
              "      display:flex;\n",
              "      flex-wrap:wrap;\n",
              "      gap: 12px;\n",
              "    }\n",
              "\n",
              "    .colab-df-convert {\n",
              "      background-color: #E8F0FE;\n",
              "      border: none;\n",
              "      border-radius: 50%;\n",
              "      cursor: pointer;\n",
              "      display: none;\n",
              "      fill: #1967D2;\n",
              "      height: 32px;\n",
              "      padding: 0 0 0 0;\n",
              "      width: 32px;\n",
              "    }\n",
              "\n",
              "    .colab-df-convert:hover {\n",
              "      background-color: #E2EBFA;\n",
              "      box-shadow: 0px 1px 2px rgba(60, 64, 67, 0.3), 0px 1px 3px 1px rgba(60, 64, 67, 0.15);\n",
              "      fill: #174EA6;\n",
              "    }\n",
              "\n",
              "    [theme=dark] .colab-df-convert {\n",
              "      background-color: #3B4455;\n",
              "      fill: #D2E3FC;\n",
              "    }\n",
              "\n",
              "    [theme=dark] .colab-df-convert:hover {\n",
              "      background-color: #434B5C;\n",
              "      box-shadow: 0px 1px 3px 1px rgba(0, 0, 0, 0.15);\n",
              "      filter: drop-shadow(0px 1px 2px rgba(0, 0, 0, 0.3));\n",
              "      fill: #FFFFFF;\n",
              "    }\n",
              "  </style>\n",
              "\n",
              "      <script>\n",
              "        const buttonEl =\n",
              "          document.querySelector('#df-a405c916-3e0c-4930-92d9-785fe5036b52 button.colab-df-convert');\n",
              "        buttonEl.style.display =\n",
              "          google.colab.kernel.accessAllowed ? 'block' : 'none';\n",
              "\n",
              "        async function convertToInteractive(key) {\n",
              "          const element = document.querySelector('#df-a405c916-3e0c-4930-92d9-785fe5036b52');\n",
              "          const dataTable =\n",
              "            await google.colab.kernel.invokeFunction('convertToInteractive',\n",
              "                                                     [key], {});\n",
              "          if (!dataTable) return;\n",
              "\n",
              "          const docLinkHtml = 'Like what you see? Visit the ' +\n",
              "            '<a target=\"_blank\" href=https://colab.research.google.com/notebooks/data_table.ipynb>data table notebook</a>'\n",
              "            + ' to learn more about interactive tables.';\n",
              "          element.innerHTML = '';\n",
              "          dataTable['output_type'] = 'display_data';\n",
              "          await google.colab.output.renderOutput(dataTable, element);\n",
              "          const docLink = document.createElement('div');\n",
              "          docLink.innerHTML = docLinkHtml;\n",
              "          element.appendChild(docLink);\n",
              "        }\n",
              "      </script>\n",
              "    </div>\n",
              "  </div>\n",
              "  "
            ],
            "text/plain": [
              "        User-ID        ISBN  ...  RatingCount_book RatingCount_user\n",
              "514881   189666  1401088945  ...                68               20\n",
              "317323   144194  0440972329  ...                33               20\n",
              "514887   211961  1401088945  ...                68               20\n",
              "150133   198930  0441005764  ...                46               20\n",
              "271140    98930  0060921145  ...               166               20\n",
              "\n",
              "[5 rows x 7 columns]"
            ]
          },
          "metadata": {},
          "execution_count": 22
        }
      ],
      "source": [
        "final_df.sort_values(by=['RatingCount_user'],ascending=False).tail()"
      ],
      "id": "PcP_78JjIYLs"
    },
    {
      "cell_type": "markdown",
      "metadata": {
        "id": "I6czSwZeIYLs"
      },
      "source": [
        "##### Question 3\n",
        "Normalize the `Book-Rating` column using `MinMaxScaler` of `sklearn` ([documentation](https://scikit-learn.org/stable/modules/generated/sklearn.preprocessing.MinMaxScaler.html)) and put the value in the column `Book-Rating-Scaled`"
      ],
      "id": "I6czSwZeIYLs"
    },
    {
      "cell_type": "markdown",
      "metadata": {
        "id": "aMHKvQi8IYLs"
      },
      "source": [
        "##### Solution"
      ],
      "id": "aMHKvQi8IYLs"
    },
    {
      "cell_type": "code",
      "execution_count": null,
      "metadata": {
        "colab": {
          "base_uri": "https://localhost:8080/"
        },
        "id": "6nsqhtlBIYLs",
        "outputId": "f5148fd4-f024-4bb1-c7ca-5e5e71321234"
      },
      "outputs": [
        {
          "output_type": "execute_result",
          "data": {
            "text/plain": [
              "(193475,)"
            ]
          },
          "metadata": {},
          "execution_count": 23
        }
      ],
      "source": [
        "final_df['Book-Rating'].shape"
      ],
      "id": "6nsqhtlBIYLs"
    },
    {
      "cell_type": "code",
      "execution_count": null,
      "metadata": {
        "id": "3N-0wvJzIYLs"
      },
      "outputs": [],
      "source": [
        "import numpy as np"
      ],
      "id": "3N-0wvJzIYLs"
    },
    {
      "cell_type": "code",
      "execution_count": null,
      "metadata": {
        "id": "_mCGWu2WIYLs"
      },
      "outputs": [],
      "source": [
        "dat = np.array(final_df['Book-Rating'].values.reshape(-1, 1))"
      ],
      "id": "_mCGWu2WIYLs"
    },
    {
      "cell_type": "code",
      "execution_count": null,
      "metadata": {
        "id": "vONrJqC7IYLs"
      },
      "outputs": [],
      "source": [
        "from sklearn.preprocessing import MinMaxScaler\n",
        "scaler = MinMaxScaler()"
      ],
      "id": "vONrJqC7IYLs"
    },
    {
      "cell_type": "code",
      "source": [
        "final_df.loc[:,'Book-Rating-Scaled'] = scaler.fit_transform(dat)"
      ],
      "metadata": {
        "id": "x2wedqnrJxzI"
      },
      "id": "x2wedqnrJxzI",
      "execution_count": null,
      "outputs": []
    },
    {
      "cell_type": "code",
      "source": [
        "final_df.head()"
      ],
      "metadata": {
        "colab": {
          "base_uri": "https://localhost:8080/",
          "height": 206
        },
        "id": "WZRzh_VDJ9XZ",
        "outputId": "958bf682-0f57-40cd-cd95-c466506b20a8"
      },
      "id": "WZRzh_VDJ9XZ",
      "execution_count": null,
      "outputs": [
        {
          "output_type": "execute_result",
          "data": {
            "text/html": [
              "\n",
              "  <div id=\"df-cb83ad70-dbbb-4c18-a19e-8ec625ba5aec\">\n",
              "    <div class=\"colab-df-container\">\n",
              "      <div>\n",
              "<style scoped>\n",
              "    .dataframe tbody tr th:only-of-type {\n",
              "        vertical-align: middle;\n",
              "    }\n",
              "\n",
              "    .dataframe tbody tr th {\n",
              "        vertical-align: top;\n",
              "    }\n",
              "\n",
              "    .dataframe thead th {\n",
              "        text-align: right;\n",
              "    }\n",
              "</style>\n",
              "<table border=\"1\" class=\"dataframe\">\n",
              "  <thead>\n",
              "    <tr style=\"text-align: right;\">\n",
              "      <th></th>\n",
              "      <th>User-ID</th>\n",
              "      <th>ISBN</th>\n",
              "      <th>Book-Rating</th>\n",
              "      <th>Book-Title</th>\n",
              "      <th>Book-ID</th>\n",
              "      <th>RatingCount_book</th>\n",
              "      <th>RatingCount_user</th>\n",
              "      <th>Book-Rating-Scaled</th>\n",
              "      <th>User-ID-Continuous</th>\n",
              "      <th>Book-ID-Continuous</th>\n",
              "    </tr>\n",
              "  </thead>\n",
              "  <tbody>\n",
              "    <tr>\n",
              "      <th>2</th>\n",
              "      <td>6543</td>\n",
              "      <td>034545104X</td>\n",
              "      <td>0</td>\n",
              "      <td>Flesh Tones: A Novel</td>\n",
              "      <td>2966</td>\n",
              "      <td>60</td>\n",
              "      <td>146</td>\n",
              "      <td>0.0</td>\n",
              "      <td>43</td>\n",
              "      <td>858</td>\n",
              "    </tr>\n",
              "    <tr>\n",
              "      <th>4</th>\n",
              "      <td>10314</td>\n",
              "      <td>034545104X</td>\n",
              "      <td>9</td>\n",
              "      <td>Flesh Tones: A Novel</td>\n",
              "      <td>2966</td>\n",
              "      <td>60</td>\n",
              "      <td>92</td>\n",
              "      <td>0.9</td>\n",
              "      <td>81</td>\n",
              "      <td>858</td>\n",
              "    </tr>\n",
              "    <tr>\n",
              "      <th>5</th>\n",
              "      <td>23768</td>\n",
              "      <td>034545104X</td>\n",
              "      <td>0</td>\n",
              "      <td>Flesh Tones: A Novel</td>\n",
              "      <td>2966</td>\n",
              "      <td>60</td>\n",
              "      <td>561</td>\n",
              "      <td>0.0</td>\n",
              "      <td>189</td>\n",
              "      <td>858</td>\n",
              "    </tr>\n",
              "    <tr>\n",
              "      <th>7</th>\n",
              "      <td>28523</td>\n",
              "      <td>034545104X</td>\n",
              "      <td>0</td>\n",
              "      <td>Flesh Tones: A Novel</td>\n",
              "      <td>2966</td>\n",
              "      <td>60</td>\n",
              "      <td>89</td>\n",
              "      <td>0.0</td>\n",
              "      <td>234</td>\n",
              "      <td>858</td>\n",
              "    </tr>\n",
              "    <tr>\n",
              "      <th>14</th>\n",
              "      <td>77480</td>\n",
              "      <td>034545104X</td>\n",
              "      <td>8</td>\n",
              "      <td>Flesh Tones: A Novel</td>\n",
              "      <td>2966</td>\n",
              "      <td>60</td>\n",
              "      <td>62</td>\n",
              "      <td>0.8</td>\n",
              "      <td>698</td>\n",
              "      <td>858</td>\n",
              "    </tr>\n",
              "  </tbody>\n",
              "</table>\n",
              "</div>\n",
              "      <button class=\"colab-df-convert\" onclick=\"convertToInteractive('df-cb83ad70-dbbb-4c18-a19e-8ec625ba5aec')\"\n",
              "              title=\"Convert this dataframe to an interactive table.\"\n",
              "              style=\"display:none;\">\n",
              "        \n",
              "  <svg xmlns=\"http://www.w3.org/2000/svg\" height=\"24px\"viewBox=\"0 0 24 24\"\n",
              "       width=\"24px\">\n",
              "    <path d=\"M0 0h24v24H0V0z\" fill=\"none\"/>\n",
              "    <path d=\"M18.56 5.44l.94 2.06.94-2.06 2.06-.94-2.06-.94-.94-2.06-.94 2.06-2.06.94zm-11 1L8.5 8.5l.94-2.06 2.06-.94-2.06-.94L8.5 2.5l-.94 2.06-2.06.94zm10 10l.94 2.06.94-2.06 2.06-.94-2.06-.94-.94-2.06-.94 2.06-2.06.94z\"/><path d=\"M17.41 7.96l-1.37-1.37c-.4-.4-.92-.59-1.43-.59-.52 0-1.04.2-1.43.59L10.3 9.45l-7.72 7.72c-.78.78-.78 2.05 0 2.83L4 21.41c.39.39.9.59 1.41.59.51 0 1.02-.2 1.41-.59l7.78-7.78 2.81-2.81c.8-.78.8-2.07 0-2.86zM5.41 20L4 18.59l7.72-7.72 1.47 1.35L5.41 20z\"/>\n",
              "  </svg>\n",
              "      </button>\n",
              "      \n",
              "  <style>\n",
              "    .colab-df-container {\n",
              "      display:flex;\n",
              "      flex-wrap:wrap;\n",
              "      gap: 12px;\n",
              "    }\n",
              "\n",
              "    .colab-df-convert {\n",
              "      background-color: #E8F0FE;\n",
              "      border: none;\n",
              "      border-radius: 50%;\n",
              "      cursor: pointer;\n",
              "      display: none;\n",
              "      fill: #1967D2;\n",
              "      height: 32px;\n",
              "      padding: 0 0 0 0;\n",
              "      width: 32px;\n",
              "    }\n",
              "\n",
              "    .colab-df-convert:hover {\n",
              "      background-color: #E2EBFA;\n",
              "      box-shadow: 0px 1px 2px rgba(60, 64, 67, 0.3), 0px 1px 3px 1px rgba(60, 64, 67, 0.15);\n",
              "      fill: #174EA6;\n",
              "    }\n",
              "\n",
              "    [theme=dark] .colab-df-convert {\n",
              "      background-color: #3B4455;\n",
              "      fill: #D2E3FC;\n",
              "    }\n",
              "\n",
              "    [theme=dark] .colab-df-convert:hover {\n",
              "      background-color: #434B5C;\n",
              "      box-shadow: 0px 1px 3px 1px rgba(0, 0, 0, 0.15);\n",
              "      filter: drop-shadow(0px 1px 2px rgba(0, 0, 0, 0.3));\n",
              "      fill: #FFFFFF;\n",
              "    }\n",
              "  </style>\n",
              "\n",
              "      <script>\n",
              "        const buttonEl =\n",
              "          document.querySelector('#df-cb83ad70-dbbb-4c18-a19e-8ec625ba5aec button.colab-df-convert');\n",
              "        buttonEl.style.display =\n",
              "          google.colab.kernel.accessAllowed ? 'block' : 'none';\n",
              "\n",
              "        async function convertToInteractive(key) {\n",
              "          const element = document.querySelector('#df-cb83ad70-dbbb-4c18-a19e-8ec625ba5aec');\n",
              "          const dataTable =\n",
              "            await google.colab.kernel.invokeFunction('convertToInteractive',\n",
              "                                                     [key], {});\n",
              "          if (!dataTable) return;\n",
              "\n",
              "          const docLinkHtml = 'Like what you see? Visit the ' +\n",
              "            '<a target=\"_blank\" href=https://colab.research.google.com/notebooks/data_table.ipynb>data table notebook</a>'\n",
              "            + ' to learn more about interactive tables.';\n",
              "          element.innerHTML = '';\n",
              "          dataTable['output_type'] = 'display_data';\n",
              "          await google.colab.output.renderOutput(dataTable, element);\n",
              "          const docLink = document.createElement('div');\n",
              "          docLink.innerHTML = docLinkHtml;\n",
              "          element.appendChild(docLink);\n",
              "        }\n",
              "      </script>\n",
              "    </div>\n",
              "  </div>\n",
              "  "
            ],
            "text/plain": [
              "    User-ID        ISBN  ...  User-ID-Continuous Book-ID-Continuous\n",
              "2      6543  034545104X  ...                  43                858\n",
              "4     10314  034545104X  ...                  81                858\n",
              "5     23768  034545104X  ...                 189                858\n",
              "7     28523  034545104X  ...                 234                858\n",
              "14    77480  034545104X  ...                 698                858\n",
              "\n",
              "[5 rows x 10 columns]"
            ]
          },
          "metadata": {},
          "execution_count": 200
        }
      ]
    },
    {
      "cell_type": "markdown",
      "metadata": {
        "id": "4XINTxPVIYLs"
      },
      "source": [
        "---"
      ],
      "id": "4XINTxPVIYLs"
    },
    {
      "cell_type": "code",
      "execution_count": null,
      "metadata": {
        "id": "F-C9y8RRIYLs"
      },
      "outputs": [],
      "source": [
        "# For later usage\n",
        "# convert userID to continuous sequence of ID\n",
        "codes_user, uniques_user = pd.factorize(final_df['User-ID'], sort=True)\n",
        "final_df['User-ID-Continuous'] = codes_user\n",
        "\n",
        "# convert bookID to continuous sequence of ID\n",
        "codes_book, uniques_book = pd.factorize(final_df['Book-ID'], sort=True)\n",
        "final_df['Book-ID-Continuous'] = codes_book"
      ],
      "id": "F-C9y8RRIYLs"
    },
    {
      "cell_type": "code",
      "execution_count": null,
      "metadata": {
        "colab": {
          "base_uri": "https://localhost:8080/"
        },
        "id": "9aMPk11ZIYLs",
        "outputId": "2cb4126b-f979-46e4-950f-b68dfa19bdc4"
      },
      "outputs": [
        {
          "output_type": "stream",
          "name": "stdout",
          "text": [
            "(154506, 10) (38969, 10)\n"
          ]
        }
      ],
      "source": [
        "# Split the dataset in train/validation\n",
        "split = pd.np.random.rand(len(final_df)) < 0.8\n",
        "train = final_df[split]\n",
        "valid = final_df[~split]\n",
        "print(train.shape , valid.shape)"
      ],
      "id": "9aMPk11ZIYLs"
    },
    {
      "cell_type": "markdown",
      "metadata": {
        "id": "Do4Dm2zWIYLs"
      },
      "source": [
        "## Matrix Factorization"
      ],
      "id": "Do4Dm2zWIYLs"
    },
    {
      "cell_type": "markdown",
      "metadata": {
        "id": "WntNMqv1IYLt"
      },
      "source": [
        "<div>\n",
        "<img src=\"https://miro.medium.com/max/2000/1*WrOoSr49lQs43auSsLlLdg.png\" width=\"800\"/>\n",
        "</div>"
      ],
      "id": "WntNMqv1IYLt"
    },
    {
      "cell_type": "markdown",
      "metadata": {
        "id": "1kZbgVs7IYLt"
      },
      "source": [
        "### Training"
      ],
      "id": "1kZbgVs7IYLt"
    },
    {
      "cell_type": "code",
      "execution_count": null,
      "metadata": {
        "colab": {
          "base_uri": "https://localhost:8080/"
        },
        "id": "TAgIrgbRIYLt",
        "outputId": "26923950-d0c9-47f6-f160-75ede45f7977"
      },
      "outputs": [
        {
          "output_type": "stream",
          "name": "stdout",
          "text": [
            "Epoch 1/1000\n",
            "4844/4844 [==============================] - 54s 11ms/step - loss: 0.6801 - val_loss: 0.6583\n",
            "Epoch 2/1000\n",
            "4844/4844 [==============================] - 50s 10ms/step - loss: 0.5769 - val_loss: 0.5480\n",
            "Epoch 3/1000\n",
            "4844/4844 [==============================] - 52s 11ms/step - loss: 0.5301 - val_loss: 0.5402\n",
            "Epoch 4/1000\n",
            "4844/4844 [==============================] - 51s 11ms/step - loss: 0.5239 - val_loss: 0.5332\n",
            "Epoch 5/1000\n",
            "4844/4844 [==============================] - 49s 10ms/step - loss: 0.5185 - val_loss: 0.5280\n",
            "Epoch 6/1000\n",
            "4844/4844 [==============================] - 50s 10ms/step - loss: 0.5133 - val_loss: 0.5233\n",
            "Epoch 7/1000\n",
            "4844/4844 [==============================] - 50s 10ms/step - loss: 0.5090 - val_loss: 0.5195\n",
            "Epoch 8/1000\n",
            "4844/4844 [==============================] - 48s 10ms/step - loss: 0.5046 - val_loss: 0.5157\n",
            "Epoch 9/1000\n",
            "4844/4844 [==============================] - 52s 11ms/step - loss: 0.5007 - val_loss: 0.5118\n",
            "Epoch 10/1000\n",
            "4844/4844 [==============================] - 50s 10ms/step - loss: 0.4969 - val_loss: 0.5092\n",
            "Epoch 11/1000\n",
            "4844/4844 [==============================] - 50s 10ms/step - loss: 0.4934 - val_loss: 0.5065\n",
            "Epoch 12/1000\n",
            "4844/4844 [==============================] - 51s 11ms/step - loss: 0.4904 - val_loss: 0.5038\n",
            "Epoch 13/1000\n",
            "4844/4844 [==============================] - 49s 10ms/step - loss: 0.4873 - val_loss: 0.5014\n",
            "Epoch 14/1000\n",
            "4844/4844 [==============================] - 47s 10ms/step - loss: 0.4850 - val_loss: 0.4995\n",
            "Epoch 15/1000\n",
            "4844/4844 [==============================] - 49s 10ms/step - loss: 0.4823 - val_loss: 0.4978\n",
            "Epoch 16/1000\n",
            "4844/4844 [==============================] - 50s 10ms/step - loss: 0.4795 - val_loss: 0.4955\n",
            "Epoch 17/1000\n",
            "4844/4844 [==============================] - 51s 11ms/step - loss: 0.4774 - val_loss: 0.4940\n",
            "Epoch 18/1000\n",
            "4844/4844 [==============================] - 53s 11ms/step - loss: 0.4752 - val_loss: 0.4929\n",
            "Epoch 19/1000\n",
            "4844/4844 [==============================] - 50s 10ms/step - loss: 0.4734 - val_loss: 0.4912\n",
            "Epoch 20/1000\n",
            "4844/4844 [==============================] - 49s 10ms/step - loss: 0.4711 - val_loss: 0.4900\n",
            "Epoch 21/1000\n",
            "4844/4844 [==============================] - 48s 10ms/step - loss: 0.4694 - val_loss: 0.4888\n",
            "Epoch 22/1000\n",
            "4844/4844 [==============================] - 51s 11ms/step - loss: 0.4677 - val_loss: 0.4874\n",
            "Epoch 23/1000\n",
            "4844/4844 [==============================] - 49s 10ms/step - loss: 0.4662 - val_loss: 0.4862\n",
            "Epoch 24/1000\n",
            "4844/4844 [==============================] - 52s 11ms/step - loss: 0.4646 - val_loss: 0.4857\n",
            "Epoch 25/1000\n",
            "4844/4844 [==============================] - 49s 10ms/step - loss: 0.4630 - val_loss: 0.4846\n",
            "Epoch 26/1000\n",
            "4844/4844 [==============================] - 53s 11ms/step - loss: 0.4617 - val_loss: 0.4844\n",
            "Epoch 27/1000\n",
            "4844/4844 [==============================] - 53s 11ms/step - loss: 0.4603 - val_loss: 0.4828\n",
            "Epoch 28/1000\n",
            "4844/4844 [==============================] - 51s 10ms/step - loss: 0.4590 - val_loss: 0.4821\n",
            "Epoch 29/1000\n",
            "4844/4844 [==============================] - 50s 10ms/step - loss: 0.4576 - val_loss: 0.4815\n",
            "Epoch 30/1000\n",
            "4844/4844 [==============================] - 54s 11ms/step - loss: 0.4567 - val_loss: 0.4805\n",
            "Epoch 31/1000\n",
            "4844/4844 [==============================] - 52s 11ms/step - loss: 0.4556 - val_loss: 0.4800\n",
            "Epoch 32/1000\n",
            "4844/4844 [==============================] - 53s 11ms/step - loss: 0.4546 - val_loss: 0.4797\n",
            "Epoch 33/1000\n",
            "4844/4844 [==============================] - 50s 10ms/step - loss: 0.4539 - val_loss: 0.4795\n",
            "Epoch 34/1000\n",
            "4844/4844 [==============================] - 53s 11ms/step - loss: 0.4527 - val_loss: 0.4787\n",
            "Epoch 35/1000\n",
            "4844/4844 [==============================] - 51s 10ms/step - loss: 0.4517 - val_loss: 0.4785\n",
            "Epoch 36/1000\n",
            "4844/4844 [==============================] - 48s 10ms/step - loss: 0.4504 - val_loss: 0.4780\n",
            "Epoch 37/1000\n",
            "4844/4844 [==============================] - 46s 9ms/step - loss: 0.4496 - val_loss: 0.4777\n",
            "Epoch 38/1000\n",
            "4844/4844 [==============================] - 47s 10ms/step - loss: 0.4491 - val_loss: 0.4773\n",
            "Epoch 39/1000\n",
            "4844/4844 [==============================] - 46s 10ms/step - loss: 0.4485 - val_loss: 0.4768\n",
            "Epoch 40/1000\n",
            "4844/4844 [==============================] - 46s 9ms/step - loss: 0.4474 - val_loss: 0.4769\n",
            "Epoch 41/1000\n",
            "4844/4844 [==============================] - 45s 9ms/step - loss: 0.4469 - val_loss: 0.4762\n",
            "Epoch 42/1000\n",
            "4844/4844 [==============================] - 47s 10ms/step - loss: 0.4465 - val_loss: 0.4762\n",
            "Epoch 43/1000\n",
            "4844/4844 [==============================] - 46s 10ms/step - loss: 0.4453 - val_loss: 0.4753\n",
            "Epoch 44/1000\n",
            "4844/4844 [==============================] - 50s 10ms/step - loss: 0.4451 - val_loss: 0.4751\n",
            "Epoch 45/1000\n",
            "4844/4844 [==============================] - 48s 10ms/step - loss: 0.4445 - val_loss: 0.4753\n",
            "Epoch 46/1000\n",
            "4844/4844 [==============================] - 47s 10ms/step - loss: 0.4442 - val_loss: 0.4746\n",
            "Epoch 47/1000\n",
            "4844/4844 [==============================] - 52s 11ms/step - loss: 0.4433 - val_loss: 0.4746\n",
            "Epoch 48/1000\n",
            "4844/4844 [==============================] - 50s 10ms/step - loss: 0.4428 - val_loss: 0.4744\n",
            "Epoch 49/1000\n",
            "4844/4844 [==============================] - 46s 10ms/step - loss: 0.4419 - val_loss: 0.4750\n",
            "Epoch 50/1000\n",
            "4844/4844 [==============================] - 48s 10ms/step - loss: 0.4417 - val_loss: 0.4743\n",
            "Epoch 51/1000\n",
            "4844/4844 [==============================] - 48s 10ms/step - loss: 0.4417 - val_loss: 0.4747\n",
            "Epoch 52/1000\n",
            "4844/4844 [==============================] - 46s 10ms/step - loss: 0.4408 - val_loss: 0.4745\n",
            "Epoch 53/1000\n",
            "4844/4844 [==============================] - 50s 10ms/step - loss: 0.4405 - val_loss: 0.4741\n",
            "Epoch 54/1000\n",
            "4844/4844 [==============================] - 46s 10ms/step - loss: 0.4399 - val_loss: 0.4743\n",
            "Epoch 55/1000\n",
            "4844/4844 [==============================] - 49s 10ms/step - loss: 0.4397 - val_loss: 0.4744\n",
            "Epoch 56/1000\n",
            "4844/4844 [==============================] - 49s 10ms/step - loss: 0.4394 - val_loss: 0.4741\n",
            "Epoch 57/1000\n",
            "4844/4844 [==============================] - 44s 9ms/step - loss: 0.4390 - val_loss: 0.4739\n",
            "Epoch 58/1000\n",
            "4844/4844 [==============================] - 48s 10ms/step - loss: 0.4386 - val_loss: 0.4739\n",
            "Epoch 59/1000\n",
            "4844/4844 [==============================] - 50s 10ms/step - loss: 0.4385 - val_loss: 0.4739\n",
            "Epoch 60/1000\n",
            "4844/4844 [==============================] - 47s 10ms/step - loss: 0.4381 - val_loss: 0.4741\n"
          ]
        }
      ],
      "source": [
        "import tensorflow as tf \n",
        "from tensorflow import keras\n",
        "\n",
        "# Hyperparameters\n",
        "DIM_LATENT = 100\n",
        "EPOCHS = 1000\n",
        "BATCH_SIZE = 32\n",
        "INITIAL_LR = 10**-4\n",
        "\n",
        "NB_USER = final_df.nunique()[\"User-ID-Continuous\"]\n",
        "NB_BOOK = final_df.nunique()['Book-ID-Continuous']\n",
        "\n",
        "# Inputs\n",
        "user_input = keras.layers.Input(shape=(1,), name='user_input', dtype='int64')\n",
        "book_input = keras.layers.Input(shape=(1,), name='book_input', dtype='int64')\n",
        "\n",
        "# Bias\n",
        "user_bias = keras.layers.Embedding(NB_USER, 1)(user_input)\n",
        "book_bias = keras.layers.Embedding(NB_BOOK, 1)(book_input)\n",
        "\n",
        "# Embbeddings\n",
        "user_embedding=keras.layers.Embedding(NB_USER,\n",
        "                                      DIM_LATENT,\n",
        "                                      name='user_embedding',\n",
        "                                      embeddings_initializer=\"he_normal\",\n",
        "                                      embeddings_regularizer=keras.regularizers.l2(1e-6),\n",
        "                                     )(user_input)\n",
        "\n",
        "book_embedding=keras.layers.Embedding(NB_BOOK,\n",
        "                                     DIM_LATENT,\n",
        "                                     name='book_embedding',\n",
        "                                     embeddings_initializer=\"he_normal\",\n",
        "                                     embeddings_regularizer=keras.regularizers.l2(1e-6),\n",
        "                                    )(book_input)\n",
        "\n",
        "# Flattening \n",
        "user_vec = keras.layers.Flatten(name='FlattenUsers')(user_embedding)\n",
        "book_vec = keras.layers.Flatten(name='FlattenBooks')(book_embedding)\n",
        "\n",
        "# Dot product between the two matrixes\n",
        "dot_user_book = tf.tensordot(user_vec, book_vec, 2)\n",
        "\n",
        "# Add all the components (including bias)\n",
        "x = dot_user_book + user_bias + book_bias\n",
        "\n",
        "# The sigmoid activation forces scores to be in [0, 1]\n",
        "output = tf.nn.sigmoid(x)\n",
        "\n",
        "mf_model = keras.models.Model([user_input, book_input], output)\n",
        "\n",
        "mf_model.compile(\n",
        "    loss=tf.keras.losses.BinaryCrossentropy(),\n",
        "    optimizer=keras.optimizers.Adam(learning_rate=INITIAL_LR)\n",
        ")\n",
        "\n",
        "# Earl stopping in order to stop training when overfitting begins. \n",
        "early_stopping = keras.callbacks.EarlyStopping(\n",
        "    monitor='val_loss',\n",
        "    min_delta=0,\n",
        "    patience=3,\n",
        "    verbose=0,\n",
        "    mode='auto',\n",
        "    baseline=None,\n",
        "    restore_best_weights=True\n",
        ")\n",
        "\n",
        "# Fit the model \n",
        "history = mf_model.fit(\n",
        "    [train['User-ID-Continuous'],train['Book-ID-Continuous']],\n",
        "    train['Book-Rating-Scaled'],\n",
        "    batch_size=BATCH_SIZE,\n",
        "    epochs=EPOCHS,\n",
        "    validation_data=([valid['User-ID-Continuous'],\n",
        "                      valid['Book-ID-Continuous']],\n",
        "                      valid['Book-Rating-Scaled']),\n",
        "    verbose=1,\n",
        "    callbacks=[early_stopping]\n",
        ")"
      ],
      "id": "TAgIrgbRIYLt"
    },
    {
      "cell_type": "code",
      "execution_count": null,
      "metadata": {
        "colab": {
          "base_uri": "https://localhost:8080/",
          "height": 621
        },
        "id": "izGleELjIYLt",
        "outputId": "6b8778d3-d5b2-4088-9abd-28172a8325f2"
      },
      "outputs": [
        {
          "output_type": "display_data",
          "data": {
            "image/png": "[encoded data removed]",
            "text/plain": [
              "<Figure size 1440x720 with 1 Axes>"
            ]
          },
          "metadata": {
            "needs_background": "light"
          }
        }
      ],
      "source": [
        "# Plot learning curve\n",
        "plt.plot(history.history['loss'] , 'g')\n",
        "plt.plot(history.history['val_loss'] , 'b')\n",
        "plt.title('model loss')\n",
        "plt.ylabel('loss')\n",
        "plt.xlabel('epoch')\n",
        "plt.legend(['train', 'test'], loc='upper left')\n",
        "plt.grid(True)\n",
        "plt.show()"
      ],
      "id": "izGleELjIYLt"
    },
    {
      "cell_type": "markdown",
      "metadata": {
        "id": "oUjTavDAIYLt"
      },
      "source": [
        "### Prediction"
      ],
      "id": "oUjTavDAIYLt"
    },
    {
      "cell_type": "markdown",
      "metadata": {
        "id": "vfXDQJCiIYLt"
      },
      "source": [
        "##### Question 1\n",
        "Write a method called `mf_recommender` which\n",
        " - takes a user `U` using its continuous index (from 0 to `NB_USER`)\n",
        " - finds the 10 closest users to `U`\n",
        " - returns the best book unread by `U` and rated by more than 3 of these 10 closest users\n",
        "\n",
        "**Hint**\n",
        "To get the users embeddings\n",
        "```python\n",
        "user_emb_layer = model.get_layer('user_embedding')\n",
        "user_emb_weight = user_emb_layer.get_weights()[0]\n",
        "```"
      ],
      "id": "vfXDQJCiIYLt"
    },
    {
      "cell_type": "markdown",
      "metadata": {
        "id": "goAD-y9uIYLt"
      },
      "source": [
        "##### Solution"
      ],
      "id": "goAD-y9uIYLt"
    },
    {
      "cell_type": "code",
      "execution_count": null,
      "metadata": {
        "id": "5GncUUAQIYLt"
      },
      "outputs": [],
      "source": [
        "# get user embeddings\n",
        "user_emb_layer = mf_model.get_layer('user_embedding')\n",
        "user_emb_weight = user_emb_layer.get_weights()[0]"
      ],
      "id": "5GncUUAQIYLt"
    },
    {
      "cell_type": "code",
      "source": [
        "user_emb_weight.shape"
      ],
      "metadata": {
        "colab": {
          "base_uri": "https://localhost:8080/"
        },
        "id": "BG0L8xTs02Nw",
        "outputId": "41858c87-ef07-428f-894f-da4a24fb66c6"
      },
      "id": "BG0L8xTs02Nw",
      "execution_count": null,
      "outputs": [
        {
          "output_type": "execute_result",
          "data": {
            "text/plain": [
              "(2600, 100)"
            ]
          },
          "metadata": {},
          "execution_count": 204
        }
      ]
    },
    {
      "cell_type": "code",
      "source": [
        "# use knn to get closest users \n",
        "from sklearn.neighbors import NearestNeighbors\n",
        "knn = NearestNeighbors(metric='cosine',algorithm='auto').fit(user_emb_weight)\n",
        "distances, indices = knn.kneighbors(user_emb_weight,n_neighbors=11)"
      ],
      "metadata": {
        "id": "1dElgPxw0jCR"
      },
      "id": "1dElgPxw0jCR",
      "execution_count": null,
      "outputs": []
    },
    {
      "cell_type": "code",
      "source": [
        "def best_rated_book(booklist,df):\n",
        "  best_rated, best_avg_rating =None, 0\n",
        "  for book in booklist:\n",
        "    rating_count = df.loc[df['Book-ID']==book,'Rating_count'].iloc[0]\n",
        "    total_ratings = df.loc[df['Book-ID']==book,'Book-Rating'].sum()\n",
        "    average_rating = total_ratings/rating_count\n",
        "    if average_rating > best_avg_rating:\n",
        "      best_avg_rating = average_rating\n",
        "      best_rated = book \n",
        "  return best_rated, best_avg_rating"
      ],
      "metadata": {
        "id": "sr0yU1mlTVBP"
      },
      "id": "sr0yU1mlTVBP",
      "execution_count": null,
      "outputs": []
    },
    {
      "cell_type": "code",
      "source": [
        "def mf_recommender(user_id = int):\n",
        "  cloest_users = [i.tolist() for i in indices if user_id == i.tolist()[0]][0]\n",
        "  ten_cloest = cloest_users[1:]\n",
        "  # return books that have been read by the user  \n",
        "  readbooks = set(final_df.loc[final_df['User-ID-Continuous'] == user_id,'Book-ID'])\n",
        "  # return all books that have been rated by the 10 closest users \n",
        "  allbooks = final_df.loc[final_df['User-ID-Continuous'].isin(ten_cloest)]\n",
        "  # return books that have been rated by the close users and not been read by our user \n",
        "  unreadbooks = allbooks.loc[~allbooks['Book-ID'].isin(readbooks)]\n",
        "  unreadbooks.loc[:,'Rating_count'] = unreadbooks.groupby('Book-ID')['Book-ID'].transform('count')\n",
        "  final_booklist = set(unreadbooks.loc[(unreadbooks['Rating_count']>3),'Book-ID'].tolist())\n",
        "\n",
        "  best_rated, best_avg_rating = best_rated_book(final_booklist,unreadbooks)\n",
        "  id  = unreadbooks.loc[unreadbooks['Book-ID'] == best_rated,'Book-ID'].head(1).to_string(index=False)\n",
        "  bookt=unreadbooks.loc[unreadbooks['Book-ID'] == best_rated,'Book-Title'].head(1).to_string(index=False)\n",
        "  count = unreadbooks.loc[unreadbooks['Book-ID'] == best_rated,'Rating_count'].head(1).to_string(index=False)\n",
        "\n",
        "  print(f'Book-ID\\t\\t{id}')\n",
        "  print(f'Book-Title\\t{bookt}')\n",
        "  print(f'mean\\t\\t{best_avg_rating}')\n",
        "  print(f'count\\t\\t{count}')\n"
      ],
      "metadata": {
        "id": "vGyJdFM6PwGr"
      },
      "id": "vGyJdFM6PwGr",
      "execution_count": null,
      "outputs": []
    },
    {
      "cell_type": "code",
      "execution_count": null,
      "metadata": {
        "colab": {
          "base_uri": "https://localhost:8080/"
        },
        "id": "uuMtCdiVIYLt",
        "outputId": "14578290-c9b5-4133-c7b9-2799541e4389"
      },
      "outputs": [
        {
          "output_type": "stream",
          "name": "stdout",
          "text": [
            "Book-ID\t\t748\n",
            "Book-Title\tThe Da Vinci Code\n",
            "mean\t\t4.75\n",
            "count\t\t4\n"
          ]
        }
      ],
      "source": [
        "mf_recommender(0)"
      ],
      "id": "uuMtCdiVIYLt"
    },
    {
      "cell_type": "markdown",
      "metadata": {
        "id": "y-pIieGGIYLt"
      },
      "source": [
        "##### Question 2\n",
        "Write a method `mf_book_recommender` which takes a book name and returns the 5 closest book names. If multiple pushishers published the same book (the title is the same), take the most rated book."
      ],
      "id": "y-pIieGGIYLt"
    },
    {
      "cell_type": "markdown",
      "metadata": {
        "id": "1NuELTdMIYLt"
      },
      "source": [
        "##### Solution"
      ],
      "id": "1NuELTdMIYLt"
    },
    {
      "cell_type": "code",
      "source": [
        "book_emb_layer = mf_model.get_layer('book_embedding')\n",
        "book_emb_weight = book_emb_layer.get_weights()[0]\n",
        "\n",
        "# use knn to get closest books \n",
        "from sklearn.neighbors import NearestNeighbors\n",
        "knn = NearestNeighbors(metric='cosine',algorithm='brute').fit(book_emb_weight)\n",
        "distances, indices = knn.kneighbors(book_emb_weight,n_neighbors=6)"
      ],
      "metadata": {
        "id": "NzWxoOOqAe11"
      },
      "id": "NzWxoOOqAe11",
      "execution_count": null,
      "outputs": []
    },
    {
      "cell_type": "code",
      "source": [
        "# get the most rated book if the title is the same \n",
        "def most_rated(booktitle):\n",
        "  most_rated = final_df.loc[final_df['Book-Title'] == booktitle]\n",
        "  return most_rated.loc[most_rated['RatingCount_book'].idxmax(),\"Book-ID-Continuous\"]\n",
        "  \n",
        "def mf_book_recommender(booktitle):\n",
        "  candidate_books = []\n",
        "  book_id = most_rated(booktitle)\n",
        "  for i in indices:\n",
        "    if int(book_id) == i.tolist()[0]:\n",
        "      for j in i:\n",
        "        candidate_books.append(final_df.loc[final_df['Book-ID-Continuous'] == j,'Book-Title'].head(1).to_string(index=False))\n",
        "  print(candidate_books[1:])"
      ],
      "metadata": {
        "id": "o-3KV1-eBJ8j"
      },
      "id": "o-3KV1-eBJ8j",
      "execution_count": null,
      "outputs": []
    },
    {
      "cell_type": "code",
      "execution_count": null,
      "metadata": {
        "id": "ntGT1RL3IYLt",
        "outputId": "eba0d47b-341c-4e09-e9c5-93bdb6f852cf",
        "colab": {
          "base_uri": "https://localhost:8080/"
        }
      },
      "outputs": [
        {
          "output_type": "stream",
          "name": "stdout",
          "text": [
            "['Tropic of Cancer', 'Apollo 13 : Lost Moon', 'SHIPPING NEWS', 'Picture of Dorian Gray', 'An Ocean Apart']\n"
          ]
        }
      ],
      "source": [
        "mf_book_recommender(\"1984\")"
      ],
      "id": "ntGT1RL3IYLt"
    },
    {
      "cell_type": "code",
      "source": [
        "mf_book_recommender(\"Harry Potter and the Chamber of Secrets (Book 2)\")"
      ],
      "metadata": {
        "colab": {
          "base_uri": "https://localhost:8080/"
        },
        "id": "0SHL6THoOrrz",
        "outputId": "d0ff7cc3-a4bc-4f94-be9f-9c1459977d06"
      },
      "id": "0SHL6THoOrrz",
      "execution_count": null,
      "outputs": [
        {
          "output_type": "stream",
          "name": "stdout",
          "text": [
            "['The God of Small Things', 'Haunting Rachel', 'Cry Wolf', 'Punish the Sinners', 'Mercy']\n"
          ]
        }
      ]
    },
    {
      "cell_type": "markdown",
      "source": [
        "**Alternative implementation**"
      ],
      "metadata": {
        "id": "9LvSu3k_G21x"
      },
      "id": "9LvSu3k_G21x"
    },
    {
      "cell_type": "code",
      "source": [
        "from sklearn.metrics import pairwise_distances\n",
        "\n",
        "\n",
        "def mf_book_recommender_knn(book_title):\n",
        "  book_emb_layer = mf_model.get_layer('book_embedding')\n",
        "  book_emb_weight = book_emb_layer.get_weights()[0]\n",
        "  aux_df = final_df.loc[final_df['Book-Title']==book_title]\n",
        "  book_id = int(aux_df.loc[aux_df['RatingCount_book'] == aux_df['RatingCount_book'].max()]['Book-ID-Continuous'].to_numpy()[0])\n",
        "  book_emb_vec = [book_emb_layer(book_id)]\n",
        "  unique_book_ids = np.unique(final_df['Book-ID-Continuous'].to_numpy(),axis=0)\n",
        "  embedding_matrix = book_emb_layer(unique_book_ids)\n",
        "  neigh = NearestNeighbors(n_neighbors=6)\n",
        "  neigh.fit(embedding_matrix)\n",
        "  _5_closest_ids = neigh.kneighbors(book_emb_vec)[1].flatten()\n",
        "  _5_closest_books = np.unique(final_df.loc[final_df['Book-ID-Continuous'].isin(_5_closest_ids)]['Book-Title'])\n",
        "  return _5_closest_books\n",
        "\n",
        "def mf_book_recommender_2(book_title):\n",
        "  book_emb_layer = mf_model.get_layer('book_embedding')\n",
        "  book_emb_weight = book_emb_layer.get_weights()[0]\n",
        "  aux_df = final_df.loc[final_df['Book-Title']==book_title]\n",
        "  book_id = int(aux_df.loc[aux_df['RatingCount_book'] == aux_df['RatingCount_book'].max()]['Book-ID-Continuous'].to_numpy()[0])\n",
        "  book_emb_vec = book_emb_layer(book_id).numpy().reshape(1,-1)\n",
        "  unique_book_ids = np.unique(final_df['Book-ID-Continuous'].to_numpy(),axis=0)\n",
        "  embedding_matrix = book_emb_layer(unique_book_ids).numpy()\n",
        "  distance_matrix = pairwise_distances(embedding_matrix, book_emb_vec, metric='l2')\n",
        "  #distance_matrix = np.diag(np.dot((embedding_matrix - book_emb_vec), (embedding_matrix - book_emb_vec).T))\n",
        "  _5_closest_ids = np.argsort(distance_matrix, axis=0).flatten()[:6]\n",
        "  _5_closest_books = np.unique(final_df.loc[final_df['Book-ID-Continuous'].isin(_5_closest_ids)]['Book-Title'])\n",
        "  return _5_closest_books"
      ],
      "metadata": {
        "id": "-HJqAucbGmdu"
      },
      "id": "-HJqAucbGmdu",
      "execution_count": null,
      "outputs": []
    },
    {
      "cell_type": "markdown",
      "metadata": {
        "id": "BcXl4yKkIYLt"
      },
      "source": [
        "##### Question 3\n",
        "In a production setting (real time answers, lots of users etc.):\n",
        "- What are the advantages/drawbacks of this approach ?\n",
        "- Which solution can we use to reduce these drawbacks ?"
      ],
      "id": "BcXl4yKkIYLt"
    },
    {
      "cell_type": "markdown",
      "metadata": {
        "id": "ssLQYiWjIYLt"
      },
      "source": [
        "##### Answer"
      ],
      "id": "ssLQYiWjIYLt"
    },
    {
      "cell_type": "markdown",
      "metadata": {
        "id": "f_Ve1phbIYLt"
      },
      "source": [
        "**Advantages**: \n",
        "1. This method only uses observed feedbacks to train a mf model and doesn't require any information about users or items and therefore can be easily adapted to accommodate different circumstances.\n",
        "\n",
        "2. The embeddings are automatically learnt so that we don't need domain knowledge. \n",
        "\n",
        "3. In contrast to content-based filtering, this model can help users to discover new items. \n",
        "\n",
        "**Disadvantages**:\n",
        "1. As we saw above, the prediction is given based on similarity scores. If an item or an user is not seen during the training, the model cannot make queries about this item. \n",
        "\n",
        "2. This model cannot incorporate features about the users or the items that could potentially improve the model. \n",
        "\n",
        "3. This model might also suffer from data sparsity as most users do not give ratings or reviews to the items. \n",
        "\n",
        "4. This model might have to constantly retrained as new items and users entering the dataset. \n",
        "\n",
        "**Solution**:\n",
        "\n",
        "One solution to some of the issues above is to use the WALS algorithm so that every time we try to add a new item or a new user into the system, we only learn an embedding without having to retrain the model (reference: https://research.tilburguniversity.edu/en/publications/wals-prediction):\n",
        "\n",
        "$min_{v_{i_0} \\in \\mathbb{R^d}} ||A_{i_0} - U_{v_{i_0}}||$\n",
        "\n",
        "Additionally, if a system does not have the interactions of an user or an item, we can approximate its embedding by averaging the embeddings of items from the same category. "
      ],
      "id": "f_Ve1phbIYLt"
    },
    {
      "cell_type": "markdown",
      "metadata": {
        "id": "PQ_JY1aYIYLt"
      },
      "source": [
        "# Deep Neural Network Based Recommendation Systems"
      ],
      "id": "PQ_JY1aYIYLt"
    },
    {
      "cell_type": "markdown",
      "metadata": {
        "id": "ZMqj8Zw4IYLt"
      },
      "source": [
        "![](https://miro.medium.com/max/700/1*sTBtqrsQzTKlZ8hSU7I6FQ.png)"
      ],
      "id": "ZMqj8Zw4IYLt"
    },
    {
      "cell_type": "markdown",
      "metadata": {
        "id": "ove12_0uIYLu"
      },
      "source": [
        "## The data"
      ],
      "id": "ove12_0uIYLu"
    },
    {
      "cell_type": "markdown",
      "metadata": {
        "id": "Sd6vib6OIYLu"
      },
      "source": [
        "The train data are orders from **2019-08-04**, and the test data are orders from **2019-08-05**"
      ],
      "id": "Sd6vib6OIYLu"
    },
    {
      "cell_type": "markdown",
      "metadata": {
        "id": "NzLpauYqIYLu"
      },
      "source": [
        "##### Lines"
      ],
      "id": "NzLpauYqIYLu"
    },
    {
      "cell_type": "markdown",
      "metadata": {
        "id": "mkiB-c87IYLu"
      },
      "source": [
        "The data is contructed as follow:\n",
        "\n",
        "- We collect every order of one day\n",
        "- For each order we collect features of the user, the context and the related sales\n",
        "- We pick a random sales which did not generate an order for the same user at the same time and compute the same features\n",
        "\n",
        "We describe these two sales as positive item for the first one and negative item for the second one."
      ],
      "id": "mkiB-c87IYLu"
    },
    {
      "cell_type": "markdown",
      "metadata": {
        "id": "B4X2myFoIYLu"
      },
      "source": [
        "##### Columns"
      ],
      "id": "B4X2myFoIYLu"
    },
    {
      "cell_type": "markdown",
      "metadata": {
        "id": "yeb2jVd6IYLu"
      },
      "source": [
        "Here the features are anonymize and scaled. They describe different things such as:\n",
        " - The sales: the brand, the sector, the popularity of the sale at the order time,  etc.\n",
        " - The user: gender, age etc.\n",
        " - The past sales that the user viewed / bought from"
      ],
      "id": "yeb2jVd6IYLu"
    },
    {
      "cell_type": "code",
      "execution_count": null,
      "metadata": {
        "id": "At1QsBk_IYLu",
        "outputId": "221ba8fe-e2f1-4236-c34e-90e5b2a14392",
        "colab": {
          "base_uri": "https://localhost:8080/"
        }
      },
      "outputs": [
        {
          "output_type": "execute_result",
          "data": {
            "text/plain": [
              "(98430, 354)"
            ]
          },
          "metadata": {},
          "execution_count": 22
        }
      ],
      "source": [
        "X = pd.read_csv('data/2019-08-04_anon.csv.gz', compression=\"gzip\", index_col=0)\n",
        "X.shape"
      ],
      "id": "At1QsBk_IYLu"
    },
    {
      "cell_type": "code",
      "execution_count": null,
      "metadata": {
        "id": "onzQ17IGIYLu",
        "outputId": "f550cecd-96ae-49ef-8838-28a0e0c5e21f",
        "colab": {
          "base_uri": "https://localhost:8080/",
          "height": 299
        }
      },
      "outputs": [
        {
          "output_type": "execute_result",
          "data": {
            "text/html": [
              "\n",
              "  <div id=\"df-ab2ae9ca-f167-470a-97a4-7bc48a696981\">\n",
              "    <div class=\"colab-df-container\">\n",
              "      <div>\n",
              "<style scoped>\n",
              "    .dataframe tbody tr th:only-of-type {\n",
              "        vertical-align: middle;\n",
              "    }\n",
              "\n",
              "    .dataframe tbody tr th {\n",
              "        vertical-align: top;\n",
              "    }\n",
              "\n",
              "    .dataframe thead th {\n",
              "        text-align: right;\n",
              "    }\n",
              "</style>\n",
              "<table border=\"1\" class=\"dataframe\">\n",
              "  <thead>\n",
              "    <tr style=\"text-align: right;\">\n",
              "      <th></th>\n",
              "      <th>0</th>\n",
              "      <th>1</th>\n",
              "      <th>2</th>\n",
              "      <th>3</th>\n",
              "      <th>4</th>\n",
              "      <th>5</th>\n",
              "      <th>6</th>\n",
              "      <th>7</th>\n",
              "      <th>8</th>\n",
              "      <th>9</th>\n",
              "      <th>10</th>\n",
              "      <th>11</th>\n",
              "      <th>12</th>\n",
              "      <th>13</th>\n",
              "      <th>14</th>\n",
              "      <th>15</th>\n",
              "      <th>16</th>\n",
              "      <th>17</th>\n",
              "      <th>18</th>\n",
              "      <th>19</th>\n",
              "      <th>20</th>\n",
              "      <th>21</th>\n",
              "      <th>22</th>\n",
              "      <th>23</th>\n",
              "      <th>24</th>\n",
              "      <th>25</th>\n",
              "      <th>26</th>\n",
              "      <th>27</th>\n",
              "      <th>28</th>\n",
              "      <th>29</th>\n",
              "      <th>30</th>\n",
              "      <th>31</th>\n",
              "      <th>32</th>\n",
              "      <th>33</th>\n",
              "      <th>34</th>\n",
              "      <th>35</th>\n",
              "      <th>36</th>\n",
              "      <th>37</th>\n",
              "      <th>38</th>\n",
              "      <th>39</th>\n",
              "      <th>...</th>\n",
              "      <th>314</th>\n",
              "      <th>315</th>\n",
              "      <th>316</th>\n",
              "      <th>317</th>\n",
              "      <th>318</th>\n",
              "      <th>319</th>\n",
              "      <th>320</th>\n",
              "      <th>321</th>\n",
              "      <th>322</th>\n",
              "      <th>323</th>\n",
              "      <th>324</th>\n",
              "      <th>325</th>\n",
              "      <th>326</th>\n",
              "      <th>327</th>\n",
              "      <th>328</th>\n",
              "      <th>329</th>\n",
              "      <th>330</th>\n",
              "      <th>331</th>\n",
              "      <th>332</th>\n",
              "      <th>333</th>\n",
              "      <th>334</th>\n",
              "      <th>335</th>\n",
              "      <th>336</th>\n",
              "      <th>337</th>\n",
              "      <th>338</th>\n",
              "      <th>339</th>\n",
              "      <th>340</th>\n",
              "      <th>341</th>\n",
              "      <th>342</th>\n",
              "      <th>343</th>\n",
              "      <th>344</th>\n",
              "      <th>345</th>\n",
              "      <th>346</th>\n",
              "      <th>347</th>\n",
              "      <th>348</th>\n",
              "      <th>349</th>\n",
              "      <th>350</th>\n",
              "      <th>351</th>\n",
              "      <th>352</th>\n",
              "      <th>label</th>\n",
              "    </tr>\n",
              "  </thead>\n",
              "  <tbody>\n",
              "    <tr>\n",
              "      <th>0</th>\n",
              "      <td>0.004651</td>\n",
              "      <td>0.000838</td>\n",
              "      <td>0.000918</td>\n",
              "      <td>0.011108</td>\n",
              "      <td>0.200549</td>\n",
              "      <td>0.0</td>\n",
              "      <td>0.0</td>\n",
              "      <td>0.0</td>\n",
              "      <td>0.0</td>\n",
              "      <td>0.0</td>\n",
              "      <td>0.0</td>\n",
              "      <td>0.0</td>\n",
              "      <td>1.0</td>\n",
              "      <td>0.006173</td>\n",
              "      <td>0.200000</td>\n",
              "      <td>0.001812</td>\n",
              "      <td>0.150000</td>\n",
              "      <td>0.002144</td>\n",
              "      <td>0.150000</td>\n",
              "      <td>0.024321</td>\n",
              "      <td>0.717033</td>\n",
              "      <td>0.011494</td>\n",
              "      <td>0.200000</td>\n",
              "      <td>0.002591</td>\n",
              "      <td>0.150000</td>\n",
              "      <td>0.003188</td>\n",
              "      <td>0.150000</td>\n",
              "      <td>0.030599</td>\n",
              "      <td>0.717033</td>\n",
              "      <td>0.090909</td>\n",
              "      <td>0.200000</td>\n",
              "      <td>0.029126</td>\n",
              "      <td>0.150000</td>\n",
              "      <td>0.032258</td>\n",
              "      <td>0.150000</td>\n",
              "      <td>0.030599</td>\n",
              "      <td>0.717033</td>\n",
              "      <td>0.000000</td>\n",
              "      <td>0.000000</td>\n",
              "      <td>0.000000</td>\n",
              "      <td>...</td>\n",
              "      <td>0.032927</td>\n",
              "      <td>0.118435</td>\n",
              "      <td>0.034467</td>\n",
              "      <td>0.115075</td>\n",
              "      <td>0.019608</td>\n",
              "      <td>0.039459</td>\n",
              "      <td>0.0</td>\n",
              "      <td>0.000761</td>\n",
              "      <td>0.061674</td>\n",
              "      <td>0.715068</td>\n",
              "      <td>0.061674</td>\n",
              "      <td>0.715068</td>\n",
              "      <td>0.000000</td>\n",
              "      <td>1.00000</td>\n",
              "      <td>0.061674</td>\n",
              "      <td>0.715068</td>\n",
              "      <td>0.000496</td>\n",
              "      <td>0.00000</td>\n",
              "      <td>1.000000</td>\n",
              "      <td>0.000000</td>\n",
              "      <td>1.000000</td>\n",
              "      <td>0.000000</td>\n",
              "      <td>1.000000</td>\n",
              "      <td>0.000000</td>\n",
              "      <td>1.000000</td>\n",
              "      <td>0.0</td>\n",
              "      <td>0.000000</td>\n",
              "      <td>-1.0</td>\n",
              "      <td>-1.000000</td>\n",
              "      <td>-1.0</td>\n",
              "      <td>-1.000000</td>\n",
              "      <td>-1.000000</td>\n",
              "      <td>0.003820</td>\n",
              "      <td>0.000000</td>\n",
              "      <td>-1.000000</td>\n",
              "      <td>0.359694</td>\n",
              "      <td>-1.000000</td>\n",
              "      <td>0.498907</td>\n",
              "      <td>0.666667</td>\n",
              "      <td>0</td>\n",
              "    </tr>\n",
              "    <tr>\n",
              "      <th>1</th>\n",
              "      <td>0.007442</td>\n",
              "      <td>0.000503</td>\n",
              "      <td>0.000551</td>\n",
              "      <td>0.011749</td>\n",
              "      <td>0.582418</td>\n",
              "      <td>0.0</td>\n",
              "      <td>0.0</td>\n",
              "      <td>0.0</td>\n",
              "      <td>0.0</td>\n",
              "      <td>0.0</td>\n",
              "      <td>0.0</td>\n",
              "      <td>0.0</td>\n",
              "      <td>1.0</td>\n",
              "      <td>0.012346</td>\n",
              "      <td>0.250000</td>\n",
              "      <td>0.001812</td>\n",
              "      <td>0.250000</td>\n",
              "      <td>0.002144</td>\n",
              "      <td>0.250000</td>\n",
              "      <td>0.029151</td>\n",
              "      <td>0.719780</td>\n",
              "      <td>0.000000</td>\n",
              "      <td>0.000000</td>\n",
              "      <td>0.000000</td>\n",
              "      <td>0.000000</td>\n",
              "      <td>0.000000</td>\n",
              "      <td>0.000000</td>\n",
              "      <td>0.000000</td>\n",
              "      <td>1.000000</td>\n",
              "      <td>0.000000</td>\n",
              "      <td>0.000000</td>\n",
              "      <td>0.000000</td>\n",
              "      <td>0.000000</td>\n",
              "      <td>0.000000</td>\n",
              "      <td>0.000000</td>\n",
              "      <td>0.000000</td>\n",
              "      <td>1.000000</td>\n",
              "      <td>0.004274</td>\n",
              "      <td>0.000613</td>\n",
              "      <td>0.000710</td>\n",
              "      <td>...</td>\n",
              "      <td>0.005357</td>\n",
              "      <td>0.015723</td>\n",
              "      <td>0.003968</td>\n",
              "      <td>0.009292</td>\n",
              "      <td>0.008000</td>\n",
              "      <td>0.004109</td>\n",
              "      <td>0.0</td>\n",
              "      <td>0.000640</td>\n",
              "      <td>0.000000</td>\n",
              "      <td>1.000000</td>\n",
              "      <td>0.230366</td>\n",
              "      <td>0.104110</td>\n",
              "      <td>0.000000</td>\n",
              "      <td>1.00000</td>\n",
              "      <td>0.382199</td>\n",
              "      <td>0.104110</td>\n",
              "      <td>0.000000</td>\n",
              "      <td>0.00000</td>\n",
              "      <td>1.000000</td>\n",
              "      <td>0.000000</td>\n",
              "      <td>1.000000</td>\n",
              "      <td>0.000000</td>\n",
              "      <td>1.000000</td>\n",
              "      <td>0.000000</td>\n",
              "      <td>1.000000</td>\n",
              "      <td>0.0</td>\n",
              "      <td>0.000000</td>\n",
              "      <td>-1.0</td>\n",
              "      <td>-1.000000</td>\n",
              "      <td>-1.0</td>\n",
              "      <td>-1.000000</td>\n",
              "      <td>-1.000000</td>\n",
              "      <td>0.006875</td>\n",
              "      <td>0.000000</td>\n",
              "      <td>-1.000000</td>\n",
              "      <td>0.085641</td>\n",
              "      <td>-1.000000</td>\n",
              "      <td>0.645773</td>\n",
              "      <td>0.333333</td>\n",
              "      <td>1</td>\n",
              "    </tr>\n",
              "    <tr>\n",
              "      <th>2</th>\n",
              "      <td>0.006512</td>\n",
              "      <td>0.000335</td>\n",
              "      <td>0.000275</td>\n",
              "      <td>0.040644</td>\n",
              "      <td>0.085165</td>\n",
              "      <td>0.0</td>\n",
              "      <td>0.0</td>\n",
              "      <td>0.0</td>\n",
              "      <td>0.0</td>\n",
              "      <td>0.0</td>\n",
              "      <td>0.0</td>\n",
              "      <td>0.0</td>\n",
              "      <td>1.0</td>\n",
              "      <td>0.006173</td>\n",
              "      <td>0.142857</td>\n",
              "      <td>0.000604</td>\n",
              "      <td>0.125000</td>\n",
              "      <td>0.000715</td>\n",
              "      <td>0.166667</td>\n",
              "      <td>0.009038</td>\n",
              "      <td>0.085165</td>\n",
              "      <td>0.011494</td>\n",
              "      <td>0.142857</td>\n",
              "      <td>0.000864</td>\n",
              "      <td>0.125000</td>\n",
              "      <td>0.001063</td>\n",
              "      <td>0.166667</td>\n",
              "      <td>0.011371</td>\n",
              "      <td>0.085165</td>\n",
              "      <td>0.090909</td>\n",
              "      <td>0.142857</td>\n",
              "      <td>0.009709</td>\n",
              "      <td>0.125000</td>\n",
              "      <td>0.010753</td>\n",
              "      <td>0.166667</td>\n",
              "      <td>0.011371</td>\n",
              "      <td>0.085165</td>\n",
              "      <td>0.001832</td>\n",
              "      <td>0.000107</td>\n",
              "      <td>0.000118</td>\n",
              "      <td>...</td>\n",
              "      <td>0.021522</td>\n",
              "      <td>0.026639</td>\n",
              "      <td>0.018010</td>\n",
              "      <td>0.021109</td>\n",
              "      <td>0.000000</td>\n",
              "      <td>0.000000</td>\n",
              "      <td>0.0</td>\n",
              "      <td>0.006782</td>\n",
              "      <td>0.036561</td>\n",
              "      <td>0.002740</td>\n",
              "      <td>0.047925</td>\n",
              "      <td>0.002740</td>\n",
              "      <td>0.001482</td>\n",
              "      <td>0.00274</td>\n",
              "      <td>0.101285</td>\n",
              "      <td>0.002740</td>\n",
              "      <td>0.006532</td>\n",
              "      <td>0.02069</td>\n",
              "      <td>0.033333</td>\n",
              "      <td>0.165517</td>\n",
              "      <td>0.033333</td>\n",
              "      <td>0.068966</td>\n",
              "      <td>0.033333</td>\n",
              "      <td>0.068966</td>\n",
              "      <td>0.033333</td>\n",
              "      <td>0.0</td>\n",
              "      <td>0.076923</td>\n",
              "      <td>-1.0</td>\n",
              "      <td>0.440789</td>\n",
              "      <td>-1.0</td>\n",
              "      <td>0.440789</td>\n",
              "      <td>0.004264</td>\n",
              "      <td>0.009931</td>\n",
              "      <td>0.000000</td>\n",
              "      <td>-1.000000</td>\n",
              "      <td>0.159985</td>\n",
              "      <td>-1.000000</td>\n",
              "      <td>0.456268</td>\n",
              "      <td>0.666667</td>\n",
              "      <td>1</td>\n",
              "    </tr>\n",
              "    <tr>\n",
              "      <th>3</th>\n",
              "      <td>0.028837</td>\n",
              "      <td>0.002094</td>\n",
              "      <td>0.000596</td>\n",
              "      <td>0.047092</td>\n",
              "      <td>0.107143</td>\n",
              "      <td>0.0</td>\n",
              "      <td>0.0</td>\n",
              "      <td>0.0</td>\n",
              "      <td>0.0</td>\n",
              "      <td>0.0</td>\n",
              "      <td>0.0</td>\n",
              "      <td>0.0</td>\n",
              "      <td>1.0</td>\n",
              "      <td>0.006173</td>\n",
              "      <td>0.032258</td>\n",
              "      <td>0.000604</td>\n",
              "      <td>0.020000</td>\n",
              "      <td>0.000715</td>\n",
              "      <td>0.076923</td>\n",
              "      <td>0.011962</td>\n",
              "      <td>0.788462</td>\n",
              "      <td>0.011494</td>\n",
              "      <td>0.032258</td>\n",
              "      <td>0.000864</td>\n",
              "      <td>0.020000</td>\n",
              "      <td>0.001063</td>\n",
              "      <td>0.076923</td>\n",
              "      <td>0.015050</td>\n",
              "      <td>0.788462</td>\n",
              "      <td>0.000000</td>\n",
              "      <td>0.000000</td>\n",
              "      <td>0.000000</td>\n",
              "      <td>0.000000</td>\n",
              "      <td>0.000000</td>\n",
              "      <td>0.000000</td>\n",
              "      <td>0.000000</td>\n",
              "      <td>1.000000</td>\n",
              "      <td>0.002442</td>\n",
              "      <td>0.000400</td>\n",
              "      <td>0.000444</td>\n",
              "      <td>...</td>\n",
              "      <td>0.030000</td>\n",
              "      <td>0.026238</td>\n",
              "      <td>0.018792</td>\n",
              "      <td>0.016247</td>\n",
              "      <td>0.024000</td>\n",
              "      <td>0.010673</td>\n",
              "      <td>0.0</td>\n",
              "      <td>0.008089</td>\n",
              "      <td>0.000829</td>\n",
              "      <td>0.841096</td>\n",
              "      <td>0.014499</td>\n",
              "      <td>0.367123</td>\n",
              "      <td>0.000000</td>\n",
              "      <td>1.00000</td>\n",
              "      <td>0.015327</td>\n",
              "      <td>0.035616</td>\n",
              "      <td>0.004010</td>\n",
              "      <td>0.00000</td>\n",
              "      <td>1.000000</td>\n",
              "      <td>0.011236</td>\n",
              "      <td>0.433333</td>\n",
              "      <td>0.000000</td>\n",
              "      <td>1.000000</td>\n",
              "      <td>0.000000</td>\n",
              "      <td>1.000000</td>\n",
              "      <td>0.0</td>\n",
              "      <td>0.000000</td>\n",
              "      <td>-1.0</td>\n",
              "      <td>-1.000000</td>\n",
              "      <td>-1.0</td>\n",
              "      <td>-1.000000</td>\n",
              "      <td>-1.000000</td>\n",
              "      <td>0.001528</td>\n",
              "      <td>0.000000</td>\n",
              "      <td>-1.000000</td>\n",
              "      <td>0.259840</td>\n",
              "      <td>-1.000000</td>\n",
              "      <td>0.259840</td>\n",
              "      <td>0.555556</td>\n",
              "      <td>0</td>\n",
              "    </tr>\n",
              "    <tr>\n",
              "      <th>4</th>\n",
              "      <td>0.018605</td>\n",
              "      <td>0.001969</td>\n",
              "      <td>0.002110</td>\n",
              "      <td>0.005106</td>\n",
              "      <td>0.101648</td>\n",
              "      <td>0.0</td>\n",
              "      <td>0.0</td>\n",
              "      <td>0.0</td>\n",
              "      <td>0.0</td>\n",
              "      <td>0.0</td>\n",
              "      <td>0.0</td>\n",
              "      <td>0.0</td>\n",
              "      <td>1.0</td>\n",
              "      <td>0.018519</td>\n",
              "      <td>0.150000</td>\n",
              "      <td>0.006039</td>\n",
              "      <td>0.212766</td>\n",
              "      <td>0.007148</td>\n",
              "      <td>0.217391</td>\n",
              "      <td>0.002480</td>\n",
              "      <td>0.101648</td>\n",
              "      <td>0.011494</td>\n",
              "      <td>0.050000</td>\n",
              "      <td>0.001727</td>\n",
              "      <td>0.042553</td>\n",
              "      <td>0.002125</td>\n",
              "      <td>0.043478</td>\n",
              "      <td>0.004010</td>\n",
              "      <td>0.348901</td>\n",
              "      <td>0.090909</td>\n",
              "      <td>0.050000</td>\n",
              "      <td>0.019417</td>\n",
              "      <td>0.042553</td>\n",
              "      <td>0.021505</td>\n",
              "      <td>0.043478</td>\n",
              "      <td>0.004010</td>\n",
              "      <td>0.348901</td>\n",
              "      <td>0.009158</td>\n",
              "      <td>0.001627</td>\n",
              "      <td>0.001686</td>\n",
              "      <td>...</td>\n",
              "      <td>0.442771</td>\n",
              "      <td>0.327363</td>\n",
              "      <td>0.073610</td>\n",
              "      <td>0.043416</td>\n",
              "      <td>0.638889</td>\n",
              "      <td>0.493128</td>\n",
              "      <td>0.0</td>\n",
              "      <td>0.006776</td>\n",
              "      <td>0.012859</td>\n",
              "      <td>0.243836</td>\n",
              "      <td>0.011869</td>\n",
              "      <td>0.243836</td>\n",
              "      <td>0.000000</td>\n",
              "      <td>1.00000</td>\n",
              "      <td>0.136993</td>\n",
              "      <td>0.098630</td>\n",
              "      <td>0.000315</td>\n",
              "      <td>0.00000</td>\n",
              "      <td>1.000000</td>\n",
              "      <td>0.000000</td>\n",
              "      <td>1.000000</td>\n",
              "      <td>0.000000</td>\n",
              "      <td>1.000000</td>\n",
              "      <td>0.000000</td>\n",
              "      <td>1.000000</td>\n",
              "      <td>0.0</td>\n",
              "      <td>0.000000</td>\n",
              "      <td>-1.0</td>\n",
              "      <td>-1.000000</td>\n",
              "      <td>-1.0</td>\n",
              "      <td>-1.000000</td>\n",
              "      <td>-1.000000</td>\n",
              "      <td>0.048128</td>\n",
              "      <td>0.004444</td>\n",
              "      <td>0.526258</td>\n",
              "      <td>0.103134</td>\n",
              "      <td>0.848816</td>\n",
              "      <td>0.848761</td>\n",
              "      <td>0.666667</td>\n",
              "      <td>1</td>\n",
              "    </tr>\n",
              "  </tbody>\n",
              "</table>\n",
              "<p>5 rows × 354 columns</p>\n",
              "</div>\n",
              "      <button class=\"colab-df-convert\" onclick=\"convertToInteractive('df-ab2ae9ca-f167-470a-97a4-7bc48a696981')\"\n",
              "              title=\"Convert this dataframe to an interactive table.\"\n",
              "              style=\"display:none;\">\n",
              "        \n",
              "  <svg xmlns=\"http://www.w3.org/2000/svg\" height=\"24px\"viewBox=\"0 0 24 24\"\n",
              "       width=\"24px\">\n",
              "    <path d=\"M0 0h24v24H0V0z\" fill=\"none\"/>\n",
              "    <path d=\"M18.56 5.44l.94 2.06.94-2.06 2.06-.94-2.06-.94-.94-2.06-.94 2.06-2.06.94zm-11 1L8.5 8.5l.94-2.06 2.06-.94-2.06-.94L8.5 2.5l-.94 2.06-2.06.94zm10 10l.94 2.06.94-2.06 2.06-.94-2.06-.94-.94-2.06-.94 2.06-2.06.94z\"/><path d=\"M17.41 7.96l-1.37-1.37c-.4-.4-.92-.59-1.43-.59-.52 0-1.04.2-1.43.59L10.3 9.45l-7.72 7.72c-.78.78-.78 2.05 0 2.83L4 21.41c.39.39.9.59 1.41.59.51 0 1.02-.2 1.41-.59l7.78-7.78 2.81-2.81c.8-.78.8-2.07 0-2.86zM5.41 20L4 18.59l7.72-7.72 1.47 1.35L5.41 20z\"/>\n",
              "  </svg>\n",
              "      </button>\n",
              "      \n",
              "  <style>\n",
              "    .colab-df-container {\n",
              "      display:flex;\n",
              "      flex-wrap:wrap;\n",
              "      gap: 12px;\n",
              "    }\n",
              "\n",
              "    .colab-df-convert {\n",
              "      background-color: #E8F0FE;\n",
              "      border: none;\n",
              "      border-radius: 50%;\n",
              "      cursor: pointer;\n",
              "      display: none;\n",
              "      fill: #1967D2;\n",
              "      height: 32px;\n",
              "      padding: 0 0 0 0;\n",
              "      width: 32px;\n",
              "    }\n",
              "\n",
              "    .colab-df-convert:hover {\n",
              "      background-color: #E2EBFA;\n",
              "      box-shadow: 0px 1px 2px rgba(60, 64, 67, 0.3), 0px 1px 3px 1px rgba(60, 64, 67, 0.15);\n",
              "      fill: #174EA6;\n",
              "    }\n",
              "\n",
              "    [theme=dark] .colab-df-convert {\n",
              "      background-color: #3B4455;\n",
              "      fill: #D2E3FC;\n",
              "    }\n",
              "\n",
              "    [theme=dark] .colab-df-convert:hover {\n",
              "      background-color: #434B5C;\n",
              "      box-shadow: 0px 1px 3px 1px rgba(0, 0, 0, 0.15);\n",
              "      filter: drop-shadow(0px 1px 2px rgba(0, 0, 0, 0.3));\n",
              "      fill: #FFFFFF;\n",
              "    }\n",
              "  </style>\n",
              "\n",
              "      <script>\n",
              "        const buttonEl =\n",
              "          document.querySelector('#df-ab2ae9ca-f167-470a-97a4-7bc48a696981 button.colab-df-convert');\n",
              "        buttonEl.style.display =\n",
              "          google.colab.kernel.accessAllowed ? 'block' : 'none';\n",
              "\n",
              "        async function convertToInteractive(key) {\n",
              "          const element = document.querySelector('#df-ab2ae9ca-f167-470a-97a4-7bc48a696981');\n",
              "          const dataTable =\n",
              "            await google.colab.kernel.invokeFunction('convertToInteractive',\n",
              "                                                     [key], {});\n",
              "          if (!dataTable) return;\n",
              "\n",
              "          const docLinkHtml = 'Like what you see? Visit the ' +\n",
              "            '<a target=\"_blank\" href=https://colab.research.google.com/notebooks/data_table.ipynb>data table notebook</a>'\n",
              "            + ' to learn more about interactive tables.';\n",
              "          element.innerHTML = '';\n",
              "          dataTable['output_type'] = 'display_data';\n",
              "          await google.colab.output.renderOutput(dataTable, element);\n",
              "          const docLink = document.createElement('div');\n",
              "          docLink.innerHTML = docLinkHtml;\n",
              "          element.appendChild(docLink);\n",
              "        }\n",
              "      </script>\n",
              "    </div>\n",
              "  </div>\n",
              "  "
            ],
            "text/plain": [
              "          0         1         2         3  ...       350       351       352  label\n",
              "0  0.004651  0.000838  0.000918  0.011108  ... -1.000000  0.498907  0.666667      0\n",
              "1  0.007442  0.000503  0.000551  0.011749  ... -1.000000  0.645773  0.333333      1\n",
              "2  0.006512  0.000335  0.000275  0.040644  ... -1.000000  0.456268  0.666667      1\n",
              "3  0.028837  0.002094  0.000596  0.047092  ... -1.000000  0.259840  0.555556      0\n",
              "4  0.018605  0.001969  0.002110  0.005106  ...  0.848816  0.848761  0.666667      1\n",
              "\n",
              "[5 rows x 354 columns]"
            ]
          },
          "metadata": {},
          "execution_count": 23
        }
      ],
      "source": [
        "X.head()"
      ],
      "id": "onzQ17IGIYLu"
    },
    {
      "cell_type": "markdown",
      "metadata": {
        "id": "O146S9VyIYLu"
      },
      "source": [
        "## Data Preparation"
      ],
      "id": "O146S9VyIYLu"
    },
    {
      "cell_type": "code",
      "execution_count": null,
      "metadata": {
        "id": "IEU-mom3IYLu"
      },
      "outputs": [],
      "source": [
        "y = X.pop(\"label\")"
      ],
      "id": "IEU-mom3IYLu"
    },
    {
      "cell_type": "code",
      "execution_count": null,
      "metadata": {
        "id": "vU1xhTinIYLu"
      },
      "outputs": [],
      "source": [
        "from sklearn.model_selection import train_test_split\n",
        "X_train, X_eval, y_train, y_eval = train_test_split(X, y, test_size=0.2, random_state=84)"
      ],
      "id": "vU1xhTinIYLu"
    },
    {
      "cell_type": "code",
      "execution_count": null,
      "metadata": {
        "id": "ZeFffzc2IYLu"
      },
      "outputs": [],
      "source": [
        "X_test = pd.read_csv('data/2019-08-05_anon.csv.gz', compression=\"gzip\", index_col=0)\n",
        "y_test = X_test.pop(\"label\")"
      ],
      "id": "ZeFffzc2IYLu"
    },
    {
      "cell_type": "markdown",
      "metadata": {
        "id": "h1bEWZn-IYLu"
      },
      "source": [
        "## Training"
      ],
      "id": "h1bEWZn-IYLu"
    },
    {
      "cell_type": "markdown",
      "metadata": {
        "id": "dh9Krb1yIYLu"
      },
      "source": [
        "https://keras.io/guides/training_with_built_in_methods/"
      ],
      "id": "dh9Krb1yIYLu"
    },
    {
      "cell_type": "markdown",
      "metadata": {
        "id": "i6y3TwcOIYLu"
      },
      "source": [
        "<div>\n",
        "<img src=\"https://miro.medium.com/max/2400/1*zP6mLVMzxjFdK-XaOz1hjg.png\" width=\"500\"/>\n",
        "</div>"
      ],
      "id": "i6y3TwcOIYLu"
    },
    {
      "cell_type": "markdown",
      "metadata": {
        "id": "0n1kSCLyIYLu"
      },
      "source": [
        "### Pointwise"
      ],
      "id": "0n1kSCLyIYLu"
    },
    {
      "cell_type": "markdown",
      "metadata": {
        "id": "qfSMy_egIYLu"
      },
      "source": [
        "Like the \"Ensemble Method\" workshop, we have features and we want to predict a label which is the probability of generating an order. The recommendation here is a ranking problem where we want to display to the users the sales which will most likely generate an order"
      ],
      "id": "qfSMy_egIYLu"
    },
    {
      "cell_type": "markdown",
      "metadata": {
        "id": "rb4vVvQbIYLu"
      },
      "source": [
        "##### Question 1\n",
        "Write a Neural Network algorithm (using Keras) which takes the train dataset and and tries to predict the `label` using all the `features` (the features are already normalized). Don't forget to use the validation dataset.\n",
        "\n",
        "The network should have 3 layers: Input, Dense(256), Dense(128) and returns an order probability.\n",
        "\n",
        "You can implement an early stopping mechanism using callbacks ([documentation](https://keras.io/api/callbacks/early_stopping/))\n",
        "\n",
        "You should also display the evolution of the loss accross the epoch."
      ],
      "id": "rb4vVvQbIYLu"
    },
    {
      "cell_type": "markdown",
      "metadata": {
        "id": "xwl7AoPvIYLu"
      },
      "source": [
        "##### Solution"
      ],
      "id": "xwl7AoPvIYLu"
    },
    {
      "cell_type": "code",
      "source": [
        "import keras\n",
        "from keras.models import  Sequential\n",
        "from keras.layers.core import  Lambda , Dense, Flatten, Dropout\n",
        "from keras.callbacks import EarlyStopping"
      ],
      "metadata": {
        "id": "r5NLVaQRBxa6"
      },
      "id": "r5NLVaQRBxa6",
      "execution_count": null,
      "outputs": []
    },
    {
      "cell_type": "code",
      "source": [
        "# define and fit the final model\n",
        "model = keras.models.Sequential()\n",
        "model.add(keras.layers.Dense(256, input_dim=353, activation='relu'))\n",
        "model.add(keras.layers.Dropout(0.2))\n",
        "model.add(keras.layers.Dense(128, activation='relu'))\n",
        "model.add(keras.layers.Dense(1, activation='sigmoid'))\n",
        "model.compile(loss='binary_crossentropy', optimizer='adam')"
      ],
      "metadata": {
        "id": "lCmLA4-T4UrG"
      },
      "id": "lCmLA4-T4UrG",
      "execution_count": null,
      "outputs": []
    },
    {
      "cell_type": "code",
      "source": [
        "# Hyperparameters\n",
        "EPOCHS = 1000\n",
        "BATCH_SIZE = 32"
      ],
      "metadata": {
        "id": "qTJ38mReCfPT"
      },
      "id": "qTJ38mReCfPT",
      "execution_count": null,
      "outputs": []
    },
    {
      "cell_type": "code",
      "source": [
        "early_stopping = keras.callbacks.EarlyStopping(\n",
        "    monitor='val_loss',\n",
        "    min_delta=0,\n",
        "    patience=5,\n",
        "    verbose=0,\n",
        "    mode='auto',\n",
        "    baseline=None,\n",
        "    restore_best_weights=True\n",
        ")\n",
        "\n",
        "history = model.fit(\n",
        "    X_train,\n",
        "    y_train,\n",
        "    batch_size=BATCH_SIZE,\n",
        "    epochs=EPOCHS,\n",
        "    validation_data=(X_eval,\n",
        "                      y_eval),\n",
        "    verbose=1,\n",
        "    callbacks=[early_stopping]\n",
        ")"
      ],
      "metadata": {
        "colab": {
          "base_uri": "https://localhost:8080/"
        },
        "id": "-7jwsWFr6H_l",
        "outputId": "49be6049-eb32-447d-f7f8-45b6c3878daf"
      },
      "id": "-7jwsWFr6H_l",
      "execution_count": null,
      "outputs": [
        {
          "output_type": "stream",
          "name": "stdout",
          "text": [
            "Epoch 1/1000\n",
            "2461/2461 [==============================] - 11s 4ms/step - loss: 0.4087 - val_loss: 0.3935\n",
            "Epoch 2/1000\n",
            "2461/2461 [==============================] - 10s 4ms/step - loss: 0.3889 - val_loss: 0.3814\n",
            "Epoch 3/1000\n",
            "2461/2461 [==============================] - 10s 4ms/step - loss: 0.3813 - val_loss: 0.3806\n",
            "Epoch 4/1000\n",
            "2461/2461 [==============================] - 10s 4ms/step - loss: 0.3772 - val_loss: 0.3816\n",
            "Epoch 5/1000\n",
            "2461/2461 [==============================] - 10s 4ms/step - loss: 0.3732 - val_loss: 0.3778\n",
            "Epoch 6/1000\n",
            "2461/2461 [==============================] - 11s 4ms/step - loss: 0.3705 - val_loss: 0.3848\n",
            "Epoch 7/1000\n",
            "2461/2461 [==============================] - 11s 4ms/step - loss: 0.3687 - val_loss: 0.3700\n",
            "Epoch 8/1000\n",
            "2461/2461 [==============================] - 10s 4ms/step - loss: 0.3674 - val_loss: 0.3725\n",
            "Epoch 9/1000\n",
            "2461/2461 [==============================] - 10s 4ms/step - loss: 0.3656 - val_loss: 0.3752\n",
            "Epoch 10/1000\n",
            "2461/2461 [==============================] - 11s 5ms/step - loss: 0.3632 - val_loss: 0.3689\n",
            "Epoch 11/1000\n",
            "2461/2461 [==============================] - 12s 5ms/step - loss: 0.3620 - val_loss: 0.3727\n",
            "Epoch 12/1000\n",
            "2461/2461 [==============================] - 10s 4ms/step - loss: 0.3608 - val_loss: 0.3733\n",
            "Epoch 13/1000\n",
            "2461/2461 [==============================] - 10s 4ms/step - loss: 0.3591 - val_loss: 0.3669\n",
            "Epoch 14/1000\n",
            "2461/2461 [==============================] - 10s 4ms/step - loss: 0.3577 - val_loss: 0.3686\n",
            "Epoch 15/1000\n",
            "2461/2461 [==============================] - 10s 4ms/step - loss: 0.3574 - val_loss: 0.3679\n",
            "Epoch 16/1000\n",
            "2461/2461 [==============================] - 10s 4ms/step - loss: 0.3558 - val_loss: 0.3677\n",
            "Epoch 17/1000\n",
            "2461/2461 [==============================] - 11s 4ms/step - loss: 0.3543 - val_loss: 0.3790\n",
            "Epoch 18/1000\n",
            "2461/2461 [==============================] - 10s 4ms/step - loss: 0.3539 - val_loss: 0.3680\n"
          ]
        }
      ]
    },
    {
      "cell_type": "markdown",
      "metadata": {
        "id": "uRSFQQMhIYLu"
      },
      "source": [
        "If you do:\n",
        "```python\n",
        "history = model.fit(...)\n",
        "```\n",
        "you will then be able to plot the evolution of the losses"
      ],
      "id": "uRSFQQMhIYLu"
    },
    {
      "cell_type": "code",
      "execution_count": null,
      "metadata": {
        "id": "dY-8WipDIYLu",
        "outputId": "7cb6ea73-3624-4c83-a8ca-cb1d15767fe1",
        "colab": {
          "base_uri": "https://localhost:8080/",
          "height": 621
        }
      },
      "outputs": [
        {
          "output_type": "display_data",
          "data": {
            "image/png": "[encoded data removed]",
            "text/plain": [
              "<Figure size 1440x720 with 1 Axes>"
            ]
          },
          "metadata": {
            "needs_background": "light"
          }
        }
      ],
      "source": [
        "# Plot learning curve\n",
        "plt.plot(history.history['loss'] , 'g')\n",
        "plt.plot(history.history['val_loss'] , 'b')\n",
        "plt.title('model loss')\n",
        "plt.ylabel('loss')\n",
        "plt.xlabel('epoch')\n",
        "plt.legend(['train', 'test'], loc='upper left')\n",
        "plt.grid(True)\n",
        "plt.show()"
      ],
      "id": "dY-8WipDIYLu"
    },
    {
      "cell_type": "code",
      "execution_count": null,
      "metadata": {
        "id": "1owUzqV4IYLv",
        "outputId": "8c64af95-66f6-47c2-e263-48777d37ebf8",
        "colab": {
          "base_uri": "https://localhost:8080/"
        }
      },
      "outputs": [
        {
          "output_type": "stream",
          "name": "stdout",
          "text": [
            "Evaluate on test data\n",
            "648/648 [==============================] - 2s 4ms/step - loss: 0.4030\n",
            "test loss, test acc: 0.4030075967311859\n"
          ]
        }
      ],
      "source": [
        "print(\"Evaluate on test data\")\n",
        "results = model.evaluate(X_test.values, y_test.values, batch_size=128)\n",
        "print(\"test loss, test acc:\", results)"
      ],
      "id": "1owUzqV4IYLv"
    },
    {
      "cell_type": "code",
      "execution_count": null,
      "metadata": {
        "id": "egaKXMubIYLv",
        "outputId": "9bbfe26c-5c30-45ab-d975-8d2a2beef97b",
        "colab": {
          "base_uri": "https://localhost:8080/"
        }
      },
      "outputs": [
        {
          "output_type": "stream",
          "name": "stdout",
          "text": [
            "Probability of good prediction with a threshold at 0.5: 0.8243885377972888\n"
          ]
        }
      ],
      "source": [
        "predictions = (model.predict(X_test).flatten() >= 0.5).astype(int)\n",
        "proba = sum(y_test.values == predictions) / len(predictions)\n",
        "print(\"Probability of good prediction with a threshold at 0.5: {}\".format(proba))"
      ],
      "id": "egaKXMubIYLv"
    },
    {
      "cell_type": "markdown",
      "metadata": {
        "id": "cozWMcK7IYLv"
      },
      "source": [
        "##### Question 2\n",
        "Evaluate your algorithm on the \"real\" test dataset: before putting our algorithm in production, we want to evaluate its performances offline. As the main goal is to rank the sales of the homepage, we will observe all the order of the past and try to rank all the sales of the homepage at that time. Then we compute the rank of the sales which generated an order to validate our algorithm.\n",
        "\n",
        "In the next testset the `id` correspond to all the sales displayed to a user who made an order. Only one sale will have the `label` `1`. This is the sale which generated an order.\n",
        "\n",
        "You will have compute the mean rank of all positive examples (label=1) when scored and ranked by your algorithm's predictions.\n",
        " "
      ],
      "id": "cozWMcK7IYLv"
    },
    {
      "cell_type": "markdown",
      "metadata": {
        "id": "StyGax6gIYLv"
      },
      "source": [
        "##### Solution"
      ],
      "id": "StyGax6gIYLv"
    },
    {
      "cell_type": "code",
      "execution_count": null,
      "metadata": {
        "id": "NoiVS1znIYLv"
      },
      "outputs": [],
      "source": [
        "X_test = pd.read_csv('data/2020-08-05_anon.csv.gz', compression=\"gzip\", index_col=0)\n",
        "y_test = X_test.pop(\"label\")\n",
        "ids = X_test.pop(\"id\")"
      ],
      "id": "NoiVS1znIYLv"
    },
    {
      "cell_type": "code",
      "source": [
        "X_test.head()"
      ],
      "metadata": {
        "colab": {
          "base_uri": "https://localhost:8080/",
          "height": 299
        },
        "id": "_p9SHkGM0IAD",
        "outputId": "bca2f108-2804-43a7-b95d-ee3ad0ba16a2"
      },
      "id": "_p9SHkGM0IAD",
      "execution_count": null,
      "outputs": [
        {
          "output_type": "execute_result",
          "data": {
            "text/html": [
              "\n",
              "  <div id=\"df-9c53a64b-e058-44e3-a8fe-a7d91993eb84\">\n",
              "    <div class=\"colab-df-container\">\n",
              "      <div>\n",
              "<style scoped>\n",
              "    .dataframe tbody tr th:only-of-type {\n",
              "        vertical-align: middle;\n",
              "    }\n",
              "\n",
              "    .dataframe tbody tr th {\n",
              "        vertical-align: top;\n",
              "    }\n",
              "\n",
              "    .dataframe thead th {\n",
              "        text-align: right;\n",
              "    }\n",
              "</style>\n",
              "<table border=\"1\" class=\"dataframe\">\n",
              "  <thead>\n",
              "    <tr style=\"text-align: right;\">\n",
              "      <th></th>\n",
              "      <th>0</th>\n",
              "      <th>1</th>\n",
              "      <th>2</th>\n",
              "      <th>3</th>\n",
              "      <th>4</th>\n",
              "      <th>5</th>\n",
              "      <th>6</th>\n",
              "      <th>7</th>\n",
              "      <th>8</th>\n",
              "      <th>9</th>\n",
              "      <th>10</th>\n",
              "      <th>11</th>\n",
              "      <th>12</th>\n",
              "      <th>13</th>\n",
              "      <th>14</th>\n",
              "      <th>15</th>\n",
              "      <th>16</th>\n",
              "      <th>17</th>\n",
              "      <th>18</th>\n",
              "      <th>19</th>\n",
              "      <th>20</th>\n",
              "      <th>21</th>\n",
              "      <th>22</th>\n",
              "      <th>23</th>\n",
              "      <th>24</th>\n",
              "      <th>25</th>\n",
              "      <th>26</th>\n",
              "      <th>27</th>\n",
              "      <th>28</th>\n",
              "      <th>29</th>\n",
              "      <th>30</th>\n",
              "      <th>31</th>\n",
              "      <th>32</th>\n",
              "      <th>33</th>\n",
              "      <th>34</th>\n",
              "      <th>35</th>\n",
              "      <th>36</th>\n",
              "      <th>37</th>\n",
              "      <th>38</th>\n",
              "      <th>39</th>\n",
              "      <th>...</th>\n",
              "      <th>313</th>\n",
              "      <th>314</th>\n",
              "      <th>315</th>\n",
              "      <th>316</th>\n",
              "      <th>317</th>\n",
              "      <th>318</th>\n",
              "      <th>319</th>\n",
              "      <th>320</th>\n",
              "      <th>321</th>\n",
              "      <th>322</th>\n",
              "      <th>323</th>\n",
              "      <th>324</th>\n",
              "      <th>325</th>\n",
              "      <th>326</th>\n",
              "      <th>327</th>\n",
              "      <th>328</th>\n",
              "      <th>329</th>\n",
              "      <th>330</th>\n",
              "      <th>331</th>\n",
              "      <th>332</th>\n",
              "      <th>333</th>\n",
              "      <th>334</th>\n",
              "      <th>335</th>\n",
              "      <th>336</th>\n",
              "      <th>337</th>\n",
              "      <th>338</th>\n",
              "      <th>339</th>\n",
              "      <th>340</th>\n",
              "      <th>341</th>\n",
              "      <th>342</th>\n",
              "      <th>343</th>\n",
              "      <th>344</th>\n",
              "      <th>345</th>\n",
              "      <th>346</th>\n",
              "      <th>347</th>\n",
              "      <th>348</th>\n",
              "      <th>349</th>\n",
              "      <th>350</th>\n",
              "      <th>351</th>\n",
              "      <th>352</th>\n",
              "    </tr>\n",
              "  </thead>\n",
              "  <tbody>\n",
              "    <tr>\n",
              "      <th>0</th>\n",
              "      <td>0.030391</td>\n",
              "      <td>0.011099</td>\n",
              "      <td>0.011581</td>\n",
              "      <td>0.004557</td>\n",
              "      <td>0.000000</td>\n",
              "      <td>1.0</td>\n",
              "      <td>0.047619</td>\n",
              "      <td>0.010417</td>\n",
              "      <td>0.018868</td>\n",
              "      <td>0.013333</td>\n",
              "      <td>0.019231</td>\n",
              "      <td>0.014612</td>\n",
              "      <td>0.002747</td>\n",
              "      <td>0.005814</td>\n",
              "      <td>0.047619</td>\n",
              "      <td>0.000227</td>\n",
              "      <td>0.018868</td>\n",
              "      <td>0.000239</td>\n",
              "      <td>0.019231</td>\n",
              "      <td>0.000747</td>\n",
              "      <td>0.002747</td>\n",
              "      <td>0.006098</td>\n",
              "      <td>0.047619</td>\n",
              "      <td>0.000227</td>\n",
              "      <td>0.018868</td>\n",
              "      <td>0.000239</td>\n",
              "      <td>0.019231</td>\n",
              "      <td>0.000747</td>\n",
              "      <td>0.002747</td>\n",
              "      <td>0.0625</td>\n",
              "      <td>0.047619</td>\n",
              "      <td>0.001848</td>\n",
              "      <td>0.018868</td>\n",
              "      <td>0.001905</td>\n",
              "      <td>0.019231</td>\n",
              "      <td>0.003248</td>\n",
              "      <td>0.002747</td>\n",
              "      <td>0.006719</td>\n",
              "      <td>0.000422</td>\n",
              "      <td>0.000431</td>\n",
              "      <td>...</td>\n",
              "      <td>0.055934</td>\n",
              "      <td>0.037037</td>\n",
              "      <td>0.011139</td>\n",
              "      <td>0.046296</td>\n",
              "      <td>0.015033</td>\n",
              "      <td>0.166667</td>\n",
              "      <td>0.044183</td>\n",
              "      <td>0.0</td>\n",
              "      <td>0.007232</td>\n",
              "      <td>0.027491</td>\n",
              "      <td>0.00274</td>\n",
              "      <td>0.027491</td>\n",
              "      <td>0.002740</td>\n",
              "      <td>0.017182</td>\n",
              "      <td>0.00274</td>\n",
              "      <td>0.027491</td>\n",
              "      <td>0.002740</td>\n",
              "      <td>0.047838</td>\n",
              "      <td>0.03</td>\n",
              "      <td>0.033333</td>\n",
              "      <td>0.030000</td>\n",
              "      <td>0.033333</td>\n",
              "      <td>0.03</td>\n",
              "      <td>0.033333</td>\n",
              "      <td>0.03</td>\n",
              "      <td>0.033333</td>\n",
              "      <td>0.0</td>\n",
              "      <td>0.0</td>\n",
              "      <td>-1.0</td>\n",
              "      <td>-1.0</td>\n",
              "      <td>-1.0</td>\n",
              "      <td>-1.0</td>\n",
              "      <td>-1.0</td>\n",
              "      <td>0.002950</td>\n",
              "      <td>0.000000</td>\n",
              "      <td>-1.000000</td>\n",
              "      <td>0.006521</td>\n",
              "      <td>-1.000000</td>\n",
              "      <td>0.013826</td>\n",
              "      <td>0.000000</td>\n",
              "    </tr>\n",
              "    <tr>\n",
              "      <th>1</th>\n",
              "      <td>0.040521</td>\n",
              "      <td>0.008796</td>\n",
              "      <td>0.006236</td>\n",
              "      <td>0.027769</td>\n",
              "      <td>0.002747</td>\n",
              "      <td>0.0</td>\n",
              "      <td>0.000000</td>\n",
              "      <td>0.000000</td>\n",
              "      <td>0.000000</td>\n",
              "      <td>0.000000</td>\n",
              "      <td>0.000000</td>\n",
              "      <td>0.000000</td>\n",
              "      <td>1.000000</td>\n",
              "      <td>0.046512</td>\n",
              "      <td>0.285714</td>\n",
              "      <td>0.002040</td>\n",
              "      <td>0.214286</td>\n",
              "      <td>0.002151</td>\n",
              "      <td>0.321429</td>\n",
              "      <td>0.004233</td>\n",
              "      <td>0.098901</td>\n",
              "      <td>0.006098</td>\n",
              "      <td>0.035714</td>\n",
              "      <td>0.000227</td>\n",
              "      <td>0.023810</td>\n",
              "      <td>0.000239</td>\n",
              "      <td>0.035714</td>\n",
              "      <td>0.000247</td>\n",
              "      <td>0.098901</td>\n",
              "      <td>0.0000</td>\n",
              "      <td>0.000000</td>\n",
              "      <td>0.000000</td>\n",
              "      <td>0.000000</td>\n",
              "      <td>0.000000</td>\n",
              "      <td>0.000000</td>\n",
              "      <td>0.000000</td>\n",
              "      <td>1.000000</td>\n",
              "      <td>0.016797</td>\n",
              "      <td>0.001617</td>\n",
              "      <td>0.001579</td>\n",
              "      <td>...</td>\n",
              "      <td>0.000000</td>\n",
              "      <td>0.000000</td>\n",
              "      <td>0.000000</td>\n",
              "      <td>0.000737</td>\n",
              "      <td>0.001236</td>\n",
              "      <td>0.000000</td>\n",
              "      <td>0.000000</td>\n",
              "      <td>0.0</td>\n",
              "      <td>0.025475</td>\n",
              "      <td>0.000000</td>\n",
              "      <td>1.00000</td>\n",
              "      <td>0.001301</td>\n",
              "      <td>0.098630</td>\n",
              "      <td>0.000000</td>\n",
              "      <td>1.00000</td>\n",
              "      <td>0.029268</td>\n",
              "      <td>0.008219</td>\n",
              "      <td>0.027172</td>\n",
              "      <td>0.00</td>\n",
              "      <td>1.000000</td>\n",
              "      <td>0.017606</td>\n",
              "      <td>0.100000</td>\n",
              "      <td>0.00</td>\n",
              "      <td>1.000000</td>\n",
              "      <td>0.00</td>\n",
              "      <td>1.000000</td>\n",
              "      <td>0.0</td>\n",
              "      <td>0.0</td>\n",
              "      <td>-1.0</td>\n",
              "      <td>-1.0</td>\n",
              "      <td>-1.0</td>\n",
              "      <td>-1.0</td>\n",
              "      <td>-1.0</td>\n",
              "      <td>0.014749</td>\n",
              "      <td>0.000000</td>\n",
              "      <td>-1.000000</td>\n",
              "      <td>0.000000</td>\n",
              "      <td>-1.000000</td>\n",
              "      <td>0.170096</td>\n",
              "      <td>1.000000</td>\n",
              "    </tr>\n",
              "    <tr>\n",
              "      <th>2</th>\n",
              "      <td>0.005789</td>\n",
              "      <td>0.001257</td>\n",
              "      <td>0.000891</td>\n",
              "      <td>0.040080</td>\n",
              "      <td>0.013736</td>\n",
              "      <td>0.0</td>\n",
              "      <td>0.000000</td>\n",
              "      <td>0.000000</td>\n",
              "      <td>0.000000</td>\n",
              "      <td>0.000000</td>\n",
              "      <td>0.000000</td>\n",
              "      <td>0.000000</td>\n",
              "      <td>1.000000</td>\n",
              "      <td>0.000000</td>\n",
              "      <td>0.000000</td>\n",
              "      <td>0.000000</td>\n",
              "      <td>0.000000</td>\n",
              "      <td>0.000000</td>\n",
              "      <td>0.000000</td>\n",
              "      <td>0.000000</td>\n",
              "      <td>1.000000</td>\n",
              "      <td>0.000000</td>\n",
              "      <td>0.000000</td>\n",
              "      <td>0.000000</td>\n",
              "      <td>0.000000</td>\n",
              "      <td>0.000000</td>\n",
              "      <td>0.000000</td>\n",
              "      <td>0.000000</td>\n",
              "      <td>1.000000</td>\n",
              "      <td>0.0000</td>\n",
              "      <td>0.000000</td>\n",
              "      <td>0.000000</td>\n",
              "      <td>0.000000</td>\n",
              "      <td>0.000000</td>\n",
              "      <td>0.000000</td>\n",
              "      <td>0.000000</td>\n",
              "      <td>1.000000</td>\n",
              "      <td>0.001120</td>\n",
              "      <td>0.000070</td>\n",
              "      <td>0.000072</td>\n",
              "      <td>...</td>\n",
              "      <td>0.000000</td>\n",
              "      <td>0.010000</td>\n",
              "      <td>0.009003</td>\n",
              "      <td>0.008604</td>\n",
              "      <td>0.007759</td>\n",
              "      <td>0.000000</td>\n",
              "      <td>0.000000</td>\n",
              "      <td>0.0</td>\n",
              "      <td>0.001334</td>\n",
              "      <td>0.000000</td>\n",
              "      <td>1.00000</td>\n",
              "      <td>0.000000</td>\n",
              "      <td>1.000000</td>\n",
              "      <td>0.000000</td>\n",
              "      <td>1.00000</td>\n",
              "      <td>0.000000</td>\n",
              "      <td>1.000000</td>\n",
              "      <td>0.006697</td>\n",
              "      <td>0.00</td>\n",
              "      <td>1.000000</td>\n",
              "      <td>0.000000</td>\n",
              "      <td>1.000000</td>\n",
              "      <td>0.00</td>\n",
              "      <td>1.000000</td>\n",
              "      <td>0.00</td>\n",
              "      <td>1.000000</td>\n",
              "      <td>0.0</td>\n",
              "      <td>0.0</td>\n",
              "      <td>-1.0</td>\n",
              "      <td>-1.0</td>\n",
              "      <td>-1.0</td>\n",
              "      <td>-1.0</td>\n",
              "      <td>-1.0</td>\n",
              "      <td>0.000983</td>\n",
              "      <td>0.000000</td>\n",
              "      <td>-1.000000</td>\n",
              "      <td>0.010434</td>\n",
              "      <td>-1.000000</td>\n",
              "      <td>0.010289</td>\n",
              "      <td>0.444444</td>\n",
              "    </tr>\n",
              "    <tr>\n",
              "      <th>3</th>\n",
              "      <td>0.001447</td>\n",
              "      <td>0.000419</td>\n",
              "      <td>0.000223</td>\n",
              "      <td>0.014002</td>\n",
              "      <td>0.835165</td>\n",
              "      <td>0.0</td>\n",
              "      <td>0.000000</td>\n",
              "      <td>0.000000</td>\n",
              "      <td>0.000000</td>\n",
              "      <td>0.000000</td>\n",
              "      <td>0.000000</td>\n",
              "      <td>0.000000</td>\n",
              "      <td>1.000000</td>\n",
              "      <td>0.000000</td>\n",
              "      <td>0.000000</td>\n",
              "      <td>0.000000</td>\n",
              "      <td>0.000000</td>\n",
              "      <td>0.000000</td>\n",
              "      <td>0.000000</td>\n",
              "      <td>0.000000</td>\n",
              "      <td>1.000000</td>\n",
              "      <td>0.000000</td>\n",
              "      <td>0.000000</td>\n",
              "      <td>0.000000</td>\n",
              "      <td>0.000000</td>\n",
              "      <td>0.000000</td>\n",
              "      <td>0.000000</td>\n",
              "      <td>0.000000</td>\n",
              "      <td>1.000000</td>\n",
              "      <td>0.0000</td>\n",
              "      <td>0.000000</td>\n",
              "      <td>0.000000</td>\n",
              "      <td>0.000000</td>\n",
              "      <td>0.000000</td>\n",
              "      <td>0.000000</td>\n",
              "      <td>0.000000</td>\n",
              "      <td>1.000000</td>\n",
              "      <td>0.001120</td>\n",
              "      <td>0.000281</td>\n",
              "      <td>0.000144</td>\n",
              "      <td>...</td>\n",
              "      <td>0.000000</td>\n",
              "      <td>0.000000</td>\n",
              "      <td>0.000000</td>\n",
              "      <td>0.000000</td>\n",
              "      <td>0.000000</td>\n",
              "      <td>0.000000</td>\n",
              "      <td>0.000000</td>\n",
              "      <td>0.0</td>\n",
              "      <td>0.000265</td>\n",
              "      <td>0.000000</td>\n",
              "      <td>1.00000</td>\n",
              "      <td>0.000000</td>\n",
              "      <td>1.000000</td>\n",
              "      <td>0.000000</td>\n",
              "      <td>1.00000</td>\n",
              "      <td>0.000000</td>\n",
              "      <td>1.000000</td>\n",
              "      <td>0.000000</td>\n",
              "      <td>0.00</td>\n",
              "      <td>1.000000</td>\n",
              "      <td>0.000000</td>\n",
              "      <td>1.000000</td>\n",
              "      <td>0.00</td>\n",
              "      <td>1.000000</td>\n",
              "      <td>0.00</td>\n",
              "      <td>1.000000</td>\n",
              "      <td>0.0</td>\n",
              "      <td>0.0</td>\n",
              "      <td>-1.0</td>\n",
              "      <td>-1.0</td>\n",
              "      <td>-1.0</td>\n",
              "      <td>-1.0</td>\n",
              "      <td>-1.0</td>\n",
              "      <td>0.000000</td>\n",
              "      <td>0.006897</td>\n",
              "      <td>0.408644</td>\n",
              "      <td>0.449299</td>\n",
              "      <td>0.688535</td>\n",
              "      <td>0.691640</td>\n",
              "      <td>0.333333</td>\n",
              "    </tr>\n",
              "    <tr>\n",
              "      <th>4</th>\n",
              "      <td>0.023155</td>\n",
              "      <td>0.004398</td>\n",
              "      <td>0.002895</td>\n",
              "      <td>0.057775</td>\n",
              "      <td>0.167582</td>\n",
              "      <td>0.0</td>\n",
              "      <td>0.000000</td>\n",
              "      <td>0.000000</td>\n",
              "      <td>0.000000</td>\n",
              "      <td>0.000000</td>\n",
              "      <td>0.000000</td>\n",
              "      <td>0.000000</td>\n",
              "      <td>1.000000</td>\n",
              "      <td>0.000000</td>\n",
              "      <td>0.000000</td>\n",
              "      <td>0.000000</td>\n",
              "      <td>0.000000</td>\n",
              "      <td>0.000000</td>\n",
              "      <td>0.000000</td>\n",
              "      <td>0.000000</td>\n",
              "      <td>1.000000</td>\n",
              "      <td>0.000000</td>\n",
              "      <td>0.000000</td>\n",
              "      <td>0.000000</td>\n",
              "      <td>0.000000</td>\n",
              "      <td>0.000000</td>\n",
              "      <td>0.000000</td>\n",
              "      <td>0.000000</td>\n",
              "      <td>1.000000</td>\n",
              "      <td>0.0000</td>\n",
              "      <td>0.000000</td>\n",
              "      <td>0.000000</td>\n",
              "      <td>0.000000</td>\n",
              "      <td>0.000000</td>\n",
              "      <td>0.000000</td>\n",
              "      <td>0.000000</td>\n",
              "      <td>1.000000</td>\n",
              "      <td>0.003359</td>\n",
              "      <td>0.001055</td>\n",
              "      <td>0.001077</td>\n",
              "      <td>...</td>\n",
              "      <td>0.019102</td>\n",
              "      <td>0.071197</td>\n",
              "      <td>0.022664</td>\n",
              "      <td>0.018122</td>\n",
              "      <td>0.005619</td>\n",
              "      <td>0.076923</td>\n",
              "      <td>0.016715</td>\n",
              "      <td>0.0</td>\n",
              "      <td>0.009378</td>\n",
              "      <td>0.000000</td>\n",
              "      <td>1.00000</td>\n",
              "      <td>0.001767</td>\n",
              "      <td>0.082192</td>\n",
              "      <td>0.000000</td>\n",
              "      <td>1.00000</td>\n",
              "      <td>0.007067</td>\n",
              "      <td>0.082192</td>\n",
              "      <td>0.005071</td>\n",
              "      <td>0.00</td>\n",
              "      <td>1.000000</td>\n",
              "      <td>0.000000</td>\n",
              "      <td>1.000000</td>\n",
              "      <td>0.00</td>\n",
              "      <td>1.000000</td>\n",
              "      <td>0.00</td>\n",
              "      <td>1.000000</td>\n",
              "      <td>0.0</td>\n",
              "      <td>0.0</td>\n",
              "      <td>-1.0</td>\n",
              "      <td>-1.0</td>\n",
              "      <td>-1.0</td>\n",
              "      <td>-1.0</td>\n",
              "      <td>-1.0</td>\n",
              "      <td>0.011799</td>\n",
              "      <td>0.003448</td>\n",
              "      <td>0.431565</td>\n",
              "      <td>0.411477</td>\n",
              "      <td>0.428061</td>\n",
              "      <td>0.880386</td>\n",
              "      <td>0.666667</td>\n",
              "    </tr>\n",
              "  </tbody>\n",
              "</table>\n",
              "<p>5 rows × 353 columns</p>\n",
              "</div>\n",
              "      <button class=\"colab-df-convert\" onclick=\"convertToInteractive('df-9c53a64b-e058-44e3-a8fe-a7d91993eb84')\"\n",
              "              title=\"Convert this dataframe to an interactive table.\"\n",
              "              style=\"display:none;\">\n",
              "        \n",
              "  <svg xmlns=\"http://www.w3.org/2000/svg\" height=\"24px\"viewBox=\"0 0 24 24\"\n",
              "       width=\"24px\">\n",
              "    <path d=\"M0 0h24v24H0V0z\" fill=\"none\"/>\n",
              "    <path d=\"M18.56 5.44l.94 2.06.94-2.06 2.06-.94-2.06-.94-.94-2.06-.94 2.06-2.06.94zm-11 1L8.5 8.5l.94-2.06 2.06-.94-2.06-.94L8.5 2.5l-.94 2.06-2.06.94zm10 10l.94 2.06.94-2.06 2.06-.94-2.06-.94-.94-2.06-.94 2.06-2.06.94z\"/><path d=\"M17.41 7.96l-1.37-1.37c-.4-.4-.92-.59-1.43-.59-.52 0-1.04.2-1.43.59L10.3 9.45l-7.72 7.72c-.78.78-.78 2.05 0 2.83L4 21.41c.39.39.9.59 1.41.59.51 0 1.02-.2 1.41-.59l7.78-7.78 2.81-2.81c.8-.78.8-2.07 0-2.86zM5.41 20L4 18.59l7.72-7.72 1.47 1.35L5.41 20z\"/>\n",
              "  </svg>\n",
              "      </button>\n",
              "      \n",
              "  <style>\n",
              "    .colab-df-container {\n",
              "      display:flex;\n",
              "      flex-wrap:wrap;\n",
              "      gap: 12px;\n",
              "    }\n",
              "\n",
              "    .colab-df-convert {\n",
              "      background-color: #E8F0FE;\n",
              "      border: none;\n",
              "      border-radius: 50%;\n",
              "      cursor: pointer;\n",
              "      display: none;\n",
              "      fill: #1967D2;\n",
              "      height: 32px;\n",
              "      padding: 0 0 0 0;\n",
              "      width: 32px;\n",
              "    }\n",
              "\n",
              "    .colab-df-convert:hover {\n",
              "      background-color: #E2EBFA;\n",
              "      box-shadow: 0px 1px 2px rgba(60, 64, 67, 0.3), 0px 1px 3px 1px rgba(60, 64, 67, 0.15);\n",
              "      fill: #174EA6;\n",
              "    }\n",
              "\n",
              "    [theme=dark] .colab-df-convert {\n",
              "      background-color: #3B4455;\n",
              "      fill: #D2E3FC;\n",
              "    }\n",
              "\n",
              "    [theme=dark] .colab-df-convert:hover {\n",
              "      background-color: #434B5C;\n",
              "      box-shadow: 0px 1px 3px 1px rgba(0, 0, 0, 0.15);\n",
              "      filter: drop-shadow(0px 1px 2px rgba(0, 0, 0, 0.3));\n",
              "      fill: #FFFFFF;\n",
              "    }\n",
              "  </style>\n",
              "\n",
              "      <script>\n",
              "        const buttonEl =\n",
              "          document.querySelector('#df-9c53a64b-e058-44e3-a8fe-a7d91993eb84 button.colab-df-convert');\n",
              "        buttonEl.style.display =\n",
              "          google.colab.kernel.accessAllowed ? 'block' : 'none';\n",
              "\n",
              "        async function convertToInteractive(key) {\n",
              "          const element = document.querySelector('#df-9c53a64b-e058-44e3-a8fe-a7d91993eb84');\n",
              "          const dataTable =\n",
              "            await google.colab.kernel.invokeFunction('convertToInteractive',\n",
              "                                                     [key], {});\n",
              "          if (!dataTable) return;\n",
              "\n",
              "          const docLinkHtml = 'Like what you see? Visit the ' +\n",
              "            '<a target=\"_blank\" href=https://colab.research.google.com/notebooks/data_table.ipynb>data table notebook</a>'\n",
              "            + ' to learn more about interactive tables.';\n",
              "          element.innerHTML = '';\n",
              "          dataTable['output_type'] = 'display_data';\n",
              "          await google.colab.output.renderOutput(dataTable, element);\n",
              "          const docLink = document.createElement('div');\n",
              "          docLink.innerHTML = docLinkHtml;\n",
              "          element.appendChild(docLink);\n",
              "        }\n",
              "      </script>\n",
              "    </div>\n",
              "  </div>\n",
              "  "
            ],
            "text/plain": [
              "          0         1         2  ...       350       351       352\n",
              "0  0.030391  0.011099  0.011581  ... -1.000000  0.013826  0.000000\n",
              "1  0.040521  0.008796  0.006236  ... -1.000000  0.170096  1.000000\n",
              "2  0.005789  0.001257  0.000891  ... -1.000000  0.010289  0.444444\n",
              "3  0.001447  0.000419  0.000223  ...  0.688535  0.691640  0.333333\n",
              "4  0.023155  0.004398  0.002895  ...  0.428061  0.880386  0.666667\n",
              "\n",
              "[5 rows x 353 columns]"
            ]
          },
          "metadata": {},
          "execution_count": 35
        }
      ]
    },
    {
      "cell_type": "code",
      "source": [
        "predictions = (model.predict(X_test.values))"
      ],
      "metadata": {
        "id": "afsMfKA49DXg"
      },
      "id": "afsMfKA49DXg",
      "execution_count": null,
      "outputs": []
    },
    {
      "cell_type": "code",
      "source": [
        "pred = np.concatenate(predictions,axis=0)\n",
        "X_test['prediction'] = pred.tolist()\n",
        "X_test['id'] = ids\n",
        "X_test['label'] = y_test\n",
        "X_test['rank'] =X_test.groupby('id')['prediction'].rank('dense',ascending = False)\n",
        "\n",
        "orders = X_test[X_test['label'] ==1]\n",
        "mean_rank = orders['rank'].mean()"
      ],
      "metadata": {
        "id": "LA_BVZ1Q8skY"
      },
      "id": "LA_BVZ1Q8skY",
      "execution_count": null,
      "outputs": []
    },
    {
      "cell_type": "code",
      "execution_count": null,
      "metadata": {
        "id": "M6DeUe55IYLv",
        "outputId": "f0604590-5b82-44cb-ab34-d2749d28bd09",
        "colab": {
          "base_uri": "https://localhost:8080/"
        }
      },
      "outputs": [
        {
          "output_type": "execute_result",
          "data": {
            "text/plain": [
              "3.5491"
            ]
          },
          "metadata": {},
          "execution_count": 38
        }
      ],
      "source": [
        "mean_rank"
      ],
      "id": "M6DeUe55IYLv"
    },
    {
      "cell_type": "markdown",
      "metadata": {
        "id": "mbc9D6ISIYLv"
      },
      "source": [
        "##### Question 3\n",
        "In a production setting (real time answers, lots of users etc.):\n",
        "- What are the advantages/drawbacks of this approach ?\n",
        "- Which solution can we use to reduce these drawbacks ?"
      ],
      "id": "mbc9D6ISIYLv"
    },
    {
      "cell_type": "markdown",
      "metadata": {
        "id": "YUg2ZJNrIYLv"
      },
      "source": [
        "##### Answer"
      ],
      "id": "YUg2ZJNrIYLv"
    },
    {
      "cell_type": "markdown",
      "metadata": {
        "id": "JZgIdVNOIYLv"
      },
      "source": [
        "**Advantages**:\n",
        "1. DNN is composite in the sense that the function is trained end-to-end. In practice, when recommendation often involves multi-modal data, DNN offers an attractive alternative to other methods because of its joint representation learning. Multiple neural building blocks can be composed into a single differentiate function\n",
        "\n",
        "2. DNN techniques have high flexibility, not just because it can be easily combined with other neural structures to formulate hybrid models to accommodate different needs, its hyperparameters can also be fine-tuned to achieve better performance. \n",
        "\n",
        "3. DNN is capable of handling non-linearity in data. It's capable of capturing intricate user-item interaction patterns. \n",
        "\n",
        "\n",
        "**Disadvantages**:\n",
        "1. DNN requires relatively large amount of data to perform their functions, which is not always available. \n",
        "\n",
        "2. DNN requires fine-tuning of the hyperparameters that can be challenging.\n",
        "\n",
        "3. In general, DNN has low interpretability, which is not desirable in a production setting. \n",
        "\n",
        "**Solution**:\n",
        "We can use cross-validation or grid-search to improve our DNN implementation and to avoid over-fitting. We can also use GPU to improve the efficiency of our implementation.\n",
        "\n"
      ],
      "id": "JZgIdVNOIYLv"
    }
  ],
  "metadata": {
    "kernelspec": {
      "display_name": "Python 3",
      "language": "python",
      "name": "python3"
    },
    "language_info": {
      "codemirror_mode": {
        "name": "ipython",
        "version": 3
      },
      "file_extension": ".py",
      "mimetype": "text/x-python",
      "name": "python",
      "nbconvert_exporter": "python",
      "pygments_lexer": "ipython3",
      "version": "3.8.5"
    },
    "toc": {
      "base_numbering": 1,
      "nav_menu": {},
      "number_sections": true,
      "sideBar": true,
      "skip_h1_title": false,
      "title_cell": "Table of Contents",
      "title_sidebar": "Contents",
      "toc_cell": false,
      "toc_position": {},
      "toc_section_display": true,
      "toc_window_display": false
    },
    "colab": {
      "provenance": []
    }
  },
  "nbformat": 4,
  "nbformat_minor": 5
}